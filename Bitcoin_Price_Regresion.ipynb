{
 "cells": [
  {
   "cell_type": "markdown",
   "metadata": {},
   "source": [
    "the goal is to create a regression model where the model is fed a time series somehow"
   ]
  },
  {
   "cell_type": "code",
   "execution_count": 76,
   "metadata": {
    "collapsed": false
   },
   "outputs": [],
   "source": [
    "import graphlab as gl\n",
    "import datetime\n",
    "from datetime import timedelta\n"
   ]
  },
  {
   "cell_type": "code",
   "execution_count": 77,
   "metadata": {
    "collapsed": false,
    "scrolled": true
   },
   "outputs": [
    {
     "data": {
      "text/html": [
       "<pre>Finished parsing file C:\\Users\\ADMIN\\notebook\\Bitcoin-Market-Regression\\coinbaseUSD.csv</pre>"
      ],
      "text/plain": [
       "Finished parsing file C:\\Users\\ADMIN\\notebook\\Bitcoin-Market-Regression\\coinbaseUSD.csv"
      ]
     },
     "metadata": {},
     "output_type": "display_data"
    },
    {
     "data": {
      "text/html": [
       "<pre>Parsing completed. Parsed 100 lines in 0.66978 secs.</pre>"
      ],
      "text/plain": [
       "Parsing completed. Parsed 100 lines in 0.66978 secs."
      ]
     },
     "metadata": {},
     "output_type": "display_data"
    },
    {
     "name": "stdout",
     "output_type": "stream",
     "text": [
      "------------------------------------------------------\n",
      "Inferred types from first 100 line(s) of file as \n",
      "column_type_hints=[long,float,float]\n",
      "If parsing fails due to incorrect types, you can correct\n",
      "the inferred type list above and pass it to read_csv in\n",
      "the column_type_hints argument\n",
      "------------------------------------------------------\n"
     ]
    },
    {
     "data": {
      "text/html": [
       "<pre>Read 1219153 lines. Lines per second: 1.11757e+006</pre>"
      ],
      "text/plain": [
       "Read 1219153 lines. Lines per second: 1.11757e+006"
      ]
     },
     "metadata": {},
     "output_type": "display_data"
    },
    {
     "data": {
      "text/html": [
       "<pre>Read 14592009 lines. Lines per second: 2.30857e+006</pre>"
      ],
      "text/plain": [
       "Read 14592009 lines. Lines per second: 2.30857e+006"
      ]
     },
     "metadata": {},
     "output_type": "display_data"
    },
    {
     "data": {
      "text/html": [
       "<pre>Finished parsing file C:\\Users\\ADMIN\\notebook\\Bitcoin-Market-Regression\\coinbaseUSD.csv</pre>"
      ],
      "text/plain": [
       "Finished parsing file C:\\Users\\ADMIN\\notebook\\Bitcoin-Market-Regression\\coinbaseUSD.csv"
      ]
     },
     "metadata": {},
     "output_type": "display_data"
    },
    {
     "data": {
      "text/html": [
       "<pre>Parsing completed. Parsed 27873479 lines in 10.922 secs.</pre>"
      ],
      "text/plain": [
       "Parsing completed. Parsed 27873479 lines in 10.922 secs."
      ]
     },
     "metadata": {},
     "output_type": "display_data"
    }
   ],
   "source": [
    "prices = gl.SFrame.read_csv('coinbaseUSD.csv',header=False)"
   ]
  },
  {
   "cell_type": "code",
   "execution_count": 78,
   "metadata": {
    "collapsed": false
   },
   "outputs": [],
   "source": [
    "prices.head()\n",
    "prices['int_times']=prices['X1']"
   ]
  },
  {
   "cell_type": "code",
   "execution_count": 79,
   "metadata": {
    "collapsed": false
   },
   "outputs": [],
   "source": [
    "prices['X1']= prices['X1'].apply(lambda x: datetime.datetime.utcfromtimestamp(x) )"
   ]
  },
  {
   "cell_type": "code",
   "execution_count": 80,
   "metadata": {
    "collapsed": false
   },
   "outputs": [
    {
     "data": {
      "text/html": [
       "<div style=\"max-height:1000px;max-width:1500px;overflow:auto;\"><table frame=\"box\" rules=\"cols\">\n",
       "    <tr>\n",
       "        <th style=\"padding-left: 1em; padding-right: 1em; text-align: center\">date</th>\n",
       "        <th style=\"padding-left: 1em; padding-right: 1em; text-align: center\">price</th>\n",
       "        <th style=\"padding-left: 1em; padding-right: 1em; text-align: center\">volume</th>\n",
       "        <th style=\"padding-left: 1em; padding-right: 1em; text-align: center\">int_times</th>\n",
       "    </tr>\n",
       "    <tr>\n",
       "        <td style=\"padding-left: 1em; padding-right: 1em; text-align: center; vertical-align: top\">2014-12-01 05:33:56</td>\n",
       "        <td style=\"padding-left: 1em; padding-right: 1em; text-align: center; vertical-align: top\">300.0</td>\n",
       "        <td style=\"padding-left: 1em; padding-right: 1em; text-align: center; vertical-align: top\">0.01</td>\n",
       "        <td style=\"padding-left: 1em; padding-right: 1em; text-align: center; vertical-align: top\">1417412036</td>\n",
       "    </tr>\n",
       "    <tr>\n",
       "        <td style=\"padding-left: 1em; padding-right: 1em; text-align: center; vertical-align: top\">2014-12-01 05:40:23</td>\n",
       "        <td style=\"padding-left: 1em; padding-right: 1em; text-align: center; vertical-align: top\">300.0</td>\n",
       "        <td style=\"padding-left: 1em; padding-right: 1em; text-align: center; vertical-align: top\">0.01</td>\n",
       "        <td style=\"padding-left: 1em; padding-right: 1em; text-align: center; vertical-align: top\">1417412423</td>\n",
       "    </tr>\n",
       "    <tr>\n",
       "        <td style=\"padding-left: 1em; padding-right: 1em; text-align: center; vertical-align: top\">2014-12-01 06:24:08</td>\n",
       "        <td style=\"padding-left: 1em; padding-right: 1em; text-align: center; vertical-align: top\">370.0</td>\n",
       "        <td style=\"padding-left: 1em; padding-right: 1em; text-align: center; vertical-align: top\">0.01</td>\n",
       "        <td style=\"padding-left: 1em; padding-right: 1em; text-align: center; vertical-align: top\">1417415048</td>\n",
       "    </tr>\n",
       "    <tr>\n",
       "        <td style=\"padding-left: 1em; padding-right: 1em; text-align: center; vertical-align: top\">2014-12-01 06:50:12</td>\n",
       "        <td style=\"padding-left: 1em; padding-right: 1em; text-align: center; vertical-align: top\">370.0</td>\n",
       "        <td style=\"padding-left: 1em; padding-right: 1em; text-align: center; vertical-align: top\">0.02655554</td>\n",
       "        <td style=\"padding-left: 1em; padding-right: 1em; text-align: center; vertical-align: top\">1417416612</td>\n",
       "    </tr>\n",
       "    <tr>\n",
       "        <td style=\"padding-left: 1em; padding-right: 1em; text-align: center; vertical-align: top\">2014-12-02 05:29:26</td>\n",
       "        <td style=\"padding-left: 1em; padding-right: 1em; text-align: center; vertical-align: top\">377.0</td>\n",
       "        <td style=\"padding-left: 1em; padding-right: 1em; text-align: center; vertical-align: top\">0.01</td>\n",
       "        <td style=\"padding-left: 1em; padding-right: 1em; text-align: center; vertical-align: top\">1417498166</td>\n",
       "    </tr>\n",
       "    <tr>\n",
       "        <td style=\"padding-left: 1em; padding-right: 1em; text-align: center; vertical-align: top\">2014-12-02 10:59:09</td>\n",
       "        <td style=\"padding-left: 1em; padding-right: 1em; text-align: center; vertical-align: top\">377.75</td>\n",
       "        <td style=\"padding-left: 1em; padding-right: 1em; text-align: center; vertical-align: top\">0.25</td>\n",
       "        <td style=\"padding-left: 1em; padding-right: 1em; text-align: center; vertical-align: top\">1417517949</td>\n",
       "    </tr>\n",
       "    <tr>\n",
       "        <td style=\"padding-left: 1em; padding-right: 1em; text-align: center; vertical-align: top\">2014-12-02 10:59:09</td>\n",
       "        <td style=\"padding-left: 1em; padding-right: 1em; text-align: center; vertical-align: top\">378.0</td>\n",
       "        <td style=\"padding-left: 1em; padding-right: 1em; text-align: center; vertical-align: top\">3.75</td>\n",
       "        <td style=\"padding-left: 1em; padding-right: 1em; text-align: center; vertical-align: top\">1417517949</td>\n",
       "    </tr>\n",
       "    <tr>\n",
       "        <td style=\"padding-left: 1em; padding-right: 1em; text-align: center; vertical-align: top\">2014-12-02 11:04:17</td>\n",
       "        <td style=\"padding-left: 1em; padding-right: 1em; text-align: center; vertical-align: top\">378.0</td>\n",
       "        <td style=\"padding-left: 1em; padding-right: 1em; text-align: center; vertical-align: top\">4.9</td>\n",
       "        <td style=\"padding-left: 1em; padding-right: 1em; text-align: center; vertical-align: top\">1417518257</td>\n",
       "    </tr>\n",
       "    <tr>\n",
       "        <td style=\"padding-left: 1em; padding-right: 1em; text-align: center; vertical-align: top\">2014-12-02 11:05:40</td>\n",
       "        <td style=\"padding-left: 1em; padding-right: 1em; text-align: center; vertical-align: top\">378.0</td>\n",
       "        <td style=\"padding-left: 1em; padding-right: 1em; text-align: center; vertical-align: top\">5.2</td>\n",
       "        <td style=\"padding-left: 1em; padding-right: 1em; text-align: center; vertical-align: top\">1417518340</td>\n",
       "    </tr>\n",
       "    <tr>\n",
       "        <td style=\"padding-left: 1em; padding-right: 1em; text-align: center; vertical-align: top\">2014-12-02 18:43:00</td>\n",
       "        <td style=\"padding-left: 1em; padding-right: 1em; text-align: center; vertical-align: top\">378.0</td>\n",
       "        <td style=\"padding-left: 1em; padding-right: 1em; text-align: center; vertical-align: top\">0.1</td>\n",
       "        <td style=\"padding-left: 1em; padding-right: 1em; text-align: center; vertical-align: top\">1417545780</td>\n",
       "    </tr>\n",
       "</table>\n",
       "[27873479 rows x 4 columns]<br/>Note: Only the head of the SFrame is printed.<br/>You can use print_rows(num_rows=m, num_columns=n) to print more rows and columns.\n",
       "</div>"
      ],
      "text/plain": [
       "Columns:\n",
       "\tdate\tdatetime\n",
       "\tprice\tfloat\n",
       "\tvolume\tfloat\n",
       "\tint_times\tint\n",
       "\n",
       "Rows: 27873479\n",
       "\n",
       "Data:\n",
       "+---------------------+--------+------------+------------+\n",
       "|         date        | price  |   volume   | int_times  |\n",
       "+---------------------+--------+------------+------------+\n",
       "| 2014-12-01 05:33:56 | 300.0  |    0.01    | 1417412036 |\n",
       "| 2014-12-01 05:40:23 | 300.0  |    0.01    | 1417412423 |\n",
       "| 2014-12-01 06:24:08 | 370.0  |    0.01    | 1417415048 |\n",
       "| 2014-12-01 06:50:12 | 370.0  | 0.02655554 | 1417416612 |\n",
       "| 2014-12-02 05:29:26 | 377.0  |    0.01    | 1417498166 |\n",
       "| 2014-12-02 10:59:09 | 377.75 |    0.25    | 1417517949 |\n",
       "| 2014-12-02 10:59:09 | 378.0  |    3.75    | 1417517949 |\n",
       "| 2014-12-02 11:04:17 | 378.0  |    4.9     | 1417518257 |\n",
       "| 2014-12-02 11:05:40 | 378.0  |    5.2     | 1417518340 |\n",
       "| 2014-12-02 18:43:00 | 378.0  |    0.1     | 1417545780 |\n",
       "+---------------------+--------+------------+------------+\n",
       "[27873479 rows x 4 columns]\n",
       "Note: Only the head of the SFrame is printed.\n",
       "You can use print_rows(num_rows=m, num_columns=n) to print more rows and columns."
      ]
     },
     "execution_count": 80,
     "metadata": {},
     "output_type": "execute_result"
    }
   ],
   "source": [
    "prices.rename({'X1':'date','X2':'price','X3':'volume'})"
   ]
  },
  {
   "cell_type": "code",
   "execution_count": 81,
   "metadata": {
    "collapsed": false
   },
   "outputs": [
    {
     "data": {
      "text/plain": [
       "897.982"
      ]
     },
     "execution_count": 81,
     "metadata": {},
     "output_type": "execute_result"
    }
   ],
   "source": [
    "prices['volume'].max()"
   ]
  },
  {
   "cell_type": "code",
   "execution_count": 82,
   "metadata": {
    "collapsed": false
   },
   "outputs": [],
   "source": [
    "time_price= gl.TimeSeries(prices,index='date')"
   ]
  },
  {
   "cell_type": "code",
   "execution_count": 83,
   "metadata": {
    "collapsed": false
   },
   "outputs": [],
   "source": [
    "delta_day = timedelta(days=1)\n",
    "delta_hour =  timedelta(hours=2) "
   ]
  },
  {
   "cell_type": "code",
   "execution_count": 84,
   "metadata": {
    "collapsed": false
   },
   "outputs": [],
   "source": [
    "daily_agg=time_price.resample(delta_day,downsample_method='mean',upsample_method='linear')\n",
    "hourly_agg=time_price.resample(delta_hour,downsample_method='mean',upsample_method='linear')"
   ]
  },
  {
   "cell_type": "code",
   "execution_count": 85,
   "metadata": {
    "collapsed": true
   },
   "outputs": [],
   "source": [
    "roll_period=[1,2,3,4,5,10,20,30,40,50,100,200,300]"
   ]
  },
  {
   "cell_type": "markdown",
   "metadata": {},
   "source": [
    "\n",
    "\n",
    "\n",
    "Creating derived columns for the daily data\n",
    "\n",
    "\n"
   ]
  },
  {
   "cell_type": "code",
   "execution_count": 86,
   "metadata": {
    "collapsed": true
   },
   "outputs": [],
   "source": [
    "for x in roll_period:\n",
    "    temp_name = 'pri_rol_'+str(x)\n",
    "    daily_agg[temp_name]=daily_agg['price'].rolling_mean(-1-x,-1,min_observations=0)"
   ]
  },
  {
   "cell_type": "code",
   "execution_count": 87,
   "metadata": {
    "collapsed": true
   },
   "outputs": [],
   "source": [
    "for x in roll_period:\n",
    "    temp_name = 'vol_rol_'+str(x)\n",
    "    daily_agg[temp_name]=daily_agg['volume'].rolling_sum(-1-x,-1,min_observations=0)"
   ]
  },
  {
   "cell_type": "code",
   "execution_count": 88,
   "metadata": {
    "collapsed": false
   },
   "outputs": [],
   "source": [
    "for x in roll_period:\n",
    "    temp_name = 'min_rol_'+str(x)\n",
    "    daily_agg[temp_name]=daily_agg['price'].rolling_min(-1-x,-1,min_observations=0)"
   ]
  },
  {
   "cell_type": "code",
   "execution_count": 89,
   "metadata": {
    "collapsed": false
   },
   "outputs": [],
   "source": [
    "for x in roll_period:\n",
    "    temp_name = 'max_rol_'+str(x)\n",
    "    daily_agg[temp_name]=daily_agg['price'].rolling_max(-1-x,-1,min_observations=0)"
   ]
  },
  {
   "cell_type": "markdown",
   "metadata": {},
   "source": [
    "\n",
    "\n",
    "\n",
    "Creating the derived columns for the hourly Data\n",
    "\n",
    "\n"
   ]
  },
  {
   "cell_type": "code",
   "execution_count": 90,
   "metadata": {
    "collapsed": true
   },
   "outputs": [],
   "source": [
    "for x in roll_period:\n",
    "    temp_name = 'pri_rol_'+str(x)\n",
    "    hourly_agg[temp_name]=hourly_agg['price'].rolling_mean(-1-x,-1,min_observations=0)"
   ]
  },
  {
   "cell_type": "code",
   "execution_count": 91,
   "metadata": {
    "collapsed": true
   },
   "outputs": [],
   "source": [
    "for x in roll_period:\n",
    "    temp_name = 'vol_rol_'+str(x)\n",
    "    hourly_agg[temp_name]=hourly_agg['volume'].rolling_sum(-1-x,-1,min_observations=0)"
   ]
  },
  {
   "cell_type": "code",
   "execution_count": 92,
   "metadata": {
    "collapsed": false
   },
   "outputs": [],
   "source": [
    "model_data=daily_agg.to_sframe().remove_column('date').dropna()\n",
    "\n"
   ]
  },
  {
   "cell_type": "markdown",
   "metadata": {},
   "source": []
  },
  {
   "cell_type": "code",
   "execution_count": 131,
   "metadata": {
    "collapsed": false
   },
   "outputs": [
    {
     "data": {
      "text/html": [
       "<div style=\"max-height:1000px;max-width:1500px;overflow:auto;\"><table frame=\"box\" rules=\"cols\">\n",
       "    <tr>\n",
       "        <th style=\"padding-left: 1em; padding-right: 1em; text-align: center\">int_times</th>\n",
       "        <th style=\"padding-left: 1em; padding-right: 1em; text-align: center\">price</th>\n",
       "        <th style=\"padding-left: 1em; padding-right: 1em; text-align: center\">volume</th>\n",
       "        <th style=\"padding-left: 1em; padding-right: 1em; text-align: center\">pri_rol_1</th>\n",
       "        <th style=\"padding-left: 1em; padding-right: 1em; text-align: center\">pri_rol_2</th>\n",
       "        <th style=\"padding-left: 1em; padding-right: 1em; text-align: center\">pri_rol_3</th>\n",
       "        <th style=\"padding-left: 1em; padding-right: 1em; text-align: center\">pri_rol_4</th>\n",
       "    </tr>\n",
       "    <tr>\n",
       "        <td style=\"padding-left: 1em; padding-right: 1em; text-align: center; vertical-align: top\">1417526708.12</td>\n",
       "        <td style=\"padding-left: 1em; padding-right: 1em; text-align: center; vertical-align: top\">377.84375</td>\n",
       "        <td style=\"padding-left: 1em; padding-right: 1em; text-align: center; vertical-align: top\">1.8767</td>\n",
       "        <td style=\"padding-left: 1em; padding-right: 1em; text-align: center; vertical-align: top\">335.0</td>\n",
       "        <td style=\"padding-left: 1em; padding-right: 1em; text-align: center; vertical-align: top\">335.0</td>\n",
       "        <td style=\"padding-left: 1em; padding-right: 1em; text-align: center; vertical-align: top\">335.0</td>\n",
       "        <td style=\"padding-left: 1em; padding-right: 1em; text-align: center; vertical-align: top\">335.0</td>\n",
       "    </tr>\n",
       "    <tr>\n",
       "        <td style=\"padding-left: 1em; padding-right: 1em; text-align: center; vertical-align: top\">1417612312.0</td>\n",
       "        <td style=\"padding-left: 1em; padding-right: 1em; text-align: center; vertical-align: top\">377.818333333</td>\n",
       "        <td style=\"padding-left: 1em; padding-right: 1em; text-align: center; vertical-align: top\">0.0911014033333</td>\n",
       "        <td style=\"padding-left: 1em; padding-right: 1em; text-align: center; vertical-align: top\">356.421875</td>\n",
       "        <td style=\"padding-left: 1em; padding-right: 1em; text-align: center; vertical-align: top\">356.421875</td>\n",
       "        <td style=\"padding-left: 1em; padding-right: 1em; text-align: center; vertical-align: top\">356.421875</td>\n",
       "        <td style=\"padding-left: 1em; padding-right: 1em; text-align: center; vertical-align: top\">356.421875</td>\n",
       "    </tr>\n",
       "    <tr>\n",
       "        <td style=\"padding-left: 1em; padding-right: 1em; text-align: center; vertical-align: top\">1417657685.0</td>\n",
       "        <td style=\"padding-left: 1em; padding-right: 1em; text-align: center; vertical-align: top\">377.1</td>\n",
       "        <td style=\"padding-left: 1em; padding-right: 1em; text-align: center; vertical-align: top\">0.01</td>\n",
       "        <td style=\"padding-left: 1em; padding-right: 1em; text-align: center; vertical-align: top\">377.831041667</td>\n",
       "        <td style=\"padding-left: 1em; padding-right: 1em; text-align: center; vertical-align: top\">363.554027778</td>\n",
       "        <td style=\"padding-left: 1em; padding-right: 1em; text-align: center; vertical-align: top\">363.554027778</td>\n",
       "        <td style=\"padding-left: 1em; padding-right: 1em; text-align: center; vertical-align: top\">363.554027778</td>\n",
       "    </tr>\n",
       "    <tr>\n",
       "        <td style=\"padding-left: 1em; padding-right: 1em; text-align: center; vertical-align: top\">1417743885.0</td>\n",
       "        <td style=\"padding-left: 1em; padding-right: 1em; text-align: center; vertical-align: top\">377.55</td>\n",
       "        <td style=\"padding-left: 1em; padding-right: 1em; text-align: center; vertical-align: top\">0.0125</td>\n",
       "        <td style=\"padding-left: 1em; padding-right: 1em; text-align: center; vertical-align: top\">377.459166667</td>\n",
       "        <td style=\"padding-left: 1em; padding-right: 1em; text-align: center; vertical-align: top\">377.587361111</td>\n",
       "        <td style=\"padding-left: 1em; padding-right: 1em; text-align: center; vertical-align: top\">366.940520833</td>\n",
       "        <td style=\"padding-left: 1em; padding-right: 1em; text-align: center; vertical-align: top\">366.940520833</td>\n",
       "    </tr>\n",
       "    <tr>\n",
       "        <td style=\"padding-left: 1em; padding-right: 1em; text-align: center; vertical-align: top\">1417830085.0</td>\n",
       "        <td style=\"padding-left: 1em; padding-right: 1em; text-align: center; vertical-align: top\">378.0</td>\n",
       "        <td style=\"padding-left: 1em; padding-right: 1em; text-align: center; vertical-align: top\">0.015</td>\n",
       "        <td style=\"padding-left: 1em; padding-right: 1em; text-align: center; vertical-align: top\">377.325</td>\n",
       "        <td style=\"padding-left: 1em; padding-right: 1em; text-align: center; vertical-align: top\">377.489444444</td>\n",
       "        <td style=\"padding-left: 1em; padding-right: 1em; text-align: center; vertical-align: top\">377.578020833</td>\n",
       "        <td style=\"padding-left: 1em; padding-right: 1em; text-align: center; vertical-align: top\">369.062416667</td>\n",
       "    </tr>\n",
       "    <tr>\n",
       "        <td style=\"padding-left: 1em; padding-right: 1em; text-align: center; vertical-align: top\">1417953835.5</td>\n",
       "        <td style=\"padding-left: 1em; padding-right: 1em; text-align: center; vertical-align: top\">376.5025</td>\n",
       "        <td style=\"padding-left: 1em; padding-right: 1em; text-align: center; vertical-align: top\">0.06625</td>\n",
       "        <td style=\"padding-left: 1em; padding-right: 1em; text-align: center; vertical-align: top\">377.775</td>\n",
       "        <td style=\"padding-left: 1em; padding-right: 1em; text-align: center; vertical-align: top\">377.55</td>\n",
       "        <td style=\"padding-left: 1em; padding-right: 1em; text-align: center; vertical-align: top\">377.617083333</td>\n",
       "        <td style=\"padding-left: 1em; padding-right: 1em; text-align: center; vertical-align: top\">377.662416667</td>\n",
       "    </tr>\n",
       "    <tr>\n",
       "        <td style=\"padding-left: 1em; padding-right: 1em; text-align: center; vertical-align: top\">1418077586.0</td>\n",
       "        <td style=\"padding-left: 1em; padding-right: 1em; text-align: center; vertical-align: top\">375.005</td>\n",
       "        <td style=\"padding-left: 1em; padding-right: 1em; text-align: center; vertical-align: top\">0.1175</td>\n",
       "        <td style=\"padding-left: 1em; padding-right: 1em; text-align: center; vertical-align: top\">377.25125</td>\n",
       "        <td style=\"padding-left: 1em; padding-right: 1em; text-align: center; vertical-align: top\">377.350833333</td>\n",
       "        <td style=\"padding-left: 1em; padding-right: 1em; text-align: center; vertical-align: top\">377.288125</td>\n",
       "        <td style=\"padding-left: 1em; padding-right: 1em; text-align: center; vertical-align: top\">377.394166667</td>\n",
       "    </tr>\n",
       "    <tr>\n",
       "        <td style=\"padding-left: 1em; padding-right: 1em; text-align: center; vertical-align: top\">1418128481.25</td>\n",
       "        <td style=\"padding-left: 1em; padding-right: 1em; text-align: center; vertical-align: top\">377.1275</td>\n",
       "        <td style=\"padding-left: 1em; padding-right: 1em; text-align: center; vertical-align: top\">0.06375</td>\n",
       "        <td style=\"padding-left: 1em; padding-right: 1em; text-align: center; vertical-align: top\">375.75375</td>\n",
       "        <td style=\"padding-left: 1em; padding-right: 1em; text-align: center; vertical-align: top\">376.5025</td>\n",
       "        <td style=\"padding-left: 1em; padding-right: 1em; text-align: center; vertical-align: top\">376.764375</td>\n",
       "        <td style=\"padding-left: 1em; padding-right: 1em; text-align: center; vertical-align: top\">376.8315</td>\n",
       "    </tr>\n",
       "    <tr>\n",
       "        <td style=\"padding-left: 1em; padding-right: 1em; text-align: center; vertical-align: top\">1418179376.5</td>\n",
       "        <td style=\"padding-left: 1em; padding-right: 1em; text-align: center; vertical-align: top\">379.25</td>\n",
       "        <td style=\"padding-left: 1em; padding-right: 1em; text-align: center; vertical-align: top\">0.01</td>\n",
       "        <td style=\"padding-left: 1em; padding-right: 1em; text-align: center; vertical-align: top\">376.06625</td>\n",
       "        <td style=\"padding-left: 1em; padding-right: 1em; text-align: center; vertical-align: top\">376.211666667</td>\n",
       "        <td style=\"padding-left: 1em; padding-right: 1em; text-align: center; vertical-align: top\">376.65875</td>\n",
       "        <td style=\"padding-left: 1em; padding-right: 1em; text-align: center; vertical-align: top\">376.837</td>\n",
       "    </tr>\n",
       "    <tr>\n",
       "        <td style=\"padding-left: 1em; padding-right: 1em; text-align: center; vertical-align: top\">1418267479.45</td>\n",
       "        <td style=\"padding-left: 1em; padding-right: 1em; text-align: center; vertical-align: top\">371.074</td>\n",
       "        <td style=\"padding-left: 1em; padding-right: 1em; text-align: center; vertical-align: top\">0.32</td>\n",
       "        <td style=\"padding-left: 1em; padding-right: 1em; text-align: center; vertical-align: top\">378.18875</td>\n",
       "        <td style=\"padding-left: 1em; padding-right: 1em; text-align: center; vertical-align: top\">377.1275</td>\n",
       "        <td style=\"padding-left: 1em; padding-right: 1em; text-align: center; vertical-align: top\">376.97125</td>\n",
       "        <td style=\"padding-left: 1em; padding-right: 1em; text-align: center; vertical-align: top\">377.177</td>\n",
       "    </tr>\n",
       "</table>\n",
       "<table frame=\"box\" rules=\"cols\">\n",
       "    <tr>\n",
       "        <th style=\"padding-left: 1em; padding-right: 1em; text-align: center\">pri_rol_5</th>\n",
       "        <th style=\"padding-left: 1em; padding-right: 1em; text-align: center\">pri_rol_10</th>\n",
       "        <th style=\"padding-left: 1em; padding-right: 1em; text-align: center\">pri_rol_20</th>\n",
       "        <th style=\"padding-left: 1em; padding-right: 1em; text-align: center\">pri_rol_30</th>\n",
       "        <th style=\"padding-left: 1em; padding-right: 1em; text-align: center\">pri_rol_40</th>\n",
       "        <th style=\"padding-left: 1em; padding-right: 1em; text-align: center\">pri_rol_50</th>\n",
       "        <th style=\"padding-left: 1em; padding-right: 1em; text-align: center\">pri_rol_100</th>\n",
       "    </tr>\n",
       "    <tr>\n",
       "        <td style=\"padding-left: 1em; padding-right: 1em; text-align: center; vertical-align: top\">335.0</td>\n",
       "        <td style=\"padding-left: 1em; padding-right: 1em; text-align: center; vertical-align: top\">335.0</td>\n",
       "        <td style=\"padding-left: 1em; padding-right: 1em; text-align: center; vertical-align: top\">335.0</td>\n",
       "        <td style=\"padding-left: 1em; padding-right: 1em; text-align: center; vertical-align: top\">335.0</td>\n",
       "        <td style=\"padding-left: 1em; padding-right: 1em; text-align: center; vertical-align: top\">335.0</td>\n",
       "        <td style=\"padding-left: 1em; padding-right: 1em; text-align: center; vertical-align: top\">335.0</td>\n",
       "        <td style=\"padding-left: 1em; padding-right: 1em; text-align: center; vertical-align: top\">335.0</td>\n",
       "    </tr>\n",
       "    <tr>\n",
       "        <td style=\"padding-left: 1em; padding-right: 1em; text-align: center; vertical-align: top\">356.421875</td>\n",
       "        <td style=\"padding-left: 1em; padding-right: 1em; text-align: center; vertical-align: top\">356.421875</td>\n",
       "        <td style=\"padding-left: 1em; padding-right: 1em; text-align: center; vertical-align: top\">356.421875</td>\n",
       "        <td style=\"padding-left: 1em; padding-right: 1em; text-align: center; vertical-align: top\">356.421875</td>\n",
       "        <td style=\"padding-left: 1em; padding-right: 1em; text-align: center; vertical-align: top\">356.421875</td>\n",
       "        <td style=\"padding-left: 1em; padding-right: 1em; text-align: center; vertical-align: top\">356.421875</td>\n",
       "        <td style=\"padding-left: 1em; padding-right: 1em; text-align: center; vertical-align: top\">356.421875</td>\n",
       "    </tr>\n",
       "    <tr>\n",
       "        <td style=\"padding-left: 1em; padding-right: 1em; text-align: center; vertical-align: top\">363.554027778</td>\n",
       "        <td style=\"padding-left: 1em; padding-right: 1em; text-align: center; vertical-align: top\">363.554027778</td>\n",
       "        <td style=\"padding-left: 1em; padding-right: 1em; text-align: center; vertical-align: top\">363.554027778</td>\n",
       "        <td style=\"padding-left: 1em; padding-right: 1em; text-align: center; vertical-align: top\">363.554027778</td>\n",
       "        <td style=\"padding-left: 1em; padding-right: 1em; text-align: center; vertical-align: top\">363.554027778</td>\n",
       "        <td style=\"padding-left: 1em; padding-right: 1em; text-align: center; vertical-align: top\">363.554027778</td>\n",
       "        <td style=\"padding-left: 1em; padding-right: 1em; text-align: center; vertical-align: top\">363.554027778</td>\n",
       "    </tr>\n",
       "    <tr>\n",
       "        <td style=\"padding-left: 1em; padding-right: 1em; text-align: center; vertical-align: top\">366.940520833</td>\n",
       "        <td style=\"padding-left: 1em; padding-right: 1em; text-align: center; vertical-align: top\">366.940520833</td>\n",
       "        <td style=\"padding-left: 1em; padding-right: 1em; text-align: center; vertical-align: top\">366.940520833</td>\n",
       "        <td style=\"padding-left: 1em; padding-right: 1em; text-align: center; vertical-align: top\">366.940520833</td>\n",
       "        <td style=\"padding-left: 1em; padding-right: 1em; text-align: center; vertical-align: top\">366.940520833</td>\n",
       "        <td style=\"padding-left: 1em; padding-right: 1em; text-align: center; vertical-align: top\">366.940520833</td>\n",
       "        <td style=\"padding-left: 1em; padding-right: 1em; text-align: center; vertical-align: top\">366.940520833</td>\n",
       "    </tr>\n",
       "    <tr>\n",
       "        <td style=\"padding-left: 1em; padding-right: 1em; text-align: center; vertical-align: top\">369.062416667</td>\n",
       "        <td style=\"padding-left: 1em; padding-right: 1em; text-align: center; vertical-align: top\">369.062416667</td>\n",
       "        <td style=\"padding-left: 1em; padding-right: 1em; text-align: center; vertical-align: top\">369.062416667</td>\n",
       "        <td style=\"padding-left: 1em; padding-right: 1em; text-align: center; vertical-align: top\">369.062416667</td>\n",
       "        <td style=\"padding-left: 1em; padding-right: 1em; text-align: center; vertical-align: top\">369.062416667</td>\n",
       "        <td style=\"padding-left: 1em; padding-right: 1em; text-align: center; vertical-align: top\">369.062416667</td>\n",
       "        <td style=\"padding-left: 1em; padding-right: 1em; text-align: center; vertical-align: top\">369.062416667</td>\n",
       "    </tr>\n",
       "    <tr>\n",
       "        <td style=\"padding-left: 1em; padding-right: 1em; text-align: center; vertical-align: top\">370.552013889</td>\n",
       "        <td style=\"padding-left: 1em; padding-right: 1em; text-align: center; vertical-align: top\">370.552013889</td>\n",
       "        <td style=\"padding-left: 1em; padding-right: 1em; text-align: center; vertical-align: top\">370.552013889</td>\n",
       "        <td style=\"padding-left: 1em; padding-right: 1em; text-align: center; vertical-align: top\">370.552013889</td>\n",
       "        <td style=\"padding-left: 1em; padding-right: 1em; text-align: center; vertical-align: top\">370.552013889</td>\n",
       "        <td style=\"padding-left: 1em; padding-right: 1em; text-align: center; vertical-align: top\">370.552013889</td>\n",
       "        <td style=\"padding-left: 1em; padding-right: 1em; text-align: center; vertical-align: top\">370.552013889</td>\n",
       "    </tr>\n",
       "    <tr>\n",
       "        <td style=\"padding-left: 1em; padding-right: 1em; text-align: center; vertical-align: top\">377.469097222</td>\n",
       "        <td style=\"padding-left: 1em; padding-right: 1em; text-align: center; vertical-align: top\">371.402083333</td>\n",
       "        <td style=\"padding-left: 1em; padding-right: 1em; text-align: center; vertical-align: top\">371.402083333</td>\n",
       "        <td style=\"padding-left: 1em; padding-right: 1em; text-align: center; vertical-align: top\">371.402083333</td>\n",
       "        <td style=\"padding-left: 1em; padding-right: 1em; text-align: center; vertical-align: top\">371.402083333</td>\n",
       "        <td style=\"padding-left: 1em; padding-right: 1em; text-align: center; vertical-align: top\">371.402083333</td>\n",
       "        <td style=\"padding-left: 1em; padding-right: 1em; text-align: center; vertical-align: top\">371.402083333</td>\n",
       "    </tr>\n",
       "    <tr>\n",
       "        <td style=\"padding-left: 1em; padding-right: 1em; text-align: center; vertical-align: top\">376.995972222</td>\n",
       "        <td style=\"padding-left: 1em; padding-right: 1em; text-align: center; vertical-align: top\">371.852447917</td>\n",
       "        <td style=\"padding-left: 1em; padding-right: 1em; text-align: center; vertical-align: top\">371.852447917</td>\n",
       "        <td style=\"padding-left: 1em; padding-right: 1em; text-align: center; vertical-align: top\">371.852447917</td>\n",
       "        <td style=\"padding-left: 1em; padding-right: 1em; text-align: center; vertical-align: top\">371.852447917</td>\n",
       "        <td style=\"padding-left: 1em; padding-right: 1em; text-align: center; vertical-align: top\">371.852447917</td>\n",
       "        <td style=\"padding-left: 1em; padding-right: 1em; text-align: center; vertical-align: top\">371.852447917</td>\n",
       "    </tr>\n",
       "    <tr>\n",
       "        <td style=\"padding-left: 1em; padding-right: 1em; text-align: center; vertical-align: top\">376.880833333</td>\n",
       "        <td style=\"padding-left: 1em; padding-right: 1em; text-align: center; vertical-align: top\">372.438564815</td>\n",
       "        <td style=\"padding-left: 1em; padding-right: 1em; text-align: center; vertical-align: top\">372.438564815</td>\n",
       "        <td style=\"padding-left: 1em; padding-right: 1em; text-align: center; vertical-align: top\">372.438564815</td>\n",
       "        <td style=\"padding-left: 1em; padding-right: 1em; text-align: center; vertical-align: top\">372.438564815</td>\n",
       "        <td style=\"padding-left: 1em; padding-right: 1em; text-align: center; vertical-align: top\">372.438564815</td>\n",
       "        <td style=\"padding-left: 1em; padding-right: 1em; text-align: center; vertical-align: top\">372.438564815</td>\n",
       "    </tr>\n",
       "    <tr>\n",
       "        <td style=\"padding-left: 1em; padding-right: 1em; text-align: center; vertical-align: top\">377.239166667</td>\n",
       "        <td style=\"padding-left: 1em; padding-right: 1em; text-align: center; vertical-align: top\">373.119708333</td>\n",
       "        <td style=\"padding-left: 1em; padding-right: 1em; text-align: center; vertical-align: top\">373.119708333</td>\n",
       "        <td style=\"padding-left: 1em; padding-right: 1em; text-align: center; vertical-align: top\">373.119708333</td>\n",
       "        <td style=\"padding-left: 1em; padding-right: 1em; text-align: center; vertical-align: top\">373.119708333</td>\n",
       "        <td style=\"padding-left: 1em; padding-right: 1em; text-align: center; vertical-align: top\">373.119708333</td>\n",
       "        <td style=\"padding-left: 1em; padding-right: 1em; text-align: center; vertical-align: top\">373.119708333</td>\n",
       "    </tr>\n",
       "</table>\n",
       "<table frame=\"box\" rules=\"cols\">\n",
       "    <tr>\n",
       "        <th style=\"padding-left: 1em; padding-right: 1em; text-align: center\">pri_rol_200</th>\n",
       "        <th style=\"padding-left: 1em; padding-right: 1em; text-align: center\">pri_rol_300</th>\n",
       "        <th style=\"padding-left: 1em; padding-right: 1em; text-align: center\">vol_rol_1</th>\n",
       "        <th style=\"padding-left: 1em; padding-right: 1em; text-align: center\">vol_rol_2</th>\n",
       "        <th style=\"padding-left: 1em; padding-right: 1em; text-align: center\">vol_rol_3</th>\n",
       "        <th style=\"padding-left: 1em; padding-right: 1em; text-align: center\">vol_rol_4</th>\n",
       "        <th style=\"padding-left: 1em; padding-right: 1em; text-align: center\">vol_rol_5</th>\n",
       "    </tr>\n",
       "    <tr>\n",
       "        <td style=\"padding-left: 1em; padding-right: 1em; text-align: center; vertical-align: top\">335.0</td>\n",
       "        <td style=\"padding-left: 1em; padding-right: 1em; text-align: center; vertical-align: top\">335.0</td>\n",
       "        <td style=\"padding-left: 1em; padding-right: 1em; text-align: center; vertical-align: top\">0.014138885</td>\n",
       "        <td style=\"padding-left: 1em; padding-right: 1em; text-align: center; vertical-align: top\">0.014138885</td>\n",
       "        <td style=\"padding-left: 1em; padding-right: 1em; text-align: center; vertical-align: top\">0.014138885</td>\n",
       "        <td style=\"padding-left: 1em; padding-right: 1em; text-align: center; vertical-align: top\">0.014138885</td>\n",
       "        <td style=\"padding-left: 1em; padding-right: 1em; text-align: center; vertical-align: top\">0.014138885</td>\n",
       "    </tr>\n",
       "    <tr>\n",
       "        <td style=\"padding-left: 1em; padding-right: 1em; text-align: center; vertical-align: top\">356.421875</td>\n",
       "        <td style=\"padding-left: 1em; padding-right: 1em; text-align: center; vertical-align: top\">356.421875</td>\n",
       "        <td style=\"padding-left: 1em; padding-right: 1em; text-align: center; vertical-align: top\">1.890838885</td>\n",
       "        <td style=\"padding-left: 1em; padding-right: 1em; text-align: center; vertical-align: top\">1.890838885</td>\n",
       "        <td style=\"padding-left: 1em; padding-right: 1em; text-align: center; vertical-align: top\">1.890838885</td>\n",
       "        <td style=\"padding-left: 1em; padding-right: 1em; text-align: center; vertical-align: top\">1.890838885</td>\n",
       "        <td style=\"padding-left: 1em; padding-right: 1em; text-align: center; vertical-align: top\">1.890838885</td>\n",
       "    </tr>\n",
       "    <tr>\n",
       "        <td style=\"padding-left: 1em; padding-right: 1em; text-align: center; vertical-align: top\">363.554027778</td>\n",
       "        <td style=\"padding-left: 1em; padding-right: 1em; text-align: center; vertical-align: top\">363.554027778</td>\n",
       "        <td style=\"padding-left: 1em; padding-right: 1em; text-align: center; vertical-align: top\">1.96780140333</td>\n",
       "        <td style=\"padding-left: 1em; padding-right: 1em; text-align: center; vertical-align: top\">1.98194028833</td>\n",
       "        <td style=\"padding-left: 1em; padding-right: 1em; text-align: center; vertical-align: top\">1.98194028833</td>\n",
       "        <td style=\"padding-left: 1em; padding-right: 1em; text-align: center; vertical-align: top\">1.98194028833</td>\n",
       "        <td style=\"padding-left: 1em; padding-right: 1em; text-align: center; vertical-align: top\">1.98194028833</td>\n",
       "    </tr>\n",
       "    <tr>\n",
       "        <td style=\"padding-left: 1em; padding-right: 1em; text-align: center; vertical-align: top\">366.940520833</td>\n",
       "        <td style=\"padding-left: 1em; padding-right: 1em; text-align: center; vertical-align: top\">366.940520833</td>\n",
       "        <td style=\"padding-left: 1em; padding-right: 1em; text-align: center; vertical-align: top\">0.101101403333</td>\n",
       "        <td style=\"padding-left: 1em; padding-right: 1em; text-align: center; vertical-align: top\">1.97780140333</td>\n",
       "        <td style=\"padding-left: 1em; padding-right: 1em; text-align: center; vertical-align: top\">1.99194028833</td>\n",
       "        <td style=\"padding-left: 1em; padding-right: 1em; text-align: center; vertical-align: top\">1.99194028833</td>\n",
       "        <td style=\"padding-left: 1em; padding-right: 1em; text-align: center; vertical-align: top\">1.99194028833</td>\n",
       "    </tr>\n",
       "    <tr>\n",
       "        <td style=\"padding-left: 1em; padding-right: 1em; text-align: center; vertical-align: top\">369.062416667</td>\n",
       "        <td style=\"padding-left: 1em; padding-right: 1em; text-align: center; vertical-align: top\">369.062416667</td>\n",
       "        <td style=\"padding-left: 1em; padding-right: 1em; text-align: center; vertical-align: top\">0.0225</td>\n",
       "        <td style=\"padding-left: 1em; padding-right: 1em; text-align: center; vertical-align: top\">0.113601403333</td>\n",
       "        <td style=\"padding-left: 1em; padding-right: 1em; text-align: center; vertical-align: top\">1.99030140333</td>\n",
       "        <td style=\"padding-left: 1em; padding-right: 1em; text-align: center; vertical-align: top\">2.00444028833</td>\n",
       "        <td style=\"padding-left: 1em; padding-right: 1em; text-align: center; vertical-align: top\">2.00444028833</td>\n",
       "    </tr>\n",
       "    <tr>\n",
       "        <td style=\"padding-left: 1em; padding-right: 1em; text-align: center; vertical-align: top\">370.552013889</td>\n",
       "        <td style=\"padding-left: 1em; padding-right: 1em; text-align: center; vertical-align: top\">370.552013889</td>\n",
       "        <td style=\"padding-left: 1em; padding-right: 1em; text-align: center; vertical-align: top\">0.0275</td>\n",
       "        <td style=\"padding-left: 1em; padding-right: 1em; text-align: center; vertical-align: top\">0.0375</td>\n",
       "        <td style=\"padding-left: 1em; padding-right: 1em; text-align: center; vertical-align: top\">0.128601403333</td>\n",
       "        <td style=\"padding-left: 1em; padding-right: 1em; text-align: center; vertical-align: top\">2.00530140333</td>\n",
       "        <td style=\"padding-left: 1em; padding-right: 1em; text-align: center; vertical-align: top\">2.01944028833</td>\n",
       "    </tr>\n",
       "    <tr>\n",
       "        <td style=\"padding-left: 1em; padding-right: 1em; text-align: center; vertical-align: top\">371.402083333</td>\n",
       "        <td style=\"padding-left: 1em; padding-right: 1em; text-align: center; vertical-align: top\">371.402083333</td>\n",
       "        <td style=\"padding-left: 1em; padding-right: 1em; text-align: center; vertical-align: top\">0.08125</td>\n",
       "        <td style=\"padding-left: 1em; padding-right: 1em; text-align: center; vertical-align: top\">0.09375</td>\n",
       "        <td style=\"padding-left: 1em; padding-right: 1em; text-align: center; vertical-align: top\">0.10375</td>\n",
       "        <td style=\"padding-left: 1em; padding-right: 1em; text-align: center; vertical-align: top\">0.194851403333</td>\n",
       "        <td style=\"padding-left: 1em; padding-right: 1em; text-align: center; vertical-align: top\">2.07155140333</td>\n",
       "    </tr>\n",
       "    <tr>\n",
       "        <td style=\"padding-left: 1em; padding-right: 1em; text-align: center; vertical-align: top\">371.852447917</td>\n",
       "        <td style=\"padding-left: 1em; padding-right: 1em; text-align: center; vertical-align: top\">371.852447917</td>\n",
       "        <td style=\"padding-left: 1em; padding-right: 1em; text-align: center; vertical-align: top\">0.18375</td>\n",
       "        <td style=\"padding-left: 1em; padding-right: 1em; text-align: center; vertical-align: top\">0.19875</td>\n",
       "        <td style=\"padding-left: 1em; padding-right: 1em; text-align: center; vertical-align: top\">0.21125</td>\n",
       "        <td style=\"padding-left: 1em; padding-right: 1em; text-align: center; vertical-align: top\">0.22125</td>\n",
       "        <td style=\"padding-left: 1em; padding-right: 1em; text-align: center; vertical-align: top\">0.312351403333</td>\n",
       "    </tr>\n",
       "    <tr>\n",
       "        <td style=\"padding-left: 1em; padding-right: 1em; text-align: center; vertical-align: top\">372.438564815</td>\n",
       "        <td style=\"padding-left: 1em; padding-right: 1em; text-align: center; vertical-align: top\">372.438564815</td>\n",
       "        <td style=\"padding-left: 1em; padding-right: 1em; text-align: center; vertical-align: top\">0.18125</td>\n",
       "        <td style=\"padding-left: 1em; padding-right: 1em; text-align: center; vertical-align: top\">0.2475</td>\n",
       "        <td style=\"padding-left: 1em; padding-right: 1em; text-align: center; vertical-align: top\">0.2625</td>\n",
       "        <td style=\"padding-left: 1em; padding-right: 1em; text-align: center; vertical-align: top\">0.275</td>\n",
       "        <td style=\"padding-left: 1em; padding-right: 1em; text-align: center; vertical-align: top\">0.285</td>\n",
       "    </tr>\n",
       "    <tr>\n",
       "        <td style=\"padding-left: 1em; padding-right: 1em; text-align: center; vertical-align: top\">373.119708333</td>\n",
       "        <td style=\"padding-left: 1em; padding-right: 1em; text-align: center; vertical-align: top\">373.119708333</td>\n",
       "        <td style=\"padding-left: 1em; padding-right: 1em; text-align: center; vertical-align: top\">0.07375</td>\n",
       "        <td style=\"padding-left: 1em; padding-right: 1em; text-align: center; vertical-align: top\">0.19125</td>\n",
       "        <td style=\"padding-left: 1em; padding-right: 1em; text-align: center; vertical-align: top\">0.2575</td>\n",
       "        <td style=\"padding-left: 1em; padding-right: 1em; text-align: center; vertical-align: top\">0.2725</td>\n",
       "        <td style=\"padding-left: 1em; padding-right: 1em; text-align: center; vertical-align: top\">0.285</td>\n",
       "    </tr>\n",
       "</table>\n",
       "<table frame=\"box\" rules=\"cols\">\n",
       "    <tr>\n",
       "        <th style=\"padding-left: 1em; padding-right: 1em; text-align: center\">vol_rol_10</th>\n",
       "        <th style=\"padding-left: 1em; padding-right: 1em; text-align: center\">vol_rol_20</th>\n",
       "        <th style=\"padding-left: 1em; padding-right: 1em; text-align: center\">vol_rol_30</th>\n",
       "        <th style=\"padding-left: 1em; padding-right: 1em; text-align: center\">vol_rol_40</th>\n",
       "        <th style=\"padding-left: 1em; padding-right: 1em; text-align: center\">vol_rol_50</th>\n",
       "        <th style=\"padding-left: 1em; padding-right: 1em; text-align: center\">vol_rol_100</th>\n",
       "        <th style=\"padding-left: 1em; padding-right: 1em; text-align: center\">vol_rol_200</th>\n",
       "    </tr>\n",
       "    <tr>\n",
       "        <td style=\"padding-left: 1em; padding-right: 1em; text-align: center; vertical-align: top\">0.014138885</td>\n",
       "        <td style=\"padding-left: 1em; padding-right: 1em; text-align: center; vertical-align: top\">0.014138885</td>\n",
       "        <td style=\"padding-left: 1em; padding-right: 1em; text-align: center; vertical-align: top\">0.014138885</td>\n",
       "        <td style=\"padding-left: 1em; padding-right: 1em; text-align: center; vertical-align: top\">0.014138885</td>\n",
       "        <td style=\"padding-left: 1em; padding-right: 1em; text-align: center; vertical-align: top\">0.014138885</td>\n",
       "        <td style=\"padding-left: 1em; padding-right: 1em; text-align: center; vertical-align: top\">0.014138885</td>\n",
       "        <td style=\"padding-left: 1em; padding-right: 1em; text-align: center; vertical-align: top\">0.014138885</td>\n",
       "    </tr>\n",
       "    <tr>\n",
       "        <td style=\"padding-left: 1em; padding-right: 1em; text-align: center; vertical-align: top\">1.890838885</td>\n",
       "        <td style=\"padding-left: 1em; padding-right: 1em; text-align: center; vertical-align: top\">1.890838885</td>\n",
       "        <td style=\"padding-left: 1em; padding-right: 1em; text-align: center; vertical-align: top\">1.890838885</td>\n",
       "        <td style=\"padding-left: 1em; padding-right: 1em; text-align: center; vertical-align: top\">1.890838885</td>\n",
       "        <td style=\"padding-left: 1em; padding-right: 1em; text-align: center; vertical-align: top\">1.890838885</td>\n",
       "        <td style=\"padding-left: 1em; padding-right: 1em; text-align: center; vertical-align: top\">1.890838885</td>\n",
       "        <td style=\"padding-left: 1em; padding-right: 1em; text-align: center; vertical-align: top\">1.890838885</td>\n",
       "    </tr>\n",
       "    <tr>\n",
       "        <td style=\"padding-left: 1em; padding-right: 1em; text-align: center; vertical-align: top\">1.98194028833</td>\n",
       "        <td style=\"padding-left: 1em; padding-right: 1em; text-align: center; vertical-align: top\">1.98194028833</td>\n",
       "        <td style=\"padding-left: 1em; padding-right: 1em; text-align: center; vertical-align: top\">1.98194028833</td>\n",
       "        <td style=\"padding-left: 1em; padding-right: 1em; text-align: center; vertical-align: top\">1.98194028833</td>\n",
       "        <td style=\"padding-left: 1em; padding-right: 1em; text-align: center; vertical-align: top\">1.98194028833</td>\n",
       "        <td style=\"padding-left: 1em; padding-right: 1em; text-align: center; vertical-align: top\">1.98194028833</td>\n",
       "        <td style=\"padding-left: 1em; padding-right: 1em; text-align: center; vertical-align: top\">1.98194028833</td>\n",
       "    </tr>\n",
       "    <tr>\n",
       "        <td style=\"padding-left: 1em; padding-right: 1em; text-align: center; vertical-align: top\">1.99194028833</td>\n",
       "        <td style=\"padding-left: 1em; padding-right: 1em; text-align: center; vertical-align: top\">1.99194028833</td>\n",
       "        <td style=\"padding-left: 1em; padding-right: 1em; text-align: center; vertical-align: top\">1.99194028833</td>\n",
       "        <td style=\"padding-left: 1em; padding-right: 1em; text-align: center; vertical-align: top\">1.99194028833</td>\n",
       "        <td style=\"padding-left: 1em; padding-right: 1em; text-align: center; vertical-align: top\">1.99194028833</td>\n",
       "        <td style=\"padding-left: 1em; padding-right: 1em; text-align: center; vertical-align: top\">1.99194028833</td>\n",
       "        <td style=\"padding-left: 1em; padding-right: 1em; text-align: center; vertical-align: top\">1.99194028833</td>\n",
       "    </tr>\n",
       "    <tr>\n",
       "        <td style=\"padding-left: 1em; padding-right: 1em; text-align: center; vertical-align: top\">2.00444028833</td>\n",
       "        <td style=\"padding-left: 1em; padding-right: 1em; text-align: center; vertical-align: top\">2.00444028833</td>\n",
       "        <td style=\"padding-left: 1em; padding-right: 1em; text-align: center; vertical-align: top\">2.00444028833</td>\n",
       "        <td style=\"padding-left: 1em; padding-right: 1em; text-align: center; vertical-align: top\">2.00444028833</td>\n",
       "        <td style=\"padding-left: 1em; padding-right: 1em; text-align: center; vertical-align: top\">2.00444028833</td>\n",
       "        <td style=\"padding-left: 1em; padding-right: 1em; text-align: center; vertical-align: top\">2.00444028833</td>\n",
       "        <td style=\"padding-left: 1em; padding-right: 1em; text-align: center; vertical-align: top\">2.00444028833</td>\n",
       "    </tr>\n",
       "    <tr>\n",
       "        <td style=\"padding-left: 1em; padding-right: 1em; text-align: center; vertical-align: top\">2.01944028833</td>\n",
       "        <td style=\"padding-left: 1em; padding-right: 1em; text-align: center; vertical-align: top\">2.01944028833</td>\n",
       "        <td style=\"padding-left: 1em; padding-right: 1em; text-align: center; vertical-align: top\">2.01944028833</td>\n",
       "        <td style=\"padding-left: 1em; padding-right: 1em; text-align: center; vertical-align: top\">2.01944028833</td>\n",
       "        <td style=\"padding-left: 1em; padding-right: 1em; text-align: center; vertical-align: top\">2.01944028833</td>\n",
       "        <td style=\"padding-left: 1em; padding-right: 1em; text-align: center; vertical-align: top\">2.01944028833</td>\n",
       "        <td style=\"padding-left: 1em; padding-right: 1em; text-align: center; vertical-align: top\">2.01944028833</td>\n",
       "    </tr>\n",
       "    <tr>\n",
       "        <td style=\"padding-left: 1em; padding-right: 1em; text-align: center; vertical-align: top\">2.08569028833</td>\n",
       "        <td style=\"padding-left: 1em; padding-right: 1em; text-align: center; vertical-align: top\">2.08569028833</td>\n",
       "        <td style=\"padding-left: 1em; padding-right: 1em; text-align: center; vertical-align: top\">2.08569028833</td>\n",
       "        <td style=\"padding-left: 1em; padding-right: 1em; text-align: center; vertical-align: top\">2.08569028833</td>\n",
       "        <td style=\"padding-left: 1em; padding-right: 1em; text-align: center; vertical-align: top\">2.08569028833</td>\n",
       "        <td style=\"padding-left: 1em; padding-right: 1em; text-align: center; vertical-align: top\">2.08569028833</td>\n",
       "        <td style=\"padding-left: 1em; padding-right: 1em; text-align: center; vertical-align: top\">2.08569028833</td>\n",
       "    </tr>\n",
       "    <tr>\n",
       "        <td style=\"padding-left: 1em; padding-right: 1em; text-align: center; vertical-align: top\">2.20319028833</td>\n",
       "        <td style=\"padding-left: 1em; padding-right: 1em; text-align: center; vertical-align: top\">2.20319028833</td>\n",
       "        <td style=\"padding-left: 1em; padding-right: 1em; text-align: center; vertical-align: top\">2.20319028833</td>\n",
       "        <td style=\"padding-left: 1em; padding-right: 1em; text-align: center; vertical-align: top\">2.20319028833</td>\n",
       "        <td style=\"padding-left: 1em; padding-right: 1em; text-align: center; vertical-align: top\">2.20319028833</td>\n",
       "        <td style=\"padding-left: 1em; padding-right: 1em; text-align: center; vertical-align: top\">2.20319028833</td>\n",
       "        <td style=\"padding-left: 1em; padding-right: 1em; text-align: center; vertical-align: top\">2.20319028833</td>\n",
       "    </tr>\n",
       "    <tr>\n",
       "        <td style=\"padding-left: 1em; padding-right: 1em; text-align: center; vertical-align: top\">2.26694028833</td>\n",
       "        <td style=\"padding-left: 1em; padding-right: 1em; text-align: center; vertical-align: top\">2.26694028833</td>\n",
       "        <td style=\"padding-left: 1em; padding-right: 1em; text-align: center; vertical-align: top\">2.26694028833</td>\n",
       "        <td style=\"padding-left: 1em; padding-right: 1em; text-align: center; vertical-align: top\">2.26694028833</td>\n",
       "        <td style=\"padding-left: 1em; padding-right: 1em; text-align: center; vertical-align: top\">2.26694028833</td>\n",
       "        <td style=\"padding-left: 1em; padding-right: 1em; text-align: center; vertical-align: top\">2.26694028833</td>\n",
       "        <td style=\"padding-left: 1em; padding-right: 1em; text-align: center; vertical-align: top\">2.26694028833</td>\n",
       "    </tr>\n",
       "    <tr>\n",
       "        <td style=\"padding-left: 1em; padding-right: 1em; text-align: center; vertical-align: top\">2.27694028833</td>\n",
       "        <td style=\"padding-left: 1em; padding-right: 1em; text-align: center; vertical-align: top\">2.27694028833</td>\n",
       "        <td style=\"padding-left: 1em; padding-right: 1em; text-align: center; vertical-align: top\">2.27694028833</td>\n",
       "        <td style=\"padding-left: 1em; padding-right: 1em; text-align: center; vertical-align: top\">2.27694028833</td>\n",
       "        <td style=\"padding-left: 1em; padding-right: 1em; text-align: center; vertical-align: top\">2.27694028833</td>\n",
       "        <td style=\"padding-left: 1em; padding-right: 1em; text-align: center; vertical-align: top\">2.27694028833</td>\n",
       "        <td style=\"padding-left: 1em; padding-right: 1em; text-align: center; vertical-align: top\">2.27694028833</td>\n",
       "    </tr>\n",
       "</table>\n",
       "<table frame=\"box\" rules=\"cols\">\n",
       "    <tr>\n",
       "        <th style=\"padding-left: 1em; padding-right: 1em; text-align: center\">vol_rol_300</th>\n",
       "        <th style=\"padding-left: 1em; padding-right: 1em; text-align: center\">min_rol_1</th>\n",
       "        <th style=\"padding-left: 1em; padding-right: 1em; text-align: center\">min_rol_2</th>\n",
       "        <th style=\"padding-left: 1em; padding-right: 1em; text-align: center\">min_rol_3</th>\n",
       "        <th style=\"padding-left: 1em; padding-right: 1em; text-align: center\">min_rol_4</th>\n",
       "        <th style=\"padding-left: 1em; padding-right: 1em; text-align: center\">min_rol_5</th>\n",
       "        <th style=\"padding-left: 1em; padding-right: 1em; text-align: center\">min_rol_10</th>\n",
       "        <th style=\"padding-left: 1em; padding-right: 1em; text-align: center\">min_rol_20</th>\n",
       "        <th style=\"padding-left: 1em; padding-right: 1em; text-align: center\">min_rol_30</th>\n",
       "    </tr>\n",
       "    <tr>\n",
       "        <td style=\"padding-left: 1em; padding-right: 1em; text-align: center; vertical-align: top\">0.014138885</td>\n",
       "        <td style=\"padding-left: 1em; padding-right: 1em; text-align: center; vertical-align: top\">335.0</td>\n",
       "        <td style=\"padding-left: 1em; padding-right: 1em; text-align: center; vertical-align: top\">335.0</td>\n",
       "        <td style=\"padding-left: 1em; padding-right: 1em; text-align: center; vertical-align: top\">335.0</td>\n",
       "        <td style=\"padding-left: 1em; padding-right: 1em; text-align: center; vertical-align: top\">335.0</td>\n",
       "        <td style=\"padding-left: 1em; padding-right: 1em; text-align: center; vertical-align: top\">335.0</td>\n",
       "        <td style=\"padding-left: 1em; padding-right: 1em; text-align: center; vertical-align: top\">335.0</td>\n",
       "        <td style=\"padding-left: 1em; padding-right: 1em; text-align: center; vertical-align: top\">335.0</td>\n",
       "        <td style=\"padding-left: 1em; padding-right: 1em; text-align: center; vertical-align: top\">335.0</td>\n",
       "    </tr>\n",
       "    <tr>\n",
       "        <td style=\"padding-left: 1em; padding-right: 1em; text-align: center; vertical-align: top\">1.890838885</td>\n",
       "        <td style=\"padding-left: 1em; padding-right: 1em; text-align: center; vertical-align: top\">335.0</td>\n",
       "        <td style=\"padding-left: 1em; padding-right: 1em; text-align: center; vertical-align: top\">335.0</td>\n",
       "        <td style=\"padding-left: 1em; padding-right: 1em; text-align: center; vertical-align: top\">335.0</td>\n",
       "        <td style=\"padding-left: 1em; padding-right: 1em; text-align: center; vertical-align: top\">335.0</td>\n",
       "        <td style=\"padding-left: 1em; padding-right: 1em; text-align: center; vertical-align: top\">335.0</td>\n",
       "        <td style=\"padding-left: 1em; padding-right: 1em; text-align: center; vertical-align: top\">335.0</td>\n",
       "        <td style=\"padding-left: 1em; padding-right: 1em; text-align: center; vertical-align: top\">335.0</td>\n",
       "        <td style=\"padding-left: 1em; padding-right: 1em; text-align: center; vertical-align: top\">335.0</td>\n",
       "    </tr>\n",
       "    <tr>\n",
       "        <td style=\"padding-left: 1em; padding-right: 1em; text-align: center; vertical-align: top\">1.98194028833</td>\n",
       "        <td style=\"padding-left: 1em; padding-right: 1em; text-align: center; vertical-align: top\">377.818333333</td>\n",
       "        <td style=\"padding-left: 1em; padding-right: 1em; text-align: center; vertical-align: top\">335.0</td>\n",
       "        <td style=\"padding-left: 1em; padding-right: 1em; text-align: center; vertical-align: top\">335.0</td>\n",
       "        <td style=\"padding-left: 1em; padding-right: 1em; text-align: center; vertical-align: top\">335.0</td>\n",
       "        <td style=\"padding-left: 1em; padding-right: 1em; text-align: center; vertical-align: top\">335.0</td>\n",
       "        <td style=\"padding-left: 1em; padding-right: 1em; text-align: center; vertical-align: top\">335.0</td>\n",
       "        <td style=\"padding-left: 1em; padding-right: 1em; text-align: center; vertical-align: top\">335.0</td>\n",
       "        <td style=\"padding-left: 1em; padding-right: 1em; text-align: center; vertical-align: top\">335.0</td>\n",
       "    </tr>\n",
       "    <tr>\n",
       "        <td style=\"padding-left: 1em; padding-right: 1em; text-align: center; vertical-align: top\">1.99194028833</td>\n",
       "        <td style=\"padding-left: 1em; padding-right: 1em; text-align: center; vertical-align: top\">377.1</td>\n",
       "        <td style=\"padding-left: 1em; padding-right: 1em; text-align: center; vertical-align: top\">377.1</td>\n",
       "        <td style=\"padding-left: 1em; padding-right: 1em; text-align: center; vertical-align: top\">335.0</td>\n",
       "        <td style=\"padding-left: 1em; padding-right: 1em; text-align: center; vertical-align: top\">335.0</td>\n",
       "        <td style=\"padding-left: 1em; padding-right: 1em; text-align: center; vertical-align: top\">335.0</td>\n",
       "        <td style=\"padding-left: 1em; padding-right: 1em; text-align: center; vertical-align: top\">335.0</td>\n",
       "        <td style=\"padding-left: 1em; padding-right: 1em; text-align: center; vertical-align: top\">335.0</td>\n",
       "        <td style=\"padding-left: 1em; padding-right: 1em; text-align: center; vertical-align: top\">335.0</td>\n",
       "    </tr>\n",
       "    <tr>\n",
       "        <td style=\"padding-left: 1em; padding-right: 1em; text-align: center; vertical-align: top\">2.00444028833</td>\n",
       "        <td style=\"padding-left: 1em; padding-right: 1em; text-align: center; vertical-align: top\">377.1</td>\n",
       "        <td style=\"padding-left: 1em; padding-right: 1em; text-align: center; vertical-align: top\">377.1</td>\n",
       "        <td style=\"padding-left: 1em; padding-right: 1em; text-align: center; vertical-align: top\">377.1</td>\n",
       "        <td style=\"padding-left: 1em; padding-right: 1em; text-align: center; vertical-align: top\">335.0</td>\n",
       "        <td style=\"padding-left: 1em; padding-right: 1em; text-align: center; vertical-align: top\">335.0</td>\n",
       "        <td style=\"padding-left: 1em; padding-right: 1em; text-align: center; vertical-align: top\">335.0</td>\n",
       "        <td style=\"padding-left: 1em; padding-right: 1em; text-align: center; vertical-align: top\">335.0</td>\n",
       "        <td style=\"padding-left: 1em; padding-right: 1em; text-align: center; vertical-align: top\">335.0</td>\n",
       "    </tr>\n",
       "    <tr>\n",
       "        <td style=\"padding-left: 1em; padding-right: 1em; text-align: center; vertical-align: top\">2.01944028833</td>\n",
       "        <td style=\"padding-left: 1em; padding-right: 1em; text-align: center; vertical-align: top\">377.55</td>\n",
       "        <td style=\"padding-left: 1em; padding-right: 1em; text-align: center; vertical-align: top\">377.1</td>\n",
       "        <td style=\"padding-left: 1em; padding-right: 1em; text-align: center; vertical-align: top\">377.1</td>\n",
       "        <td style=\"padding-left: 1em; padding-right: 1em; text-align: center; vertical-align: top\">377.1</td>\n",
       "        <td style=\"padding-left: 1em; padding-right: 1em; text-align: center; vertical-align: top\">335.0</td>\n",
       "        <td style=\"padding-left: 1em; padding-right: 1em; text-align: center; vertical-align: top\">335.0</td>\n",
       "        <td style=\"padding-left: 1em; padding-right: 1em; text-align: center; vertical-align: top\">335.0</td>\n",
       "        <td style=\"padding-left: 1em; padding-right: 1em; text-align: center; vertical-align: top\">335.0</td>\n",
       "    </tr>\n",
       "    <tr>\n",
       "        <td style=\"padding-left: 1em; padding-right: 1em; text-align: center; vertical-align: top\">2.08569028833</td>\n",
       "        <td style=\"padding-left: 1em; padding-right: 1em; text-align: center; vertical-align: top\">376.5025</td>\n",
       "        <td style=\"padding-left: 1em; padding-right: 1em; text-align: center; vertical-align: top\">376.5025</td>\n",
       "        <td style=\"padding-left: 1em; padding-right: 1em; text-align: center; vertical-align: top\">376.5025</td>\n",
       "        <td style=\"padding-left: 1em; padding-right: 1em; text-align: center; vertical-align: top\">376.5025</td>\n",
       "        <td style=\"padding-left: 1em; padding-right: 1em; text-align: center; vertical-align: top\">376.5025</td>\n",
       "        <td style=\"padding-left: 1em; padding-right: 1em; text-align: center; vertical-align: top\">335.0</td>\n",
       "        <td style=\"padding-left: 1em; padding-right: 1em; text-align: center; vertical-align: top\">335.0</td>\n",
       "        <td style=\"padding-left: 1em; padding-right: 1em; text-align: center; vertical-align: top\">335.0</td>\n",
       "    </tr>\n",
       "    <tr>\n",
       "        <td style=\"padding-left: 1em; padding-right: 1em; text-align: center; vertical-align: top\">2.20319028833</td>\n",
       "        <td style=\"padding-left: 1em; padding-right: 1em; text-align: center; vertical-align: top\">375.005</td>\n",
       "        <td style=\"padding-left: 1em; padding-right: 1em; text-align: center; vertical-align: top\">375.005</td>\n",
       "        <td style=\"padding-left: 1em; padding-right: 1em; text-align: center; vertical-align: top\">375.005</td>\n",
       "        <td style=\"padding-left: 1em; padding-right: 1em; text-align: center; vertical-align: top\">375.005</td>\n",
       "        <td style=\"padding-left: 1em; padding-right: 1em; text-align: center; vertical-align: top\">375.005</td>\n",
       "        <td style=\"padding-left: 1em; padding-right: 1em; text-align: center; vertical-align: top\">335.0</td>\n",
       "        <td style=\"padding-left: 1em; padding-right: 1em; text-align: center; vertical-align: top\">335.0</td>\n",
       "        <td style=\"padding-left: 1em; padding-right: 1em; text-align: center; vertical-align: top\">335.0</td>\n",
       "    </tr>\n",
       "    <tr>\n",
       "        <td style=\"padding-left: 1em; padding-right: 1em; text-align: center; vertical-align: top\">2.26694028833</td>\n",
       "        <td style=\"padding-left: 1em; padding-right: 1em; text-align: center; vertical-align: top\">375.005</td>\n",
       "        <td style=\"padding-left: 1em; padding-right: 1em; text-align: center; vertical-align: top\">375.005</td>\n",
       "        <td style=\"padding-left: 1em; padding-right: 1em; text-align: center; vertical-align: top\">375.005</td>\n",
       "        <td style=\"padding-left: 1em; padding-right: 1em; text-align: center; vertical-align: top\">375.005</td>\n",
       "        <td style=\"padding-left: 1em; padding-right: 1em; text-align: center; vertical-align: top\">375.005</td>\n",
       "        <td style=\"padding-left: 1em; padding-right: 1em; text-align: center; vertical-align: top\">335.0</td>\n",
       "        <td style=\"padding-left: 1em; padding-right: 1em; text-align: center; vertical-align: top\">335.0</td>\n",
       "        <td style=\"padding-left: 1em; padding-right: 1em; text-align: center; vertical-align: top\">335.0</td>\n",
       "    </tr>\n",
       "    <tr>\n",
       "        <td style=\"padding-left: 1em; padding-right: 1em; text-align: center; vertical-align: top\">2.27694028833</td>\n",
       "        <td style=\"padding-left: 1em; padding-right: 1em; text-align: center; vertical-align: top\">377.1275</td>\n",
       "        <td style=\"padding-left: 1em; padding-right: 1em; text-align: center; vertical-align: top\">375.005</td>\n",
       "        <td style=\"padding-left: 1em; padding-right: 1em; text-align: center; vertical-align: top\">375.005</td>\n",
       "        <td style=\"padding-left: 1em; padding-right: 1em; text-align: center; vertical-align: top\">375.005</td>\n",
       "        <td style=\"padding-left: 1em; padding-right: 1em; text-align: center; vertical-align: top\">375.005</td>\n",
       "        <td style=\"padding-left: 1em; padding-right: 1em; text-align: center; vertical-align: top\">335.0</td>\n",
       "        <td style=\"padding-left: 1em; padding-right: 1em; text-align: center; vertical-align: top\">335.0</td>\n",
       "        <td style=\"padding-left: 1em; padding-right: 1em; text-align: center; vertical-align: top\">335.0</td>\n",
       "    </tr>\n",
       "</table>\n",
       "<table frame=\"box\" rules=\"cols\">\n",
       "    <tr>\n",
       "        <th style=\"padding-left: 1em; padding-right: 1em; text-align: center\">min_rol_40</th>\n",
       "        <th style=\"padding-left: 1em; padding-right: 1em; text-align: center\">min_rol_50</th>\n",
       "        <th style=\"padding-left: 1em; padding-right: 1em; text-align: center\">min_rol_100</th>\n",
       "        <th style=\"padding-left: 1em; padding-right: 1em; text-align: center\">...</th>\n",
       "    </tr>\n",
       "    <tr>\n",
       "        <td style=\"padding-left: 1em; padding-right: 1em; text-align: center; vertical-align: top\">335.0</td>\n",
       "        <td style=\"padding-left: 1em; padding-right: 1em; text-align: center; vertical-align: top\">335.0</td>\n",
       "        <td style=\"padding-left: 1em; padding-right: 1em; text-align: center; vertical-align: top\">335.0</td>\n",
       "        <td style=\"padding-left: 1em; padding-right: 1em; text-align: center; vertical-align: top\">...</td>\n",
       "    </tr>\n",
       "    <tr>\n",
       "        <td style=\"padding-left: 1em; padding-right: 1em; text-align: center; vertical-align: top\">335.0</td>\n",
       "        <td style=\"padding-left: 1em; padding-right: 1em; text-align: center; vertical-align: top\">335.0</td>\n",
       "        <td style=\"padding-left: 1em; padding-right: 1em; text-align: center; vertical-align: top\">335.0</td>\n",
       "        <td style=\"padding-left: 1em; padding-right: 1em; text-align: center; vertical-align: top\">...</td>\n",
       "    </tr>\n",
       "    <tr>\n",
       "        <td style=\"padding-left: 1em; padding-right: 1em; text-align: center; vertical-align: top\">335.0</td>\n",
       "        <td style=\"padding-left: 1em; padding-right: 1em; text-align: center; vertical-align: top\">335.0</td>\n",
       "        <td style=\"padding-left: 1em; padding-right: 1em; text-align: center; vertical-align: top\">335.0</td>\n",
       "        <td style=\"padding-left: 1em; padding-right: 1em; text-align: center; vertical-align: top\">...</td>\n",
       "    </tr>\n",
       "    <tr>\n",
       "        <td style=\"padding-left: 1em; padding-right: 1em; text-align: center; vertical-align: top\">335.0</td>\n",
       "        <td style=\"padding-left: 1em; padding-right: 1em; text-align: center; vertical-align: top\">335.0</td>\n",
       "        <td style=\"padding-left: 1em; padding-right: 1em; text-align: center; vertical-align: top\">335.0</td>\n",
       "        <td style=\"padding-left: 1em; padding-right: 1em; text-align: center; vertical-align: top\">...</td>\n",
       "    </tr>\n",
       "    <tr>\n",
       "        <td style=\"padding-left: 1em; padding-right: 1em; text-align: center; vertical-align: top\">335.0</td>\n",
       "        <td style=\"padding-left: 1em; padding-right: 1em; text-align: center; vertical-align: top\">335.0</td>\n",
       "        <td style=\"padding-left: 1em; padding-right: 1em; text-align: center; vertical-align: top\">335.0</td>\n",
       "        <td style=\"padding-left: 1em; padding-right: 1em; text-align: center; vertical-align: top\">...</td>\n",
       "    </tr>\n",
       "    <tr>\n",
       "        <td style=\"padding-left: 1em; padding-right: 1em; text-align: center; vertical-align: top\">335.0</td>\n",
       "        <td style=\"padding-left: 1em; padding-right: 1em; text-align: center; vertical-align: top\">335.0</td>\n",
       "        <td style=\"padding-left: 1em; padding-right: 1em; text-align: center; vertical-align: top\">335.0</td>\n",
       "        <td style=\"padding-left: 1em; padding-right: 1em; text-align: center; vertical-align: top\">...</td>\n",
       "    </tr>\n",
       "    <tr>\n",
       "        <td style=\"padding-left: 1em; padding-right: 1em; text-align: center; vertical-align: top\">335.0</td>\n",
       "        <td style=\"padding-left: 1em; padding-right: 1em; text-align: center; vertical-align: top\">335.0</td>\n",
       "        <td style=\"padding-left: 1em; padding-right: 1em; text-align: center; vertical-align: top\">335.0</td>\n",
       "        <td style=\"padding-left: 1em; padding-right: 1em; text-align: center; vertical-align: top\">...</td>\n",
       "    </tr>\n",
       "    <tr>\n",
       "        <td style=\"padding-left: 1em; padding-right: 1em; text-align: center; vertical-align: top\">335.0</td>\n",
       "        <td style=\"padding-left: 1em; padding-right: 1em; text-align: center; vertical-align: top\">335.0</td>\n",
       "        <td style=\"padding-left: 1em; padding-right: 1em; text-align: center; vertical-align: top\">335.0</td>\n",
       "        <td style=\"padding-left: 1em; padding-right: 1em; text-align: center; vertical-align: top\">...</td>\n",
       "    </tr>\n",
       "    <tr>\n",
       "        <td style=\"padding-left: 1em; padding-right: 1em; text-align: center; vertical-align: top\">335.0</td>\n",
       "        <td style=\"padding-left: 1em; padding-right: 1em; text-align: center; vertical-align: top\">335.0</td>\n",
       "        <td style=\"padding-left: 1em; padding-right: 1em; text-align: center; vertical-align: top\">335.0</td>\n",
       "        <td style=\"padding-left: 1em; padding-right: 1em; text-align: center; vertical-align: top\">...</td>\n",
       "    </tr>\n",
       "    <tr>\n",
       "        <td style=\"padding-left: 1em; padding-right: 1em; text-align: center; vertical-align: top\">335.0</td>\n",
       "        <td style=\"padding-left: 1em; padding-right: 1em; text-align: center; vertical-align: top\">335.0</td>\n",
       "        <td style=\"padding-left: 1em; padding-right: 1em; text-align: center; vertical-align: top\">335.0</td>\n",
       "        <td style=\"padding-left: 1em; padding-right: 1em; text-align: center; vertical-align: top\">...</td>\n",
       "    </tr>\n",
       "</table>\n",
       "[10 rows x 55 columns]<br/>\n",
       "</div>"
      ],
      "text/plain": [
       "Columns:\n",
       "\tint_times\tfloat\n",
       "\tprice\tfloat\n",
       "\tvolume\tfloat\n",
       "\tpri_rol_1\tfloat\n",
       "\tpri_rol_2\tfloat\n",
       "\tpri_rol_3\tfloat\n",
       "\tpri_rol_4\tfloat\n",
       "\tpri_rol_5\tfloat\n",
       "\tpri_rol_10\tfloat\n",
       "\tpri_rol_20\tfloat\n",
       "\tpri_rol_30\tfloat\n",
       "\tpri_rol_40\tfloat\n",
       "\tpri_rol_50\tfloat\n",
       "\tpri_rol_100\tfloat\n",
       "\tpri_rol_200\tfloat\n",
       "\tpri_rol_300\tfloat\n",
       "\tvol_rol_1\tfloat\n",
       "\tvol_rol_2\tfloat\n",
       "\tvol_rol_3\tfloat\n",
       "\tvol_rol_4\tfloat\n",
       "\tvol_rol_5\tfloat\n",
       "\tvol_rol_10\tfloat\n",
       "\tvol_rol_20\tfloat\n",
       "\tvol_rol_30\tfloat\n",
       "\tvol_rol_40\tfloat\n",
       "\tvol_rol_50\tfloat\n",
       "\tvol_rol_100\tfloat\n",
       "\tvol_rol_200\tfloat\n",
       "\tvol_rol_300\tfloat\n",
       "\tmin_rol_1\tfloat\n",
       "\tmin_rol_2\tfloat\n",
       "\tmin_rol_3\tfloat\n",
       "\tmin_rol_4\tfloat\n",
       "\tmin_rol_5\tfloat\n",
       "\tmin_rol_10\tfloat\n",
       "\tmin_rol_20\tfloat\n",
       "\tmin_rol_30\tfloat\n",
       "\tmin_rol_40\tfloat\n",
       "\tmin_rol_50\tfloat\n",
       "\tmin_rol_100\tfloat\n",
       "\tmin_rol_200\tfloat\n",
       "\tmin_rol_300\tfloat\n",
       "\tmax_rol_1\tfloat\n",
       "\tmax_rol_2\tfloat\n",
       "\tmax_rol_3\tfloat\n",
       "\tmax_rol_4\tfloat\n",
       "\tmax_rol_5\tfloat\n",
       "\tmax_rol_10\tfloat\n",
       "\tmax_rol_20\tfloat\n",
       "\tmax_rol_30\tfloat\n",
       "\tmax_rol_40\tfloat\n",
       "\tmax_rol_50\tfloat\n",
       "\tmax_rol_100\tfloat\n",
       "\tmax_rol_200\tfloat\n",
       "\tmax_rol_300\tfloat\n",
       "\n",
       "Rows: 10\n",
       "\n",
       "Data:\n",
       "+---------------+---------------+-----------------+---------------+\n",
       "|   int_times   |     price     |      volume     |   pri_rol_1   |\n",
       "+---------------+---------------+-----------------+---------------+\n",
       "| 1417526708.12 |   377.84375   |      1.8767     |     335.0     |\n",
       "|  1417612312.0 | 377.818333333 | 0.0911014033333 |   356.421875  |\n",
       "|  1417657685.0 |     377.1     |       0.01      | 377.831041667 |\n",
       "|  1417743885.0 |     377.55    |      0.0125     | 377.459166667 |\n",
       "|  1417830085.0 |     378.0     |      0.015      |    377.325    |\n",
       "|  1417953835.5 |    376.5025   |     0.06625     |    377.775    |\n",
       "|  1418077586.0 |    375.005    |      0.1175     |   377.25125   |\n",
       "| 1418128481.25 |    377.1275   |     0.06375     |   375.75375   |\n",
       "|  1418179376.5 |     379.25    |       0.01      |   376.06625   |\n",
       "| 1418267479.45 |    371.074    |       0.32      |   378.18875   |\n",
       "+---------------+---------------+-----------------+---------------+\n",
       "+---------------+---------------+---------------+---------------+---------------+\n",
       "|   pri_rol_2   |   pri_rol_3   |   pri_rol_4   |   pri_rol_5   |   pri_rol_10  |\n",
       "+---------------+---------------+---------------+---------------+---------------+\n",
       "|     335.0     |     335.0     |     335.0     |     335.0     |     335.0     |\n",
       "|   356.421875  |   356.421875  |   356.421875  |   356.421875  |   356.421875  |\n",
       "| 363.554027778 | 363.554027778 | 363.554027778 | 363.554027778 | 363.554027778 |\n",
       "| 377.587361111 | 366.940520833 | 366.940520833 | 366.940520833 | 366.940520833 |\n",
       "| 377.489444444 | 377.578020833 | 369.062416667 | 369.062416667 | 369.062416667 |\n",
       "|     377.55    | 377.617083333 | 377.662416667 | 370.552013889 | 370.552013889 |\n",
       "| 377.350833333 |   377.288125  | 377.394166667 | 377.469097222 | 371.402083333 |\n",
       "|    376.5025   |   376.764375  |    376.8315   | 376.995972222 | 371.852447917 |\n",
       "| 376.211666667 |   376.65875   |    376.837    | 376.880833333 | 372.438564815 |\n",
       "|    377.1275   |   376.97125   |    377.177    | 377.239166667 | 373.119708333 |\n",
       "+---------------+---------------+---------------+---------------+---------------+\n",
       "+---------------+---------------+---------------+---------------+---------------+\n",
       "|   pri_rol_20  |   pri_rol_30  |   pri_rol_40  |   pri_rol_50  |  pri_rol_100  |\n",
       "+---------------+---------------+---------------+---------------+---------------+\n",
       "|     335.0     |     335.0     |     335.0     |     335.0     |     335.0     |\n",
       "|   356.421875  |   356.421875  |   356.421875  |   356.421875  |   356.421875  |\n",
       "| 363.554027778 | 363.554027778 | 363.554027778 | 363.554027778 | 363.554027778 |\n",
       "| 366.940520833 | 366.940520833 | 366.940520833 | 366.940520833 | 366.940520833 |\n",
       "| 369.062416667 | 369.062416667 | 369.062416667 | 369.062416667 | 369.062416667 |\n",
       "| 370.552013889 | 370.552013889 | 370.552013889 | 370.552013889 | 370.552013889 |\n",
       "| 371.402083333 | 371.402083333 | 371.402083333 | 371.402083333 | 371.402083333 |\n",
       "| 371.852447917 | 371.852447917 | 371.852447917 | 371.852447917 | 371.852447917 |\n",
       "| 372.438564815 | 372.438564815 | 372.438564815 | 372.438564815 | 372.438564815 |\n",
       "| 373.119708333 | 373.119708333 | 373.119708333 | 373.119708333 | 373.119708333 |\n",
       "+---------------+---------------+---------------+---------------+---------------+\n",
       "+---------------+---------------+----------------+----------------+\n",
       "|  pri_rol_200  |  pri_rol_300  |   vol_rol_1    |   vol_rol_2    |\n",
       "+---------------+---------------+----------------+----------------+\n",
       "|     335.0     |     335.0     |  0.014138885   |  0.014138885   |\n",
       "|   356.421875  |   356.421875  |  1.890838885   |  1.890838885   |\n",
       "| 363.554027778 | 363.554027778 | 1.96780140333  | 1.98194028833  |\n",
       "| 366.940520833 | 366.940520833 | 0.101101403333 | 1.97780140333  |\n",
       "| 369.062416667 | 369.062416667 |     0.0225     | 0.113601403333 |\n",
       "| 370.552013889 | 370.552013889 |     0.0275     |     0.0375     |\n",
       "| 371.402083333 | 371.402083333 |    0.08125     |    0.09375     |\n",
       "| 371.852447917 | 371.852447917 |    0.18375     |    0.19875     |\n",
       "| 372.438564815 | 372.438564815 |    0.18125     |     0.2475     |\n",
       "| 373.119708333 | 373.119708333 |    0.07375     |    0.19125     |\n",
       "+---------------+---------------+----------------+----------------+\n",
       "+----------------+----------------+-----+\n",
       "|   vol_rol_3    |   vol_rol_4    | ... |\n",
       "+----------------+----------------+-----+\n",
       "|  0.014138885   |  0.014138885   | ... |\n",
       "|  1.890838885   |  1.890838885   | ... |\n",
       "| 1.98194028833  | 1.98194028833  | ... |\n",
       "| 1.99194028833  | 1.99194028833  | ... |\n",
       "| 1.99030140333  | 2.00444028833  | ... |\n",
       "| 0.128601403333 | 2.00530140333  | ... |\n",
       "|    0.10375     | 0.194851403333 | ... |\n",
       "|    0.21125     |    0.22125     | ... |\n",
       "|     0.2625     |     0.275      | ... |\n",
       "|     0.2575     |     0.2725     | ... |\n",
       "+----------------+----------------+-----+\n",
       "[10 rows x 55 columns]"
      ]
     },
     "execution_count": 131,
     "metadata": {},
     "output_type": "execute_result"
    }
   ],
   "source": [
    "model_data.head()"
   ]
  },
  {
   "cell_type": "markdown",
   "metadata": {},
   "source": [
    "roll through our data updating our model at fixed intervals"
   ]
  },
  {
   "cell_type": "code",
   "execution_count": 120,
   "metadata": {
    "collapsed": false
   },
   "outputs": [
    {
     "data": {
      "text/html": [
       "<pre>Boosted trees regression:</pre>"
      ],
      "text/plain": [
       "Boosted trees regression:"
      ]
     },
     "metadata": {},
     "output_type": "display_data"
    },
    {
     "data": {
      "text/html": [
       "<pre>--------------------------------------------------------</pre>"
      ],
      "text/plain": [
       "--------------------------------------------------------"
      ]
     },
     "metadata": {},
     "output_type": "display_data"
    },
    {
     "data": {
      "text/html": [
       "<pre>Number of examples          : 77</pre>"
      ],
      "text/plain": [
       "Number of examples          : 77"
      ]
     },
     "metadata": {},
     "output_type": "display_data"
    },
    {
     "data": {
      "text/html": [
       "<pre>Number of features          : 54</pre>"
      ],
      "text/plain": [
       "Number of features          : 54"
      ]
     },
     "metadata": {},
     "output_type": "display_data"
    },
    {
     "data": {
      "text/html": [
       "<pre>Number of unpacked features : 54</pre>"
      ],
      "text/plain": [
       "Number of unpacked features : 54"
      ]
     },
     "metadata": {},
     "output_type": "display_data"
    },
    {
     "data": {
      "text/html": [
       "<pre>+-----------+--------------+--------------------+---------------+</pre>"
      ],
      "text/plain": [
       "+-----------+--------------+--------------------+---------------+"
      ]
     },
     "metadata": {},
     "output_type": "display_data"
    },
    {
     "data": {
      "text/html": [
       "<pre>| Iteration | Elapsed Time | Training-max_error | Training-rmse |</pre>"
      ],
      "text/plain": [
       "| Iteration | Elapsed Time | Training-max_error | Training-rmse |"
      ]
     },
     "metadata": {},
     "output_type": "display_data"
    },
    {
     "data": {
      "text/html": [
       "<pre>+-----------+--------------+--------------------+---------------+</pre>"
      ],
      "text/plain": [
       "+-----------+--------------+--------------------+---------------+"
      ]
     },
     "metadata": {},
     "output_type": "display_data"
    },
    {
     "data": {
      "text/html": [
       "<pre>| 1         | 0.001003     | 280.284271         | 206.833099    |</pre>"
      ],
      "text/plain": [
       "| 1         | 0.001003     | 280.284271         | 206.833099    |"
      ]
     },
     "metadata": {},
     "output_type": "display_data"
    },
    {
     "data": {
      "text/html": [
       "<pre>| 2         | 0.002005     | 209.619293         | 147.402649    |</pre>"
      ],
      "text/plain": [
       "| 2         | 0.002005     | 209.619293         | 147.402649    |"
      ]
     },
     "metadata": {},
     "output_type": "display_data"
    },
    {
     "data": {
      "text/html": [
       "<pre>| 3         | 0.003008     | 156.807098         | 105.453133    |</pre>"
      ],
      "text/plain": [
       "| 3         | 0.003008     | 156.807098         | 105.453133    |"
      ]
     },
     "metadata": {},
     "output_type": "display_data"
    },
    {
     "data": {
      "text/html": [
       "<pre>| 4         | 0.004010     | 115.896515         | 75.630798     |</pre>"
      ],
      "text/plain": [
       "| 4         | 0.004010     | 115.896515         | 75.630798     |"
      ]
     },
     "metadata": {},
     "output_type": "display_data"
    },
    {
     "data": {
      "text/html": [
       "<pre>| 5         | 0.005013     | 85.666199          | 54.417484     |</pre>"
      ],
      "text/plain": [
       "| 5         | 0.005013     | 85.666199          | 54.417484     |"
      ]
     },
     "metadata": {},
     "output_type": "display_data"
    },
    {
     "data": {
      "text/html": [
       "<pre>| 6         | 0.006015     | 64.792084          | 39.204529     |</pre>"
      ],
      "text/plain": [
       "| 6         | 0.006015     | 64.792084          | 39.204529     |"
      ]
     },
     "metadata": {},
     "output_type": "display_data"
    },
    {
     "data": {
      "text/html": [
       "<pre>+-----------+--------------+--------------------+---------------+</pre>"
      ],
      "text/plain": [
       "+-----------+--------------+--------------------+---------------+"
      ]
     },
     "metadata": {},
     "output_type": "display_data"
    },
    {
     "name": "stdout",
     "output_type": "stream",
     "text": [
      "PROGRESS: Creating a validation set from 5 percent of training data. This may take a while.\n",
      "          You can set ``validation_set=None`` to disable validation tracking.\n",
      "\n"
     ]
    },
    {
     "data": {
      "text/html": [
       "<pre>Boosted trees regression:</pre>"
      ],
      "text/plain": [
       "Boosted trees regression:"
      ]
     },
     "metadata": {},
     "output_type": "display_data"
    },
    {
     "data": {
      "text/html": [
       "<pre>--------------------------------------------------------</pre>"
      ],
      "text/plain": [
       "--------------------------------------------------------"
      ]
     },
     "metadata": {},
     "output_type": "display_data"
    },
    {
     "data": {
      "text/html": [
       "<pre>Number of examples          : 111</pre>"
      ],
      "text/plain": [
       "Number of examples          : 111"
      ]
     },
     "metadata": {},
     "output_type": "display_data"
    },
    {
     "data": {
      "text/html": [
       "<pre>Number of features          : 54</pre>"
      ],
      "text/plain": [
       "Number of features          : 54"
      ]
     },
     "metadata": {},
     "output_type": "display_data"
    },
    {
     "data": {
      "text/html": [
       "<pre>Number of unpacked features : 54</pre>"
      ],
      "text/plain": [
       "Number of unpacked features : 54"
      ]
     },
     "metadata": {},
     "output_type": "display_data"
    },
    {
     "data": {
      "text/html": [
       "<pre>+-----------+--------------+--------------------+----------------------+---------------+-----------------+</pre>"
      ],
      "text/plain": [
       "+-----------+--------------+--------------------+----------------------+---------------+-----------------+"
      ]
     },
     "metadata": {},
     "output_type": "display_data"
    },
    {
     "data": {
      "text/html": [
       "<pre>| Iteration | Elapsed Time | Training-max_error | Validation-max_error | Training-rmse | Validation-rmse |</pre>"
      ],
      "text/plain": [
       "| Iteration | Elapsed Time | Training-max_error | Validation-max_error | Training-rmse | Validation-rmse |"
      ]
     },
     "metadata": {},
     "output_type": "display_data"
    },
    {
     "data": {
      "text/html": [
       "<pre>+-----------+--------------+--------------------+----------------------+---------------+-----------------+</pre>"
      ],
      "text/plain": [
       "+-----------+--------------+--------------------+----------------------+---------------+-----------------+"
      ]
     },
     "metadata": {},
     "output_type": "display_data"
    },
    {
     "data": {
      "text/html": [
       "<pre>| 1         | 0.004010     | 282.610260         | 221.056061           | 200.103394    | 190.113464      |</pre>"
      ],
      "text/plain": [
       "| 1         | 0.004010     | 282.610260         | 221.056061           | 200.103394    | 190.113464      |"
      ]
     },
     "metadata": {},
     "output_type": "display_data"
    },
    {
     "data": {
      "text/html": [
       "<pre>| 2         | 0.006016     | 209.909607         | 148.355408           | 142.277878    | 131.070938      |</pre>"
      ],
      "text/plain": [
       "| 2         | 0.006016     | 209.909607         | 148.355408           | 142.277878    | 131.070938      |"
      ]
     },
     "metadata": {},
     "output_type": "display_data"
    },
    {
     "data": {
      "text/html": [
       "<pre>| 3         | 0.007019     | 162.028305         | 100.474106           | 101.565285    | 85.404175       |</pre>"
      ],
      "text/plain": [
       "| 3         | 0.007019     | 162.028305         | 100.474106           | 101.565285    | 85.404175       |"
      ]
     },
     "metadata": {},
     "output_type": "display_data"
    },
    {
     "data": {
      "text/html": [
       "<pre>| 4         | 0.009024     | 121.431915         | 72.829086            | 72.636063     | 59.195221       |</pre>"
      ],
      "text/plain": [
       "| 4         | 0.009024     | 121.431915         | 72.829086            | 72.636063     | 59.195221       |"
      ]
     },
     "metadata": {},
     "output_type": "display_data"
    },
    {
     "data": {
      "text/html": [
       "<pre>| 5         | 0.010027     | 91.468567          | 52.241180            | 52.140186     | 39.599468       |</pre>"
      ],
      "text/plain": [
       "| 5         | 0.010027     | 91.468567          | 52.241180            | 52.140186     | 39.599468       |"
      ]
     },
     "metadata": {},
     "output_type": "display_data"
    },
    {
     "data": {
      "text/html": [
       "<pre>| 6         | 0.011029     | 68.386505          | 38.397003            | 37.684383     | 26.161127       |</pre>"
      ],
      "text/plain": [
       "| 6         | 0.011029     | 68.386505          | 38.397003            | 37.684383     | 26.161127       |"
      ]
     },
     "metadata": {},
     "output_type": "display_data"
    },
    {
     "data": {
      "text/html": [
       "<pre>+-----------+--------------+--------------------+----------------------+---------------+-----------------+</pre>"
      ],
      "text/plain": [
       "+-----------+--------------+--------------------+----------------------+---------------+-----------------+"
      ]
     },
     "metadata": {},
     "output_type": "display_data"
    },
    {
     "name": "stdout",
     "output_type": "stream",
     "text": [
      "PROGRESS: Creating a validation set from 5 percent of training data. This may take a while.\n",
      "          You can set ``validation_set=None`` to disable validation tracking.\n",
      "\n"
     ]
    },
    {
     "data": {
      "text/html": [
       "<pre>Boosted trees regression:</pre>"
      ],
      "text/plain": [
       "Boosted trees regression:"
      ]
     },
     "metadata": {},
     "output_type": "display_data"
    },
    {
     "data": {
      "text/html": [
       "<pre>--------------------------------------------------------</pre>"
      ],
      "text/plain": [
       "--------------------------------------------------------"
      ]
     },
     "metadata": {},
     "output_type": "display_data"
    },
    {
     "data": {
      "text/html": [
       "<pre>Number of examples          : 155</pre>"
      ],
      "text/plain": [
       "Number of examples          : 155"
      ]
     },
     "metadata": {},
     "output_type": "display_data"
    },
    {
     "data": {
      "text/html": [
       "<pre>Number of features          : 54</pre>"
      ],
      "text/plain": [
       "Number of features          : 54"
      ]
     },
     "metadata": {},
     "output_type": "display_data"
    },
    {
     "data": {
      "text/html": [
       "<pre>Number of unpacked features : 54</pre>"
      ],
      "text/plain": [
       "Number of unpacked features : 54"
      ]
     },
     "metadata": {},
     "output_type": "display_data"
    },
    {
     "data": {
      "text/html": [
       "<pre>+-----------+--------------+--------------------+----------------------+---------------+-----------------+</pre>"
      ],
      "text/plain": [
       "+-----------+--------------+--------------------+----------------------+---------------+-----------------+"
      ]
     },
     "metadata": {},
     "output_type": "display_data"
    },
    {
     "data": {
      "text/html": [
       "<pre>| Iteration | Elapsed Time | Training-max_error | Validation-max_error | Training-rmse | Validation-rmse |</pre>"
      ],
      "text/plain": [
       "| Iteration | Elapsed Time | Training-max_error | Validation-max_error | Training-rmse | Validation-rmse |"
      ]
     },
     "metadata": {},
     "output_type": "display_data"
    },
    {
     "data": {
      "text/html": [
       "<pre>+-----------+--------------+--------------------+----------------------+---------------+-----------------+</pre>"
      ],
      "text/plain": [
       "+-----------+--------------+--------------------+----------------------+---------------+-----------------+"
      ]
     },
     "metadata": {},
     "output_type": "display_data"
    },
    {
     "data": {
      "text/html": [
       "<pre>| 1         | 0.005016     | 283.044922         | 246.294937           | 191.343964    | 188.994781      |</pre>"
      ],
      "text/plain": [
       "| 1         | 0.005016     | 283.044922         | 246.294937           | 191.343964    | 188.994781      |"
      ]
     },
     "metadata": {},
     "output_type": "display_data"
    },
    {
     "data": {
      "text/html": [
       "<pre>| 2         | 0.006018     | 211.026947         | 174.276947           | 135.682571    | 134.988693      |</pre>"
      ],
      "text/plain": [
       "| 2         | 0.006018     | 211.026947         | 174.276947           | 135.682571    | 134.988693      |"
      ]
     },
     "metadata": {},
     "output_type": "display_data"
    },
    {
     "data": {
      "text/html": [
       "<pre>| 3         | 0.007019     | 155.940735         | 119.190735           | 96.483658     | 95.079987       |</pre>"
      ],
      "text/plain": [
       "| 3         | 0.007019     | 155.940735         | 119.190735           | 96.483658     | 95.079987       |"
      ]
     },
     "metadata": {},
     "output_type": "display_data"
    },
    {
     "data": {
      "text/html": [
       "<pre>| 4         | 0.009024     | 115.513916         | 81.171280            | 68.755875     | 67.428177       |</pre>"
      ],
      "text/plain": [
       "| 4         | 0.009024     | 115.513916         | 81.171280            | 68.755875     | 67.428177       |"
      ]
     },
     "metadata": {},
     "output_type": "display_data"
    },
    {
     "data": {
      "text/html": [
       "<pre>| 5         | 0.010027     | 87.891296          | 61.333389            | 49.126637     | 47.918247       |</pre>"
      ],
      "text/plain": [
       "| 5         | 0.010027     | 87.891296          | 61.333389            | 49.126637     | 47.918247       |"
      ]
     },
     "metadata": {},
     "output_type": "display_data"
    },
    {
     "data": {
      "text/html": [
       "<pre>| 6         | 0.012032     | 65.217651          | 45.858139            | 35.243717     | 34.625507       |</pre>"
      ],
      "text/plain": [
       "| 6         | 0.012032     | 65.217651          | 45.858139            | 35.243717     | 34.625507       |"
      ]
     },
     "metadata": {},
     "output_type": "display_data"
    },
    {
     "data": {
      "text/html": [
       "<pre>+-----------+--------------+--------------------+----------------------+---------------+-----------------+</pre>"
      ],
      "text/plain": [
       "+-----------+--------------+--------------------+----------------------+---------------+-----------------+"
      ]
     },
     "metadata": {},
     "output_type": "display_data"
    },
    {
     "name": "stdout",
     "output_type": "stream",
     "text": [
      "PROGRESS: Creating a validation set from 5 percent of training data. This may take a while.\n",
      "          You can set ``validation_set=None`` to disable validation tracking.\n",
      "\n"
     ]
    },
    {
     "data": {
      "text/html": [
       "<pre>Boosted trees regression:</pre>"
      ],
      "text/plain": [
       "Boosted trees regression:"
      ]
     },
     "metadata": {},
     "output_type": "display_data"
    },
    {
     "data": {
      "text/html": [
       "<pre>--------------------------------------------------------</pre>"
      ],
      "text/plain": [
       "--------------------------------------------------------"
      ]
     },
     "metadata": {},
     "output_type": "display_data"
    },
    {
     "data": {
      "text/html": [
       "<pre>Number of examples          : 171</pre>"
      ],
      "text/plain": [
       "Number of examples          : 171"
      ]
     },
     "metadata": {},
     "output_type": "display_data"
    },
    {
     "data": {
      "text/html": [
       "<pre>Number of features          : 54</pre>"
      ],
      "text/plain": [
       "Number of features          : 54"
      ]
     },
     "metadata": {},
     "output_type": "display_data"
    },
    {
     "data": {
      "text/html": [
       "<pre>Number of unpacked features : 54</pre>"
      ],
      "text/plain": [
       "Number of unpacked features : 54"
      ]
     },
     "metadata": {},
     "output_type": "display_data"
    },
    {
     "data": {
      "text/html": [
       "<pre>+-----------+--------------+--------------------+----------------------+---------------+-----------------+</pre>"
      ],
      "text/plain": [
       "+-----------+--------------+--------------------+----------------------+---------------+-----------------+"
      ]
     },
     "metadata": {},
     "output_type": "display_data"
    },
    {
     "data": {
      "text/html": [
       "<pre>| Iteration | Elapsed Time | Training-max_error | Validation-max_error | Training-rmse | Validation-rmse |</pre>"
      ],
      "text/plain": [
       "| Iteration | Elapsed Time | Training-max_error | Validation-max_error | Training-rmse | Validation-rmse |"
      ]
     },
     "metadata": {},
     "output_type": "display_data"
    },
    {
     "data": {
      "text/html": [
       "<pre>+-----------+--------------+--------------------+----------------------+---------------+-----------------+</pre>"
      ],
      "text/plain": [
       "+-----------+--------------+--------------------+----------------------+---------------+-----------------+"
      ]
     },
     "metadata": {},
     "output_type": "display_data"
    },
    {
     "data": {
      "text/html": [
       "<pre>| 1         | 0.003009     | 283.176697         | 281.476685           | 188.160751    | 190.232986      |</pre>"
      ],
      "text/plain": [
       "| 1         | 0.003009     | 283.176697         | 281.476685           | 188.160751    | 190.232986      |"
      ]
     },
     "metadata": {},
     "output_type": "display_data"
    },
    {
     "data": {
      "text/html": [
       "<pre>| 2         | 0.004012     | 211.265381         | 209.565369           | 133.293823    | 134.019287      |</pre>"
      ],
      "text/plain": [
       "| 2         | 0.004012     | 211.265381         | 209.565369           | 133.293823    | 134.019287      |"
      ]
     },
     "metadata": {},
     "output_type": "display_data"
    },
    {
     "data": {
      "text/html": [
       "<pre>| 3         | 0.016042     | 163.763229         | 162.063217           | 94.723640     | 95.655571       |</pre>"
      ],
      "text/plain": [
       "| 3         | 0.016042     | 163.763229         | 162.063217           | 94.723640     | 95.655571       |"
      ]
     },
     "metadata": {},
     "output_type": "display_data"
    },
    {
     "data": {
      "text/html": [
       "<pre>| 4         | 0.020053     | 123.171631         | 121.471619           | 67.455833     | 67.637703       |</pre>"
      ],
      "text/plain": [
       "| 4         | 0.020053     | 123.171631         | 121.471619           | 67.455833     | 67.637703       |"
      ]
     },
     "metadata": {},
     "output_type": "display_data"
    },
    {
     "data": {
      "text/html": [
       "<pre>| 5         | 0.021055     | 92.794281          | 91.094269            | 48.183777     | 48.385349       |</pre>"
      ],
      "text/plain": [
       "| 5         | 0.021055     | 92.794281          | 91.094269            | 48.183777     | 48.385349       |"
      ]
     },
     "metadata": {},
     "output_type": "display_data"
    },
    {
     "data": {
      "text/html": [
       "<pre>| 6         | 0.021055     | 70.759308          | 69.059296            | 34.663944     | 34.386433       |</pre>"
      ],
      "text/plain": [
       "| 6         | 0.021055     | 70.759308          | 69.059296            | 34.663944     | 34.386433       |"
      ]
     },
     "metadata": {},
     "output_type": "display_data"
    },
    {
     "data": {
      "text/html": [
       "<pre>+-----------+--------------+--------------------+----------------------+---------------+-----------------+</pre>"
      ],
      "text/plain": [
       "+-----------+--------------+--------------------+----------------------+---------------+-----------------+"
      ]
     },
     "metadata": {},
     "output_type": "display_data"
    },
    {
     "name": "stdout",
     "output_type": "stream",
     "text": [
      "PROGRESS: Creating a validation set from 5 percent of training data. This may take a while.\n",
      "          You can set ``validation_set=None`` to disable validation tracking.\n",
      "\n"
     ]
    },
    {
     "data": {
      "text/html": [
       "<pre>Boosted trees regression:</pre>"
      ],
      "text/plain": [
       "Boosted trees regression:"
      ]
     },
     "metadata": {},
     "output_type": "display_data"
    },
    {
     "data": {
      "text/html": [
       "<pre>--------------------------------------------------------</pre>"
      ],
      "text/plain": [
       "--------------------------------------------------------"
      ]
     },
     "metadata": {},
     "output_type": "display_data"
    },
    {
     "data": {
      "text/html": [
       "<pre>Number of examples          : 187</pre>"
      ],
      "text/plain": [
       "Number of examples          : 187"
      ]
     },
     "metadata": {},
     "output_type": "display_data"
    },
    {
     "data": {
      "text/html": [
       "<pre>Number of features          : 54</pre>"
      ],
      "text/plain": [
       "Number of features          : 54"
      ]
     },
     "metadata": {},
     "output_type": "display_data"
    },
    {
     "data": {
      "text/html": [
       "<pre>Number of unpacked features : 54</pre>"
      ],
      "text/plain": [
       "Number of unpacked features : 54"
      ]
     },
     "metadata": {},
     "output_type": "display_data"
    },
    {
     "data": {
      "text/html": [
       "<pre>+-----------+--------------+--------------------+----------------------+---------------+-----------------+</pre>"
      ],
      "text/plain": [
       "+-----------+--------------+--------------------+----------------------+---------------+-----------------+"
      ]
     },
     "metadata": {},
     "output_type": "display_data"
    },
    {
     "data": {
      "text/html": [
       "<pre>| Iteration | Elapsed Time | Training-max_error | Validation-max_error | Training-rmse | Validation-rmse |</pre>"
      ],
      "text/plain": [
       "| Iteration | Elapsed Time | Training-max_error | Validation-max_error | Training-rmse | Validation-rmse |"
      ]
     },
     "metadata": {},
     "output_type": "display_data"
    },
    {
     "data": {
      "text/html": [
       "<pre>+-----------+--------------+--------------------+----------------------+---------------+-----------------+</pre>"
      ],
      "text/plain": [
       "+-----------+--------------+--------------------+----------------------+---------------+-----------------+"
      ]
     },
     "metadata": {},
     "output_type": "display_data"
    },
    {
     "data": {
      "text/html": [
       "<pre>| 1         | 0.004011     | 281.845276         | 283.095276           | 186.475571    | 185.651382      |</pre>"
      ],
      "text/plain": [
       "| 1         | 0.004011     | 281.845276         | 283.095276           | 186.475571    | 185.651382      |"
      ]
     },
     "metadata": {},
     "output_type": "display_data"
    },
    {
     "data": {
      "text/html": [
       "<pre>| 2         | 0.005014     | 210.423904         | 211.673904           | 132.023224    | 133.194687      |</pre>"
      ],
      "text/plain": [
       "| 2         | 0.005014     | 210.423904         | 211.673904           | 132.023224    | 133.194687      |"
      ]
     },
     "metadata": {},
     "output_type": "display_data"
    },
    {
     "data": {
      "text/html": [
       "<pre>| 3         | 0.005014     | 162.770798         | 164.020798           | 93.783539     | 93.875610       |</pre>"
      ],
      "text/plain": [
       "| 3         | 0.005014     | 162.770798         | 164.020798           | 93.783539     | 93.875610       |"
      ]
     },
     "metadata": {},
     "output_type": "display_data"
    },
    {
     "data": {
      "text/html": [
       "<pre>| 4         | 0.007019     | 122.567963         | 123.817963           | 66.750610     | 67.614784       |</pre>"
      ],
      "text/plain": [
       "| 4         | 0.007019     | 122.567963         | 123.817963           | 66.750610     | 67.614784       |"
      ]
     },
     "metadata": {},
     "output_type": "display_data"
    },
    {
     "data": {
      "text/html": [
       "<pre>| 5         | 0.008021     | 92.275330          | 93.525330            | 47.648487     | 48.701111       |</pre>"
      ],
      "text/plain": [
       "| 5         | 0.008021     | 92.275330          | 93.525330            | 47.648487     | 48.701111       |"
      ]
     },
     "metadata": {},
     "output_type": "display_data"
    },
    {
     "data": {
      "text/html": [
       "<pre>| 6         | 0.009024     | 70.574066          | 71.824066            | 34.272205     | 35.463493       |</pre>"
      ],
      "text/plain": [
       "| 6         | 0.009024     | 70.574066          | 71.824066            | 34.272205     | 35.463493       |"
      ]
     },
     "metadata": {},
     "output_type": "display_data"
    },
    {
     "data": {
      "text/html": [
       "<pre>+-----------+--------------+--------------------+----------------------+---------------+-----------------+</pre>"
      ],
      "text/plain": [
       "+-----------+--------------+--------------------+----------------------+---------------+-----------------+"
      ]
     },
     "metadata": {},
     "output_type": "display_data"
    },
    {
     "name": "stdout",
     "output_type": "stream",
     "text": [
      "PROGRESS: Creating a validation set from 5 percent of training data. This may take a while.\n",
      "          You can set ``validation_set=None`` to disable validation tracking.\n",
      "\n"
     ]
    },
    {
     "data": {
      "text/html": [
       "<pre>Boosted trees regression:</pre>"
      ],
      "text/plain": [
       "Boosted trees regression:"
      ]
     },
     "metadata": {},
     "output_type": "display_data"
    },
    {
     "data": {
      "text/html": [
       "<pre>--------------------------------------------------------</pre>"
      ],
      "text/plain": [
       "--------------------------------------------------------"
      ]
     },
     "metadata": {},
     "output_type": "display_data"
    },
    {
     "data": {
      "text/html": [
       "<pre>Number of examples          : 211</pre>"
      ],
      "text/plain": [
       "Number of examples          : 211"
      ]
     },
     "metadata": {},
     "output_type": "display_data"
    },
    {
     "data": {
      "text/html": [
       "<pre>Number of features          : 54</pre>"
      ],
      "text/plain": [
       "Number of features          : 54"
      ]
     },
     "metadata": {},
     "output_type": "display_data"
    },
    {
     "data": {
      "text/html": [
       "<pre>Number of unpacked features : 54</pre>"
      ],
      "text/plain": [
       "Number of unpacked features : 54"
      ]
     },
     "metadata": {},
     "output_type": "display_data"
    },
    {
     "data": {
      "text/html": [
       "<pre>+-----------+--------------+--------------------+----------------------+---------------+-----------------+</pre>"
      ],
      "text/plain": [
       "+-----------+--------------+--------------------+----------------------+---------------+-----------------+"
      ]
     },
     "metadata": {},
     "output_type": "display_data"
    },
    {
     "data": {
      "text/html": [
       "<pre>| Iteration | Elapsed Time | Training-max_error | Validation-max_error | Training-rmse | Validation-rmse |</pre>"
      ],
      "text/plain": [
       "| Iteration | Elapsed Time | Training-max_error | Validation-max_error | Training-rmse | Validation-rmse |"
      ]
     },
     "metadata": {},
     "output_type": "display_data"
    },
    {
     "data": {
      "text/html": [
       "<pre>+-----------+--------------+--------------------+----------------------+---------------+-----------------+</pre>"
      ],
      "text/plain": [
       "+-----------+--------------+--------------------+----------------------+---------------+-----------------+"
      ]
     },
     "metadata": {},
     "output_type": "display_data"
    },
    {
     "data": {
      "text/html": [
       "<pre>| 1         | 0.004011     | 284.273560         | 280.028564           | 185.267136    | 203.184418      |</pre>"
      ],
      "text/plain": [
       "| 1         | 0.004011     | 284.273560         | 280.028564           | 185.267136    | 203.184418      |"
      ]
     },
     "metadata": {},
     "output_type": "display_data"
    },
    {
     "data": {
      "text/html": [
       "<pre>| 2         | 0.005013     | 211.920654         | 207.675659           | 131.125671    | 144.722580      |</pre>"
      ],
      "text/plain": [
       "| 2         | 0.005013     | 211.920654         | 207.675659           | 131.125671    | 144.722580      |"
      ]
     },
     "metadata": {},
     "output_type": "display_data"
    },
    {
     "data": {
      "text/html": [
       "<pre>| 3         | 0.008022     | 164.805603         | 160.560608           | 93.036896     | 104.012459      |</pre>"
      ],
      "text/plain": [
       "| 3         | 0.008022     | 164.805603         | 160.560608           | 93.036896     | 104.012459      |"
      ]
     },
     "metadata": {},
     "output_type": "display_data"
    },
    {
     "data": {
      "text/html": [
       "<pre>| 4         | 0.010026     | 124.191193         | 119.946198           | 66.125664     | 74.799294       |</pre>"
      ],
      "text/plain": [
       "| 4         | 0.010026     | 124.191193         | 119.946198           | 66.125664     | 74.799294       |"
      ]
     },
     "metadata": {},
     "output_type": "display_data"
    },
    {
     "data": {
      "text/html": [
       "<pre>| 5         | 0.012031     | 93.346252          | 89.101257            | 47.129642     | 54.135170       |</pre>"
      ],
      "text/plain": [
       "| 5         | 0.012031     | 93.346252          | 89.101257            | 47.129642     | 54.135170       |"
      ]
     },
     "metadata": {},
     "output_type": "display_data"
    },
    {
     "data": {
      "text/html": [
       "<pre>| 6         | 0.014037     | 69.703857          | 65.458862            | 33.780140     | 39.719955       |</pre>"
      ],
      "text/plain": [
       "| 6         | 0.014037     | 69.703857          | 65.458862            | 33.780140     | 39.719955       |"
      ]
     },
     "metadata": {},
     "output_type": "display_data"
    },
    {
     "data": {
      "text/html": [
       "<pre>+-----------+--------------+--------------------+----------------------+---------------+-----------------+</pre>"
      ],
      "text/plain": [
       "+-----------+--------------+--------------------+----------------------+---------------+-----------------+"
      ]
     },
     "metadata": {},
     "output_type": "display_data"
    },
    {
     "name": "stdout",
     "output_type": "stream",
     "text": [
      "PROGRESS: Creating a validation set from 5 percent of training data. This may take a while.\n",
      "          You can set ``validation_set=None`` to disable validation tracking.\n",
      "\n"
     ]
    },
    {
     "data": {
      "text/html": [
       "<pre>Boosted trees regression:</pre>"
      ],
      "text/plain": [
       "Boosted trees regression:"
      ]
     },
     "metadata": {},
     "output_type": "display_data"
    },
    {
     "data": {
      "text/html": [
       "<pre>--------------------------------------------------------</pre>"
      ],
      "text/plain": [
       "--------------------------------------------------------"
      ]
     },
     "metadata": {},
     "output_type": "display_data"
    },
    {
     "data": {
      "text/html": [
       "<pre>Number of examples          : 217</pre>"
      ],
      "text/plain": [
       "Number of examples          : 217"
      ]
     },
     "metadata": {},
     "output_type": "display_data"
    },
    {
     "data": {
      "text/html": [
       "<pre>Number of features          : 54</pre>"
      ],
      "text/plain": [
       "Number of features          : 54"
      ]
     },
     "metadata": {},
     "output_type": "display_data"
    },
    {
     "data": {
      "text/html": [
       "<pre>Number of unpacked features : 54</pre>"
      ],
      "text/plain": [
       "Number of unpacked features : 54"
      ]
     },
     "metadata": {},
     "output_type": "display_data"
    },
    {
     "data": {
      "text/html": [
       "<pre>+-----------+--------------+--------------------+----------------------+---------------+-----------------+</pre>"
      ],
      "text/plain": [
       "+-----------+--------------+--------------------+----------------------+---------------+-----------------+"
      ]
     },
     "metadata": {},
     "output_type": "display_data"
    },
    {
     "data": {
      "text/html": [
       "<pre>| Iteration | Elapsed Time | Training-max_error | Validation-max_error | Training-rmse | Validation-rmse |</pre>"
      ],
      "text/plain": [
       "| Iteration | Elapsed Time | Training-max_error | Validation-max_error | Training-rmse | Validation-rmse |"
      ]
     },
     "metadata": {},
     "output_type": "display_data"
    },
    {
     "data": {
      "text/html": [
       "<pre>+-----------+--------------+--------------------+----------------------+---------------+-----------------+</pre>"
      ],
      "text/plain": [
       "+-----------+--------------+--------------------+----------------------+---------------+-----------------+"
      ]
     },
     "metadata": {},
     "output_type": "display_data"
    },
    {
     "data": {
      "text/html": [
       "<pre>| 1         | 0.004010     | 284.807251         | 191.111343           | 187.246078    | 163.622772      |</pre>"
      ],
      "text/plain": [
       "| 1         | 0.004010     | 284.807251         | 191.111343           | 187.246078    | 163.622772      |"
      ]
     },
     "metadata": {},
     "output_type": "display_data"
    },
    {
     "data": {
      "text/html": [
       "<pre>| 2         | 0.004010     | 212.223297         | 139.913696           | 132.460312    | 112.847809      |</pre>"
      ],
      "text/plain": [
       "| 2         | 0.004010     | 212.223297         | 139.913696           | 132.460312    | 112.847809      |"
      ]
     },
     "metadata": {},
     "output_type": "display_data"
    },
    {
     "data": {
      "text/html": [
       "<pre>| 3         | 0.006015     | 156.915649         | 103.460983           | 93.873779     | 78.225281       |</pre>"
      ],
      "text/plain": [
       "| 3         | 0.006015     | 156.915649         | 103.460983           | 93.873779     | 78.225281       |"
      ]
     },
     "metadata": {},
     "output_type": "display_data"
    },
    {
     "data": {
      "text/html": [
       "<pre>| 4         | 0.006015     | 116.267365         | 73.651489            | 66.682404     | 54.610054       |</pre>"
      ],
      "text/plain": [
       "| 4         | 0.006015     | 116.267365         | 73.651489            | 66.682404     | 54.610054       |"
      ]
     },
     "metadata": {},
     "output_type": "display_data"
    },
    {
     "data": {
      "text/html": [
       "<pre>| 5         | 0.007017     | 88.726532          | 53.787262            | 47.516739     | 37.862743       |</pre>"
      ],
      "text/plain": [
       "| 5         | 0.007017     | 88.726532          | 53.787262            | 47.516739     | 37.862743       |"
      ]
     },
     "metadata": {},
     "output_type": "display_data"
    },
    {
     "data": {
      "text/html": [
       "<pre>| 6         | 0.008020     | 65.820221          | 40.536453            | 34.034184     | 26.494486       |</pre>"
      ],
      "text/plain": [
       "| 6         | 0.008020     | 65.820221          | 40.536453            | 34.034184     | 26.494486       |"
      ]
     },
     "metadata": {},
     "output_type": "display_data"
    },
    {
     "data": {
      "text/html": [
       "<pre>+-----------+--------------+--------------------+----------------------+---------------+-----------------+</pre>"
      ],
      "text/plain": [
       "+-----------+--------------+--------------------+----------------------+---------------+-----------------+"
      ]
     },
     "metadata": {},
     "output_type": "display_data"
    },
    {
     "name": "stdout",
     "output_type": "stream",
     "text": [
      "PROGRESS: Creating a validation set from 5 percent of training data. This may take a while.\n",
      "          You can set ``validation_set=None`` to disable validation tracking.\n",
      "\n"
     ]
    },
    {
     "data": {
      "text/html": [
       "<pre>Boosted trees regression:</pre>"
      ],
      "text/plain": [
       "Boosted trees regression:"
      ]
     },
     "metadata": {},
     "output_type": "display_data"
    },
    {
     "data": {
      "text/html": [
       "<pre>--------------------------------------------------------</pre>"
      ],
      "text/plain": [
       "--------------------------------------------------------"
      ]
     },
     "metadata": {},
     "output_type": "display_data"
    },
    {
     "data": {
      "text/html": [
       "<pre>Number of examples          : 429</pre>"
      ],
      "text/plain": [
       "Number of examples          : 429"
      ]
     },
     "metadata": {},
     "output_type": "display_data"
    },
    {
     "data": {
      "text/html": [
       "<pre>Number of features          : 54</pre>"
      ],
      "text/plain": [
       "Number of features          : 54"
      ]
     },
     "metadata": {},
     "output_type": "display_data"
    },
    {
     "data": {
      "text/html": [
       "<pre>Number of unpacked features : 54</pre>"
      ],
      "text/plain": [
       "Number of unpacked features : 54"
      ]
     },
     "metadata": {},
     "output_type": "display_data"
    },
    {
     "data": {
      "text/html": [
       "<pre>+-----------+--------------+--------------------+----------------------+---------------+-----------------+</pre>"
      ],
      "text/plain": [
       "+-----------+--------------+--------------------+----------------------+---------------+-----------------+"
      ]
     },
     "metadata": {},
     "output_type": "display_data"
    },
    {
     "data": {
      "text/html": [
       "<pre>| Iteration | Elapsed Time | Training-max_error | Validation-max_error | Training-rmse | Validation-rmse |</pre>"
      ],
      "text/plain": [
       "| Iteration | Elapsed Time | Training-max_error | Validation-max_error | Training-rmse | Validation-rmse |"
      ]
     },
     "metadata": {},
     "output_type": "display_data"
    },
    {
     "data": {
      "text/html": [
       "<pre>+-----------+--------------+--------------------+----------------------+---------------+-----------------+</pre>"
      ],
      "text/plain": [
       "+-----------+--------------+--------------------+----------------------+---------------+-----------------+"
      ]
     },
     "metadata": {},
     "output_type": "display_data"
    },
    {
     "data": {
      "text/html": [
       "<pre>| 1         | 0.005015     | 334.817139         | 336.247375           | 212.919144    | 229.601105      |</pre>"
      ],
      "text/plain": [
       "| 1         | 0.005015     | 334.817139         | 336.247375           | 212.919144    | 229.601105      |"
      ]
     },
     "metadata": {},
     "output_type": "display_data"
    },
    {
     "data": {
      "text/html": [
       "<pre>| 2         | 0.007018     | 251.196838         | 252.627075           | 150.138901    | 160.895706      |</pre>"
      ],
      "text/plain": [
       "| 2         | 0.007018     | 251.196838         | 252.627075           | 150.138901    | 160.895706      |"
      ]
     },
     "metadata": {},
     "output_type": "display_data"
    },
    {
     "data": {
      "text/html": [
       "<pre>| 3         | 0.012033     | 184.680695         | 186.110931           | 106.018417    | 113.726799      |</pre>"
      ],
      "text/plain": [
       "| 3         | 0.012033     | 184.680695         | 186.110931           | 106.018417    | 113.726799      |"
      ]
     },
     "metadata": {},
     "output_type": "display_data"
    },
    {
     "data": {
      "text/html": [
       "<pre>| 4         | 0.017047     | 141.674744         | 143.104980           | 75.004715     | 80.145889       |</pre>"
      ],
      "text/plain": [
       "| 4         | 0.017047     | 141.674744         | 143.104980           | 75.004715     | 80.145889       |"
      ]
     },
     "metadata": {},
     "output_type": "display_data"
    },
    {
     "data": {
      "text/html": [
       "<pre>| 5         | 0.020053     | 113.765167         | 108.413330           | 53.272812     | 57.168419       |</pre>"
      ],
      "text/plain": [
       "| 5         | 0.020053     | 113.765167         | 108.413330           | 53.272812     | 57.168419       |"
      ]
     },
     "metadata": {},
     "output_type": "display_data"
    },
    {
     "data": {
      "text/html": [
       "<pre>| 6         | 0.023061     | 95.909180          | 83.735962            | 38.037159     | 40.985630       |</pre>"
      ],
      "text/plain": [
       "| 6         | 0.023061     | 95.909180          | 83.735962            | 38.037159     | 40.985630       |"
      ]
     },
     "metadata": {},
     "output_type": "display_data"
    },
    {
     "data": {
      "text/html": [
       "<pre>+-----------+--------------+--------------------+----------------------+---------------+-----------------+</pre>"
      ],
      "text/plain": [
       "+-----------+--------------+--------------------+----------------------+---------------+-----------------+"
      ]
     },
     "metadata": {},
     "output_type": "display_data"
    },
    {
     "name": "stdout",
     "output_type": "stream",
     "text": [
      "PROGRESS: Creating a validation set from 5 percent of training data. This may take a while.\n",
      "          You can set ``validation_set=None`` to disable validation tracking.\n",
      "\n"
     ]
    },
    {
     "data": {
      "text/html": [
       "<pre>Boosted trees regression:</pre>"
      ],
      "text/plain": [
       "Boosted trees regression:"
      ]
     },
     "metadata": {},
     "output_type": "display_data"
    },
    {
     "data": {
      "text/html": [
       "<pre>--------------------------------------------------------</pre>"
      ],
      "text/plain": [
       "--------------------------------------------------------"
      ]
     },
     "metadata": {},
     "output_type": "display_data"
    },
    {
     "data": {
      "text/html": [
       "<pre>Number of examples          : 558</pre>"
      ],
      "text/plain": [
       "Number of examples          : 558"
      ]
     },
     "metadata": {},
     "output_type": "display_data"
    },
    {
     "data": {
      "text/html": [
       "<pre>Number of features          : 54</pre>"
      ],
      "text/plain": [
       "Number of features          : 54"
      ]
     },
     "metadata": {},
     "output_type": "display_data"
    },
    {
     "data": {
      "text/html": [
       "<pre>Number of unpacked features : 54</pre>"
      ],
      "text/plain": [
       "Number of unpacked features : 54"
      ]
     },
     "metadata": {},
     "output_type": "display_data"
    },
    {
     "data": {
      "text/html": [
       "<pre>+-----------+--------------+--------------------+----------------------+---------------+-----------------+</pre>"
      ],
      "text/plain": [
       "+-----------+--------------+--------------------+----------------------+---------------+-----------------+"
      ]
     },
     "metadata": {},
     "output_type": "display_data"
    },
    {
     "data": {
      "text/html": [
       "<pre>| Iteration | Elapsed Time | Training-max_error | Validation-max_error | Training-rmse | Validation-rmse |</pre>"
      ],
      "text/plain": [
       "| Iteration | Elapsed Time | Training-max_error | Validation-max_error | Training-rmse | Validation-rmse |"
      ]
     },
     "metadata": {},
     "output_type": "display_data"
    },
    {
     "data": {
      "text/html": [
       "<pre>+-----------+--------------+--------------------+----------------------+---------------+-----------------+</pre>"
      ],
      "text/plain": [
       "+-----------+--------------+--------------------+----------------------+---------------+-----------------+"
      ]
     },
     "metadata": {},
     "output_type": "display_data"
    },
    {
     "data": {
      "text/html": [
       "<pre>| 1         | 0.009023     | 574.581726         | 314.148560           | 251.828171    | 216.529877      |</pre>"
      ],
      "text/plain": [
       "| 1         | 0.009023     | 574.581726         | 314.148560           | 251.828171    | 216.529877      |"
      ]
     },
     "metadata": {},
     "output_type": "display_data"
    },
    {
     "data": {
      "text/html": [
       "<pre>| 2         | 0.017045     | 438.519409         | 222.614761           | 177.847870    | 150.688553      |</pre>"
      ],
      "text/plain": [
       "| 2         | 0.017045     | 438.519409         | 222.614761           | 177.847870    | 150.688553      |"
      ]
     },
     "metadata": {},
     "output_type": "display_data"
    },
    {
     "data": {
      "text/html": [
       "<pre>| 3         | 0.021060     | 335.038635         | 156.008484           | 125.801506    | 105.236145      |</pre>"
      ],
      "text/plain": [
       "| 3         | 0.021060     | 335.038635         | 156.008484           | 125.801506    | 105.236145      |"
      ]
     },
     "metadata": {},
     "output_type": "display_data"
    },
    {
     "data": {
      "text/html": [
       "<pre>| 4         | 0.025065     | 261.190979         | 108.416687           | 89.259216     | 73.690140       |</pre>"
      ],
      "text/plain": [
       "| 4         | 0.025065     | 261.190979         | 108.416687           | 89.259216     | 73.690140       |"
      ]
     },
     "metadata": {},
     "output_type": "display_data"
    },
    {
     "data": {
      "text/html": [
       "<pre>| 5         | 0.028073     | 212.169067         | 80.890228            | 63.597836     | 52.237556       |</pre>"
      ],
      "text/plain": [
       "| 5         | 0.028073     | 212.169067         | 80.890228            | 63.597836     | 52.237556       |"
      ]
     },
     "metadata": {},
     "output_type": "display_data"
    },
    {
     "data": {
      "text/html": [
       "<pre>| 6         | 0.034090     | 163.836853         | 61.008606            | 45.578236     | 36.986408       |</pre>"
      ],
      "text/plain": [
       "| 6         | 0.034090     | 163.836853         | 61.008606            | 45.578236     | 36.986408       |"
      ]
     },
     "metadata": {},
     "output_type": "display_data"
    },
    {
     "data": {
      "text/html": [
       "<pre>+-----------+--------------+--------------------+----------------------+---------------+-----------------+</pre>"
      ],
      "text/plain": [
       "+-----------+--------------+--------------------+----------------------+---------------+-----------------+"
      ]
     },
     "metadata": {},
     "output_type": "display_data"
    },
    {
     "name": "stdout",
     "output_type": "stream",
     "text": [
      "PROGRESS: Creating a validation set from 5 percent of training data. This may take a while.\n",
      "          You can set ``validation_set=None`` to disable validation tracking.\n",
      "\n"
     ]
    },
    {
     "data": {
      "text/html": [
       "<pre>Boosted trees regression:</pre>"
      ],
      "text/plain": [
       "Boosted trees regression:"
      ]
     },
     "metadata": {},
     "output_type": "display_data"
    },
    {
     "data": {
      "text/html": [
       "<pre>--------------------------------------------------------</pre>"
      ],
      "text/plain": [
       "--------------------------------------------------------"
      ]
     },
     "metadata": {},
     "output_type": "display_data"
    },
    {
     "data": {
      "text/html": [
       "<pre>Number of examples          : 910</pre>"
      ],
      "text/plain": [
       "Number of examples          : 910"
      ]
     },
     "metadata": {},
     "output_type": "display_data"
    },
    {
     "data": {
      "text/html": [
       "<pre>Number of features          : 54</pre>"
      ],
      "text/plain": [
       "Number of features          : 54"
      ]
     },
     "metadata": {},
     "output_type": "display_data"
    },
    {
     "data": {
      "text/html": [
       "<pre>Number of unpacked features : 54</pre>"
      ],
      "text/plain": [
       "Number of unpacked features : 54"
      ]
     },
     "metadata": {},
     "output_type": "display_data"
    },
    {
     "data": {
      "text/html": [
       "<pre>+-----------+--------------+--------------------+----------------------+---------------+-----------------+</pre>"
      ],
      "text/plain": [
       "+-----------+--------------+--------------------+----------------------+---------------+-----------------+"
      ]
     },
     "metadata": {},
     "output_type": "display_data"
    },
    {
     "data": {
      "text/html": [
       "<pre>| Iteration | Elapsed Time | Training-max_error | Validation-max_error | Training-rmse | Validation-rmse |</pre>"
      ],
      "text/plain": [
       "| Iteration | Elapsed Time | Training-max_error | Validation-max_error | Training-rmse | Validation-rmse |"
      ]
     },
     "metadata": {},
     "output_type": "display_data"
    },
    {
     "data": {
      "text/html": [
       "<pre>+-----------+--------------+--------------------+----------------------+---------------+-----------------+</pre>"
      ],
      "text/plain": [
       "+-----------+--------------+--------------------+----------------------+---------------+-----------------+"
      ]
     },
     "metadata": {},
     "output_type": "display_data"
    },
    {
     "data": {
      "text/html": [
       "<pre>| 1         | 0.012033     | 2192.634277        | 1603.083374          | 607.824402    | 435.819550      |</pre>"
      ],
      "text/plain": [
       "| 1         | 0.012033     | 2192.634277        | 1603.083374          | 607.824402    | 435.819550      |"
      ]
     },
     "metadata": {},
     "output_type": "display_data"
    },
    {
     "data": {
      "text/html": [
       "<pre>| 2         | 0.018048     | 1665.221924        | 1075.671143          | 430.788696    | 304.745148      |</pre>"
      ],
      "text/plain": [
       "| 2         | 0.018048     | 1665.221924        | 1075.671143          | 430.788696    | 304.745148      |"
      ]
     },
     "metadata": {},
     "output_type": "display_data"
    },
    {
     "data": {
      "text/html": [
       "<pre>| 3         | 0.023061     | 1278.670288        | 689.119507           | 305.909027    | 210.332855      |</pre>"
      ],
      "text/plain": [
       "| 3         | 0.023061     | 1278.670288        | 689.119507           | 305.909027    | 210.332855      |"
      ]
     },
     "metadata": {},
     "output_type": "display_data"
    },
    {
     "data": {
      "text/html": [
       "<pre>| 4         | 0.028074     | 1006.156616        | 416.605835           | 217.824554    | 144.745575      |</pre>"
      ],
      "text/plain": [
       "| 4         | 0.028074     | 1006.156616        | 416.605835           | 217.824554    | 144.745575      |"
      ]
     },
     "metadata": {},
     "output_type": "display_data"
    },
    {
     "data": {
      "text/html": [
       "<pre>| 5         | 0.033087     | 820.313232         | 230.762451           | 156.093857    | 99.189224       |</pre>"
      ],
      "text/plain": [
       "| 5         | 0.033087     | 820.313232         | 230.762451           | 156.093857    | 99.189224       |"
      ]
     },
     "metadata": {},
     "output_type": "display_data"
    },
    {
     "data": {
      "text/html": [
       "<pre>| 6         | 0.039104     | 645.094482         | 159.159851           | 112.644844    | 69.864571       |</pre>"
      ],
      "text/plain": [
       "| 6         | 0.039104     | 645.094482         | 159.159851           | 112.644844    | 69.864571       |"
      ]
     },
     "metadata": {},
     "output_type": "display_data"
    },
    {
     "data": {
      "text/html": [
       "<pre>+-----------+--------------+--------------------+----------------------+---------------+-----------------+</pre>"
      ],
      "text/plain": [
       "+-----------+--------------+--------------------+----------------------+---------------+-----------------+"
      ]
     },
     "metadata": {},
     "output_type": "display_data"
    }
   ],
   "source": [
    "prediction_list = []\n",
    "for entry in  model_data:\n",
    "    if entry['int_times']%200<2:\n",
    "        prevmask = model_data['int_times']< entry['int_times']\n",
    "        model = gl.regression.create(model_data[prevmask], target='price')\n",
    "    price_prediction = model.predict(entry)\n",
    "    prediction_list.append(price_prediction)"
   ]
  },
  {
   "cell_type": "code",
   "execution_count": 129,
   "metadata": {
    "collapsed": false
   },
   "outputs": [
    {
     "name": "stdout",
     "output_type": "stream",
     "text": [
      "[dtype: float\n",
      "Rows: 1\n",
      "[341.7481689453125], dtype: float\n",
      "Rows: 1\n",
      "[345.66400146484375], dtype: float\n",
      "Rows: 1\n",
      "[367.92010498046875], dtype: float\n",
      "Rows: 1\n",
      "[367.92010498046875], dtype: float\n",
      "Rows: 1\n",
      "[367.92010498046875], dtype: float\n",
      "Rows: 1\n",
      "[367.92010498046875], dtype: float\n",
      "Rows: 1\n",
      "[367.92010498046875], dtype: float\n",
      "Rows: 1\n",
      "[366.5639343261719], dtype: float\n",
      "Rows: 1\n",
      "[367.92010498046875], dtype: float\n",
      "Rows: 1\n",
      "[367.92010498046875], dtype: float\n",
      "Rows: 1\n",
      "[366.3419189453125], dtype: float\n",
      "Rows: 1\n",
      "[364.9857482910156], dtype: float\n",
      "Rows: 1\n",
      "[342.7296447753906], dtype: float\n",
      "Rows: 1\n",
      "[342.7296447753906], dtype: float\n",
      "Rows: 1\n",
      "[335.6745910644531], dtype: float\n",
      "Rows: 1\n",
      "[335.6745910644531], dtype: float\n",
      "Rows: 1\n",
      "[335.6745910644531], dtype: float\n",
      "Rows: 1\n",
      "[335.6745910644531], dtype: float\n",
      "Rows: 1\n",
      "[330.8307800292969], dtype: float\n",
      "Rows: 1\n",
      "[330.8307800292969], dtype: float\n",
      "Rows: 1\n",
      "[330.8307800292969], dtype: float\n",
      "Rows: 1\n",
      "[330.8307800292969], dtype: float\n",
      "Rows: 1\n",
      "[311.548583984375], dtype: float\n",
      "Rows: 1\n",
      "[311.548583984375], dtype: float\n",
      "Rows: 1\n",
      "[311.548583984375], dtype: float\n",
      "Rows: 1\n",
      "[311.548583984375], dtype: float\n",
      "Rows: 1\n",
      "[311.548583984375], dtype: float\n",
      "Rows: 1\n",
      "[313.12677001953125], dtype: float\n",
      "Rows: 1\n",
      "[306.9376525878906], dtype: float\n",
      "Rows: 1\n",
      "[306.9376525878906], dtype: float\n",
      "Rows: 1\n",
      "[306.9376525878906], dtype: float\n",
      "Rows: 1\n",
      "[306.9376525878906], dtype: float\n",
      "Rows: 1\n",
      "[296.9581604003906], dtype: float\n",
      "Rows: 1\n",
      "[296.9581604003906], dtype: float\n",
      "Rows: 1\n",
      "[296.9581604003906], dtype: float\n",
      "Rows: 1\n",
      "[296.9581604003906], dtype: float\n",
      "Rows: 1\n",
      "[284.76495361328125], dtype: float\n",
      "Rows: 1\n",
      "[265.0391540527344], dtype: float\n",
      "Rows: 1\n",
      "[283.68255615234375], dtype: float\n",
      "Rows: 1\n",
      "[272.9676208496094], dtype: float\n",
      "Rows: 1\n",
      "[271.1683654785156], dtype: float\n",
      "Rows: 1\n",
      "[256.17279052734375], dtype: float\n",
      "Rows: 1\n",
      "[256.17279052734375], dtype: float\n",
      "Rows: 1\n",
      "[167.5604248046875], dtype: float\n",
      "Rows: 1\n",
      "[204.8179168701172], dtype: float\n",
      "Rows: 1\n",
      "[197.80624389648438], dtype: float\n",
      "Rows: 1\n",
      "[197.80624389648438], dtype: float\n",
      "Rows: 1\n",
      "[201.76763916015625], dtype: float\n",
      "Rows: 1\n",
      "[214.62937927246094], dtype: float\n",
      "Rows: 1\n",
      "[210.66798400878906], dtype: float\n",
      "Rows: 1\n",
      "[215.7327880859375], dtype: float\n",
      "Rows: 1\n",
      "[219.69418334960938], dtype: float\n",
      "Rows: 1\n",
      "[220.966064453125], dtype: float\n",
      "Rows: 1\n",
      "[226.3794403076172], dtype: float\n",
      "Rows: 1\n",
      "[234.3978271484375], dtype: float\n",
      "Rows: 1\n",
      "[247.07986450195312], dtype: float\n",
      "Rows: 1\n",
      "[243.8658905029297], dtype: float\n",
      "Rows: 1\n",
      "[239.91513061523438], dtype: float\n",
      "Rows: 1\n",
      "[243.2275848388672], dtype: float\n",
      "Rows: 1\n",
      "[236.9818878173828], dtype: float\n",
      "Rows: 1\n",
      "[225.76498413085938], dtype: float\n",
      "Rows: 1\n",
      "[222.52716064453125], dtype: float\n",
      "Rows: 1\n",
      "[220.966064453125], dtype: float\n",
      "Rows: 1\n",
      "[220.966064453125], dtype: float\n",
      "Rows: 1\n",
      "[225.76498413085938], dtype: float\n",
      "Rows: 1\n",
      "[222.52716064453125], dtype: float\n",
      "Rows: 1\n",
      "[220.966064453125], dtype: float\n",
      "Rows: 1\n",
      "[220.966064453125], dtype: float\n",
      "Rows: 1\n",
      "[220.966064453125], dtype: float\n",
      "Rows: 1\n",
      "[222.52716064453125], dtype: float\n",
      "Rows: 1\n",
      "[220.966064453125], dtype: float\n",
      "Rows: 1\n",
      "[220.966064453125], dtype: float\n",
      "Rows: 1\n",
      "[220.966064453125], dtype: float\n",
      "Rows: 1\n",
      "[220.966064453125], dtype: float\n",
      "Rows: 1\n",
      "[220.966064453125], dtype: float\n",
      "Rows: 1\n",
      "[233.90943908691406], dtype: float\n",
      "Rows: 1\n",
      "[238.8650360107422], dtype: float\n",
      "Rows: 1\n",
      "[168.81016540527344], dtype: float\n",
      "Rows: 1\n",
      "[171.89541625976562], dtype: float\n",
      "Rows: 1\n",
      "[171.89541625976562], dtype: float\n",
      "Rows: 1\n",
      "[173.96041870117188], dtype: float\n",
      "Rows: 1\n",
      "[166.7451629638672], dtype: float\n",
      "Rows: 1\n",
      "[166.7451629638672], dtype: float\n",
      "Rows: 1\n",
      "[166.7451629638672], dtype: float\n",
      "Rows: 1\n",
      "[171.89541625976562], dtype: float\n",
      "Rows: 1\n",
      "[171.89541625976562], dtype: float\n",
      "Rows: 1\n",
      "[171.89541625976562], dtype: float\n",
      "Rows: 1\n",
      "[171.89541625976562], dtype: float\n",
      "Rows: 1\n",
      "[166.7451629638672], dtype: float\n",
      "Rows: 1\n",
      "[166.7451629638672], dtype: float\n",
      "Rows: 1\n",
      "[166.7451629638672], dtype: float\n",
      "Rows: 1\n",
      "[166.7451629638672], dtype: float\n",
      "Rows: 1\n",
      "[173.52915954589844], dtype: float\n",
      "Rows: 1\n",
      "[170.53115844726562], dtype: float\n",
      "Rows: 1\n",
      "[170.53115844726562], dtype: float\n",
      "Rows: 1\n",
      "[170.53115844726562], dtype: float\n",
      "Rows: 1\n",
      "[170.53115844726562], dtype: float\n",
      "Rows: 1\n",
      "[170.53115844726562], dtype: float\n",
      "Rows: 1\n",
      "[170.53115844726562], dtype: float\n",
      "Rows: 1\n",
      "[174.77232360839844], dtype: float\n",
      "Rows: 1\n",
      "[174.77232360839844], dtype: float\n",
      "Rows: 1\n",
      "[174.77232360839844], dtype: float\n",
      "Rows: 1\n",
      "[174.77232360839844], dtype: float\n",
      "Rows: 1\n",
      "[174.77232360839844], dtype: float\n",
      "Rows: 1\n",
      "[174.77232360839844], dtype: float\n",
      "Rows: 1\n",
      "[174.77232360839844], dtype: float\n",
      "Rows: 1\n",
      "[236.8096466064453], dtype: float\n",
      "Rows: 1\n",
      "[236.8096466064453], dtype: float\n",
      "Rows: 1\n",
      "[236.8096466064453], dtype: float\n",
      "Rows: 1\n",
      "[228.78248596191406], dtype: float\n",
      "Rows: 1\n",
      "[228.78248596191406], dtype: float\n",
      "Rows: 1\n",
      "[228.78248596191406], dtype: float\n",
      "Rows: 1\n",
      "[236.8096466064453], dtype: float\n",
      "Rows: 1\n",
      "[228.78248596191406], dtype: float\n",
      "Rows: 1\n",
      "[228.78248596191406], dtype: float\n",
      "Rows: 1\n",
      "[228.78248596191406], dtype: float\n",
      "Rows: 1\n",
      "[228.78248596191406], dtype: float\n",
      "Rows: 1\n",
      "[240.2416229248047], dtype: float\n",
      "Rows: 1\n",
      "[236.57321166992188], dtype: float\n",
      "Rows: 1\n",
      "[237.19094848632812], dtype: float\n",
      "Rows: 1\n",
      "[237.19094848632812], dtype: float\n",
      "Rows: 1\n",
      "[237.19094848632812], dtype: float\n",
      "Rows: 1\n",
      "[242.0725860595703], dtype: float\n",
      "Rows: 1\n",
      "[242.0725860595703], dtype: float\n",
      "Rows: 1\n",
      "[242.0725860595703], dtype: float\n",
      "Rows: 1\n",
      "[236.57321166992188], dtype: float\n",
      "Rows: 1\n",
      "[242.0725860595703], dtype: float\n",
      "Rows: 1\n",
      "[242.0725860595703], dtype: float\n",
      "Rows: 1\n",
      "[242.0725860595703], dtype: float\n",
      "Rows: 1\n",
      "[237.19094848632812], dtype: float\n",
      "Rows: 1\n",
      "[237.19094848632812], dtype: float\n",
      "Rows: 1\n",
      "[231.4098663330078], dtype: float\n",
      "Rows: 1\n",
      "[235.01307678222656], dtype: float\n",
      "Rows: 1\n",
      "[226.33775329589844], dtype: float\n",
      "Rows: 1\n",
      "[224.2440948486328], dtype: float\n",
      "Rows: 1\n",
      "[219.54124450683594], dtype: float\n",
      "Rows: 1\n",
      "[224.2440948486328], dtype: float\n",
      "Rows: 1\n",
      "[224.2440948486328], dtype: float\n",
      "Rows: 1\n",
      "[219.54124450683594], dtype: float\n",
      "Rows: 1\n",
      "[216.61790466308594], dtype: float\n",
      "Rows: 1\n",
      "[224.21131896972656], dtype: float\n",
      "Rows: 1\n",
      "[224.21131896972656], dtype: float\n",
      "Rows: 1\n",
      "[226.3049774169922], dtype: float\n",
      "Rows: 1\n",
      "[234.9803009033203], dtype: float\n",
      "Rows: 1\n",
      "[226.3049774169922], dtype: float\n",
      "Rows: 1\n",
      "[226.3049774169922], dtype: float\n",
      "Rows: 1\n",
      "[224.21131896972656], dtype: float\n",
      "Rows: 1\n",
      "[219.5084686279297], dtype: float\n",
      "Rows: 1\n",
      "[219.5084686279297], dtype: float\n",
      "Rows: 1\n",
      "[224.21131896972656], dtype: float\n",
      "Rows: 1\n",
      "[226.3049774169922], dtype: float\n",
      "Rows: 1\n",
      "[226.3049774169922], dtype: float\n",
      "Rows: 1\n",
      "[234.9803009033203], dtype: float\n",
      "Rows: 1\n",
      "[234.9803009033203], dtype: float\n",
      "Rows: 1\n",
      "[234.9803009033203], dtype: float\n",
      "Rows: 1\n",
      "[234.9803009033203], dtype: float\n",
      "Rows: 1\n",
      "[234.9803009033203], dtype: float\n",
      "Rows: 1\n",
      "[226.3049774169922], dtype: float\n",
      "Rows: 1\n",
      "[234.9803009033203], dtype: float\n",
      "Rows: 1\n",
      "[234.1666259765625], dtype: float\n",
      "Rows: 1\n",
      "[234.1666259765625], dtype: float\n",
      "Rows: 1\n",
      "[237.15817260742188], dtype: float\n",
      "Rows: 1\n",
      "[235.2307586669922], dtype: float\n",
      "Rows: 1\n",
      "[236.0205078125], dtype: float\n",
      "Rows: 1\n",
      "[235.95997619628906], dtype: float\n",
      "Rows: 1\n",
      "[229.8407745361328], dtype: float\n",
      "Rows: 1\n",
      "[229.8407745361328], dtype: float\n",
      "Rows: 1\n",
      "[232.82850646972656], dtype: float\n",
      "Rows: 1\n",
      "[229.8407745361328], dtype: float\n",
      "Rows: 1\n",
      "[227.0577392578125], dtype: float\n",
      "Rows: 1\n",
      "[227.0577392578125], dtype: float\n",
      "Rows: 1\n",
      "[227.0577392578125], dtype: float\n",
      "Rows: 1\n",
      "[232.82850646972656], dtype: float\n",
      "Rows: 1\n",
      "[232.82850646972656], dtype: float\n",
      "Rows: 1\n",
      "[232.82850646972656], dtype: float\n",
      "Rows: 1\n",
      "[232.82850646972656], dtype: float\n",
      "Rows: 1\n",
      "[232.82850646972656], dtype: float\n",
      "Rows: 1\n",
      "[232.82850646972656], dtype: float\n",
      "Rows: 1\n",
      "[232.82850646972656], dtype: float\n",
      "Rows: 1\n",
      "[232.82850646972656], dtype: float\n",
      "Rows: 1\n",
      "[227.0577392578125], dtype: float\n",
      "Rows: 1\n",
      "[227.0577392578125], dtype: float\n",
      "Rows: 1\n",
      "[227.0577392578125], dtype: float\n",
      "Rows: 1\n",
      "[224.11026000976562], dtype: float\n",
      "Rows: 1\n",
      "[224.11026000976562], dtype: float\n",
      "Rows: 1\n",
      "[224.11026000976562], dtype: float\n",
      "Rows: 1\n",
      "[224.11026000976562], dtype: float\n",
      "Rows: 1\n",
      "[224.11026000976562], dtype: float\n",
      "Rows: 1\n",
      "[224.11026000976562], dtype: float\n",
      "Rows: 1\n",
      "[224.11026000976562], dtype: float\n",
      "Rows: 1\n",
      "[223.31912231445312], dtype: float\n",
      "Rows: 1\n",
      "[223.31912231445312], dtype: float\n",
      "Rows: 1\n",
      "[223.31912231445312], dtype: float\n",
      "Rows: 1\n",
      "[223.31912231445312], dtype: float\n",
      "Rows: 1\n",
      "[223.31912231445312], dtype: float\n",
      "Rows: 1\n",
      "[223.31912231445312], dtype: float\n",
      "Rows: 1\n",
      "[227.15341186523438], dtype: float\n",
      "Rows: 1\n",
      "[231.06903076171875], dtype: float\n",
      "Rows: 1\n",
      "[238.1531524658203], dtype: float\n",
      "Rows: 1\n",
      "[238.1531524658203], dtype: float\n",
      "Rows: 1\n",
      "[239.0058135986328], dtype: float\n",
      "Rows: 1\n",
      "[239.0058135986328], dtype: float\n",
      "Rows: 1\n",
      "[239.0058135986328], dtype: float\n",
      "Rows: 1\n",
      "[239.0058135986328], dtype: float\n",
      "Rows: 1\n",
      "[239.0058135986328], dtype: float\n",
      "Rows: 1\n",
      "[234.3288116455078], dtype: float\n",
      "Rows: 1\n",
      "[234.3288116455078], dtype: float\n",
      "Rows: 1\n",
      "[234.3288116455078], dtype: float\n",
      "Rows: 1\n",
      "[239.0058135986328], dtype: float\n",
      "Rows: 1\n",
      "[238.86326599121094], dtype: float\n",
      "Rows: 1\n",
      "[238.79071044921875], dtype: float\n",
      "Rows: 1\n",
      "[238.79071044921875], dtype: float\n",
      "Rows: 1\n",
      "[238.79071044921875], dtype: float\n",
      "Rows: 1\n",
      "[238.79071044921875], dtype: float\n",
      "Rows: 1\n",
      "[238.79071044921875], dtype: float\n",
      "Rows: 1\n",
      "[238.79071044921875], dtype: float\n",
      "Rows: 1\n",
      "[244.40098571777344], dtype: float\n",
      "Rows: 1\n",
      "[253.11712646484375], dtype: float\n",
      "Rows: 1\n",
      "[250.1070556640625], dtype: float\n",
      "Rows: 1\n",
      "[247.50685119628906], dtype: float\n",
      "Rows: 1\n",
      "[247.50685119628906], dtype: float\n",
      "Rows: 1\n",
      "[247.50685119628906], dtype: float\n",
      "Rows: 1\n",
      "[247.50685119628906], dtype: float\n",
      "Rows: 1\n",
      "[272.53900146484375], dtype: float\n",
      "Rows: 1\n",
      "[272.53900146484375], dtype: float\n",
      "Rows: 1\n",
      "[272.53900146484375], dtype: float\n",
      "Rows: 1\n",
      "[283.4617919921875], dtype: float\n",
      "Rows: 1\n",
      "[285.127197265625], dtype: float\n",
      "Rows: 1\n",
      "[277.4210205078125], dtype: float\n",
      "Rows: 1\n",
      "[277.4210205078125], dtype: float\n",
      "Rows: 1\n",
      "[277.4210205078125], dtype: float\n",
      "Rows: 1\n",
      "[277.4210205078125], dtype: float\n",
      "Rows: 1\n",
      "[274.3925476074219], dtype: float\n",
      "Rows: 1\n",
      "[274.3925476074219], dtype: float\n",
      "Rows: 1\n",
      "[277.4210205078125], dtype: float\n",
      "Rows: 1\n",
      "[277.4210205078125], dtype: float\n",
      "Rows: 1\n",
      "[274.3925476074219], dtype: float\n",
      "Rows: 1\n",
      "[274.3925476074219], dtype: float\n",
      "Rows: 1\n",
      "[274.3925476074219], dtype: float\n",
      "Rows: 1\n",
      "[277.0357360839844], dtype: float\n",
      "Rows: 1\n",
      "[277.0357360839844], dtype: float\n",
      "Rows: 1\n",
      "[277.0357360839844], dtype: float\n",
      "Rows: 1\n",
      "[274.3925476074219], dtype: float\n",
      "Rows: 1\n",
      "[274.3925476074219], dtype: float\n",
      "Rows: 1\n",
      "[274.3925476074219], dtype: float\n",
      "Rows: 1\n",
      "[274.3925476074219], dtype: float\n",
      "Rows: 1\n",
      "[261.5464782714844], dtype: float\n",
      "Rows: 1\n",
      "[261.5464782714844], dtype: float\n",
      "Rows: 1\n",
      "[261.5464782714844], dtype: float\n",
      "Rows: 1\n",
      "[269.70245361328125], dtype: float\n",
      "Rows: 1\n",
      "[269.70245361328125], dtype: float\n",
      "Rows: 1\n",
      "[251.784423828125], dtype: float\n",
      "Rows: 1\n",
      "[246.87667846679688], dtype: float\n",
      "Rows: 1\n",
      "[246.87667846679688], dtype: float\n",
      "Rows: 1\n",
      "[246.87667846679688], dtype: float\n",
      "Rows: 1\n",
      "[246.87667846679688], dtype: float\n",
      "Rows: 1\n",
      "[245.0242462158203], dtype: float\n",
      "Rows: 1\n",
      "[246.87667846679688], dtype: float\n",
      "Rows: 1\n",
      "[239.17955017089844], dtype: float\n",
      "Rows: 1\n",
      "[239.17955017089844], dtype: float\n",
      "Rows: 1\n",
      "[241.031982421875], dtype: float\n",
      "Rows: 1\n",
      "[231.40248107910156], dtype: float\n",
      "Rows: 1\n",
      "[218.61480712890625], dtype: float\n",
      "Rows: 1\n",
      "[218.61480712890625], dtype: float\n",
      "Rows: 1\n",
      "[218.61480712890625], dtype: float\n",
      "Rows: 1\n",
      "[218.61480712890625], dtype: float\n",
      "Rows: 1\n",
      "[218.61480712890625], dtype: float\n",
      "Rows: 1\n",
      "[218.61480712890625], dtype: float\n",
      "Rows: 1\n",
      "[218.61480712890625], dtype: float\n",
      "Rows: 1\n",
      "[218.61480712890625], dtype: float\n",
      "Rows: 1\n",
      "[218.61480712890625], dtype: float\n",
      "Rows: 1\n",
      "[218.61480712890625], dtype: float\n",
      "Rows: 1\n",
      "[218.61480712890625], dtype: float\n",
      "Rows: 1\n",
      "[218.61480712890625], dtype: float\n",
      "Rows: 1\n",
      "[218.61480712890625], dtype: float\n",
      "Rows: 1\n",
      "[218.61480712890625], dtype: float\n",
      "Rows: 1\n",
      "[218.61480712890625], dtype: float\n",
      "Rows: 1\n",
      "[218.61480712890625], dtype: float\n",
      "Rows: 1\n",
      "[218.61480712890625], dtype: float\n",
      "Rows: 1\n",
      "[227.73092651367188], dtype: float\n",
      "Rows: 1\n",
      "[232.24160766601562], dtype: float\n",
      "Rows: 1\n",
      "[235.6312255859375], dtype: float\n",
      "Rows: 1\n",
      "[235.6312255859375], dtype: float\n",
      "Rows: 1\n",
      "[235.6312255859375], dtype: float\n",
      "Rows: 1\n",
      "[231.12054443359375], dtype: float\n",
      "Rows: 1\n",
      "[231.12054443359375], dtype: float\n",
      "Rows: 1\n",
      "[231.12054443359375], dtype: float\n",
      "Rows: 1\n",
      "[218.54600524902344], dtype: float\n",
      "Rows: 1\n",
      "[219.42886352539062], dtype: float\n",
      "Rows: 1\n",
      "[219.1234588623047], dtype: float\n",
      "Rows: 1\n",
      "[222.58187866210938], dtype: float\n",
      "Rows: 1\n",
      "[222.58187866210938], dtype: float\n",
      "Rows: 1\n",
      "[222.58187866210938], dtype: float\n",
      "Rows: 1\n",
      "[222.58187866210938], dtype: float\n",
      "Rows: 1\n",
      "[222.58187866210938], dtype: float\n",
      "Rows: 1\n",
      "[219.1234588623047], dtype: float\n",
      "Rows: 1\n",
      "[222.58187866210938], dtype: float\n",
      "Rows: 1\n",
      "[220.8007354736328], dtype: float\n",
      "Rows: 1\n",
      "[226.91688537597656], dtype: float\n",
      "Rows: 1\n",
      "[229.91685485839844], dtype: float\n",
      "Rows: 1\n",
      "[226.91688537597656], dtype: float\n",
      "Rows: 1\n",
      "[229.91685485839844], dtype: float\n",
      "Rows: 1\n",
      "[231.697998046875], dtype: float\n",
      "Rows: 1\n",
      "[231.697998046875], dtype: float\n",
      "Rows: 1\n",
      "[231.697998046875], dtype: float\n",
      "Rows: 1\n",
      "[231.697998046875], dtype: float\n",
      "Rows: 1\n",
      "[231.697998046875], dtype: float\n",
      "Rows: 1\n",
      "[231.697998046875], dtype: float\n",
      "Rows: 1\n",
      "[229.91685485839844], dtype: float\n",
      "Rows: 1\n",
      "[234.4275360107422], dtype: float\n",
      "Rows: 1\n",
      "[234.4275360107422], dtype: float\n",
      "Rows: 1\n",
      "[236.0887451171875], dtype: float\n",
      "Rows: 1\n",
      "[236.0887451171875], dtype: float\n",
      "Rows: 1\n",
      "[232.52272033691406], dtype: float\n",
      "Rows: 1\n",
      "[235.23529052734375], dtype: float\n",
      "Rows: 1\n",
      "[235.23529052734375], dtype: float\n",
      "Rows: 1\n",
      "[235.23529052734375], dtype: float\n",
      "Rows: 1\n",
      "[240.01206970214844], dtype: float\n",
      "Rows: 1\n",
      "[246.24522399902344], dtype: float\n",
      "Rows: 1\n",
      "[246.24522399902344], dtype: float\n",
      "Rows: 1\n",
      "[252.0899200439453], dtype: float\n",
      "Rows: 1\n",
      "[252.0899200439453], dtype: float\n",
      "Rows: 1\n",
      "[252.0899200439453], dtype: float\n",
      "Rows: 1\n",
      "[247.39964294433594], dtype: float\n",
      "Rows: 1\n",
      "[247.39964294433594], dtype: float\n",
      "Rows: 1\n",
      "[247.39964294433594], dtype: float\n",
      "Rows: 1\n",
      "[270.0077819824219], dtype: float\n",
      "Rows: 1\n",
      "[270.0077819824219], dtype: float\n",
      "Rows: 1\n",
      "[270.0077819824219], dtype: float\n",
      "Rows: 1\n",
      "[273.5738220214844], dtype: float\n",
      "Rows: 1\n",
      "[274.4785461425781], dtype: float\n",
      "Rows: 1\n",
      "[274.4785461425781], dtype: float\n",
      "Rows: 1\n",
      "[274.4785461425781], dtype: float\n",
      "Rows: 1\n",
      "[279.1688232421875], dtype: float\n",
      "Rows: 1\n",
      "[279.1688232421875], dtype: float\n",
      "Rows: 1\n",
      "[276.8194274902344], dtype: float\n",
      "Rows: 1\n",
      "[276.8194274902344], dtype: float\n",
      "Rows: 1\n",
      "[279.1688232421875], dtype: float\n",
      "Rows: 1\n",
      "[271.85699462890625], dtype: float\n",
      "Rows: 1\n",
      "[271.85699462890625], dtype: float\n",
      "Rows: 1\n",
      "[271.85699462890625], dtype: float\n",
      "Rows: 1\n",
      "[273.9825744628906], dtype: float\n",
      "Rows: 1\n",
      "[273.9825744628906], dtype: float\n",
      "Rows: 1\n",
      "[271.4547119140625], dtype: float\n",
      "Rows: 1\n",
      "[274.7154846191406], dtype: float\n",
      "Rows: 1\n",
      "[271.85699462890625], dtype: float\n",
      "Rows: 1\n",
      "[271.85699462890625], dtype: float\n",
      "Rows: 1\n",
      "[271.85699462890625], dtype: float\n",
      "Rows: 1\n",
      "[271.85699462890625], dtype: float\n",
      "Rows: 1\n",
      "[273.9825744628906], dtype: float\n",
      "Rows: 1\n",
      "[274.7154846191406], dtype: float\n",
      "Rows: 1\n",
      "[274.7154846191406], dtype: float\n",
      "Rows: 1\n",
      "[274.7154846191406], dtype: float\n",
      "Rows: 1\n",
      "[274.7154846191406], dtype: float\n",
      "Rows: 1\n",
      "[274.7154846191406], dtype: float\n",
      "Rows: 1\n",
      "[274.7154846191406], dtype: float\n",
      "Rows: 1\n",
      "[274.7154846191406], dtype: float\n",
      "Rows: 1\n",
      "[274.7154846191406], dtype: float\n",
      "Rows: 1\n",
      "[274.7154846191406], dtype: float\n",
      "Rows: 1\n",
      "[270.0253601074219], dtype: float\n",
      "Rows: 1\n",
      "[264.6390075683594], dtype: float\n",
      "Rows: 1\n",
      "[274.7154846191406], dtype: float\n",
      "Rows: 1\n",
      "[274.7154846191406], dtype: float\n",
      "Rows: 1\n",
      "[274.7154846191406], dtype: float\n",
      "Rows: 1\n",
      "[274.7154846191406], dtype: float\n",
      "Rows: 1\n",
      "[273.9825744628906], dtype: float\n",
      "Rows: 1\n",
      "[271.85699462890625], dtype: float\n",
      "Rows: 1\n",
      "[271.85699462890625], dtype: float\n",
      "Rows: 1\n",
      "[271.85699462890625], dtype: float\n",
      "Rows: 1\n",
      "[273.9825744628906], dtype: float\n",
      "Rows: 1\n",
      "[273.9825744628906], dtype: float\n",
      "Rows: 1\n",
      "[274.7154846191406], dtype: float\n",
      "Rows: 1\n",
      "[274.7154846191406], dtype: float\n",
      "Rows: 1\n",
      "[274.7154846191406], dtype: float\n",
      "Rows: 1\n",
      "[274.7154846191406], dtype: float\n",
      "Rows: 1\n",
      "[276.872314453125], dtype: float\n",
      "Rows: 1\n",
      "[276.872314453125], dtype: float\n",
      "Rows: 1\n",
      "[274.7154846191406], dtype: float\n",
      "Rows: 1\n",
      "[274.7154846191406], dtype: float\n",
      "Rows: 1\n",
      "[274.7154846191406], dtype: float\n",
      "Rows: 1\n",
      "[274.7154846191406], dtype: float\n",
      "Rows: 1\n",
      "[274.7154846191406], dtype: float\n",
      "Rows: 1\n",
      "[274.7154846191406], dtype: float\n",
      "Rows: 1\n",
      "[274.7154846191406], dtype: float\n",
      "Rows: 1\n",
      "[274.7154846191406], dtype: float\n",
      "Rows: 1\n",
      "[274.7154846191406], dtype: float\n",
      "Rows: 1\n",
      "[274.7154846191406], dtype: float\n",
      "Rows: 1\n",
      "[274.7154846191406], dtype: float\n",
      "Rows: 1\n",
      "[274.7154846191406], dtype: float\n",
      "Rows: 1\n",
      "[274.7154846191406], dtype: float\n",
      "Rows: 1\n",
      "[274.7154846191406], dtype: float\n",
      "Rows: 1\n",
      "[274.7154846191406], dtype: float\n",
      "Rows: 1\n",
      "[274.7154846191406], dtype: float\n",
      "Rows: 1\n",
      "[274.7154846191406], dtype: float\n",
      "Rows: 1\n",
      "[274.7154846191406], dtype: float\n",
      "Rows: 1\n",
      "[274.7154846191406], dtype: float\n",
      "Rows: 1\n",
      "[274.7154846191406], dtype: float\n",
      "Rows: 1\n",
      "[274.7154846191406], dtype: float\n",
      "Rows: 1\n",
      "[277.0357360839844], dtype: float\n",
      "Rows: 1\n",
      "[277.0357360839844], dtype: float\n",
      "Rows: 1\n",
      "[277.0357360839844], dtype: float\n",
      "Rows: 1\n",
      "[277.0357360839844], dtype: float\n",
      "Rows: 1\n",
      "[277.0357360839844], dtype: float\n",
      "Rows: 1\n",
      "[277.0357360839844], dtype: float\n",
      "Rows: 1\n",
      "[277.0357360839844], dtype: float\n",
      "Rows: 1\n",
      "[277.0357360839844], dtype: float\n",
      "Rows: 1\n",
      "[277.0357360839844], dtype: float\n",
      "Rows: 1\n",
      "[277.0357360839844], dtype: float\n",
      "Rows: 1\n",
      "[277.0357360839844], dtype: float\n",
      "Rows: 1\n",
      "[277.0357360839844], dtype: float\n",
      "Rows: 1\n",
      "[277.0357360839844], dtype: float\n",
      "Rows: 1\n",
      "[277.0357360839844], dtype: float\n",
      "Rows: 1\n",
      "[277.0357360839844], dtype: float\n",
      "Rows: 1\n",
      "[277.0357360839844], dtype: float\n",
      "Rows: 1\n",
      "[277.0357360839844], dtype: float\n",
      "Rows: 1\n",
      "[277.0357360839844], dtype: float\n",
      "Rows: 1\n",
      "[277.0357360839844], dtype: float\n",
      "Rows: 1\n",
      "[277.0357360839844], dtype: float\n",
      "Rows: 1\n",
      "[277.0357360839844], dtype: float\n",
      "Rows: 1\n",
      "[277.0357360839844], dtype: float\n",
      "Rows: 1\n",
      "[272.3456115722656], dtype: float\n",
      "Rows: 1\n",
      "[272.3456115722656], dtype: float\n",
      "Rows: 1\n",
      "[277.0357360839844], dtype: float\n",
      "Rows: 1\n",
      "[277.0357360839844], dtype: float\n",
      "Rows: 1\n",
      "[277.0357360839844], dtype: float\n",
      "Rows: 1\n",
      "[277.0357360839844], dtype: float\n",
      "Rows: 1\n",
      "[277.0357360839844], dtype: float\n",
      "Rows: 1\n",
      "[277.0357360839844], dtype: float\n",
      "Rows: 1\n",
      "[277.0357360839844], dtype: float\n",
      "Rows: 1\n",
      "[277.0357360839844], dtype: float\n",
      "Rows: 1\n",
      "[277.0357360839844], dtype: float\n",
      "Rows: 1\n",
      "[277.0357360839844], dtype: float\n",
      "Rows: 1\n",
      "[277.0357360839844], dtype: float\n",
      "Rows: 1\n",
      "[277.0357360839844], dtype: float\n",
      "Rows: 1\n",
      "[279.19256591796875], dtype: float\n",
      "Rows: 1\n",
      "[279.19256591796875], dtype: float\n",
      "Rows: 1\n",
      "[279.19256591796875], dtype: float\n",
      "Rows: 1\n",
      "[277.0357360839844], dtype: float\n",
      "Rows: 1\n",
      "[277.0357360839844], dtype: float\n",
      "Rows: 1\n",
      "[277.0357360839844], dtype: float\n",
      "Rows: 1\n",
      "[277.0357360839844], dtype: float\n",
      "Rows: 1\n",
      "[279.19256591796875], dtype: float\n",
      "Rows: 1\n",
      "[279.19256591796875], dtype: float\n",
      "Rows: 1\n",
      "[279.19256591796875], dtype: float\n",
      "Rows: 1\n",
      "[277.0357360839844], dtype: float\n",
      "Rows: 1\n",
      "[277.0357360839844], dtype: float\n",
      "Rows: 1\n",
      "[277.0357360839844], dtype: float\n",
      "Rows: 1\n",
      "[277.0357360839844], dtype: float\n",
      "Rows: 1\n",
      "[277.0357360839844], dtype: float\n",
      "Rows: 1\n",
      "[279.19256591796875], dtype: float\n",
      "Rows: 1\n",
      "[277.0357360839844], dtype: float\n",
      "Rows: 1\n",
      "[279.19256591796875], dtype: float\n",
      "Rows: 1\n",
      "[279.19256591796875], dtype: float\n",
      "Rows: 1\n",
      "[415.6507568359375], dtype: float\n",
      "Rows: 1\n",
      "[415.6507568359375], dtype: float\n",
      "Rows: 1\n",
      "[415.6507568359375], dtype: float\n",
      "Rows: 1\n",
      "[420.0286865234375], dtype: float\n",
      "Rows: 1\n",
      "[415.6507568359375], dtype: float\n",
      "Rows: 1\n",
      "[413.3834228515625], dtype: float\n",
      "Rows: 1\n",
      "[413.3834228515625], dtype: float\n",
      "Rows: 1\n",
      "[384.6636047363281], dtype: float\n",
      "Rows: 1\n",
      "[384.6636047363281], dtype: float\n",
      "Rows: 1\n",
      "[384.6636047363281], dtype: float\n",
      "Rows: 1\n",
      "[408.2808532714844], dtype: float\n",
      "Rows: 1\n",
      "[408.2808532714844], dtype: float\n",
      "Rows: 1\n",
      "[408.2808532714844], dtype: float\n",
      "Rows: 1\n",
      "[402.0673828125], dtype: float\n",
      "Rows: 1\n",
      "[408.2808532714844], dtype: float\n",
      "Rows: 1\n",
      "[408.2808532714844], dtype: float\n",
      "Rows: 1\n",
      "[402.0673828125], dtype: float\n",
      "Rows: 1\n",
      "[408.2808532714844], dtype: float\n",
      "Rows: 1\n",
      "[415.6507568359375], dtype: float\n",
      "Rows: 1\n",
      "[415.6507568359375], dtype: float\n",
      "Rows: 1\n",
      "[408.2808532714844], dtype: float\n",
      "Rows: 1\n",
      "[408.2808532714844], dtype: float\n",
      "Rows: 1\n",
      "[408.2808532714844], dtype: float\n",
      "Rows: 1\n",
      "[406.0135192871094], dtype: float\n",
      "Rows: 1\n",
      "[402.0673828125], dtype: float\n",
      "Rows: 1\n",
      "[415.6507568359375], dtype: float\n",
      "Rows: 1\n",
      "[415.6507568359375], dtype: float\n",
      "Rows: 1\n",
      "[415.6507568359375], dtype: float\n",
      "Rows: 1\n",
      "[415.6507568359375], dtype: float\n",
      "Rows: 1\n",
      "[415.6507568359375], dtype: float\n",
      "Rows: 1\n",
      "[415.6507568359375], dtype: float\n",
      "Rows: 1\n",
      "[415.6507568359375], dtype: float\n",
      "Rows: 1\n",
      "[408.2808532714844], dtype: float\n",
      "Rows: 1\n",
      "[411.5406799316406], dtype: float\n",
      "Rows: 1\n",
      "[418.91058349609375], dtype: float\n",
      "Rows: 1\n",
      "[418.91058349609375], dtype: float\n",
      "Rows: 1\n",
      "[418.91058349609375], dtype: float\n",
      "Rows: 1\n",
      "[418.91058349609375], dtype: float\n",
      "Rows: 1\n",
      "[418.91058349609375], dtype: float\n",
      "Rows: 1\n",
      "[418.91058349609375], dtype: float\n",
      "Rows: 1\n",
      "[418.91058349609375], dtype: float\n",
      "Rows: 1\n",
      "[418.91058349609375], dtype: float\n",
      "Rows: 1\n",
      "[418.91058349609375], dtype: float\n",
      "Rows: 1\n",
      "[418.91058349609375], dtype: float\n",
      "Rows: 1\n",
      "[418.91058349609375], dtype: float\n",
      "Rows: 1\n",
      "[418.91058349609375], dtype: float\n",
      "Rows: 1\n",
      "[418.91058349609375], dtype: float\n",
      "Rows: 1\n",
      "[418.91058349609375], dtype: float\n",
      "Rows: 1\n",
      "[418.91058349609375], dtype: float\n",
      "Rows: 1\n",
      "[418.91058349609375], dtype: float\n",
      "Rows: 1\n",
      "[423.28851318359375], dtype: float\n",
      "Rows: 1\n",
      "[418.91058349609375], dtype: float\n",
      "Rows: 1\n",
      "[418.91058349609375], dtype: float\n",
      "Rows: 1\n",
      "[420.0286865234375], dtype: float\n",
      "Rows: 1\n",
      "[416.1311950683594], dtype: float\n",
      "Rows: 1\n",
      "[426.7513122558594], dtype: float\n",
      "Rows: 1\n",
      "[426.7513122558594], dtype: float\n",
      "Rows: 1\n",
      "[426.7513122558594], dtype: float\n",
      "Rows: 1\n",
      "[426.7513122558594], dtype: float\n",
      "Rows: 1\n",
      "[421.13128662109375], dtype: float\n",
      "Rows: 1\n",
      "[421.13128662109375], dtype: float\n",
      "Rows: 1\n",
      "[421.13128662109375], dtype: float\n",
      "Rows: 1\n",
      "[421.13128662109375], dtype: float\n",
      "Rows: 1\n",
      "[421.13128662109375], dtype: float\n",
      "Rows: 1\n",
      "[421.13128662109375], dtype: float\n",
      "Rows: 1\n",
      "[421.13128662109375], dtype: float\n",
      "Rows: 1\n",
      "[421.13128662109375], dtype: float\n",
      "Rows: 1\n",
      "[421.13128662109375], dtype: float\n",
      "Rows: 1\n",
      "[402.97900390625], dtype: float\n",
      "Rows: 1\n",
      "[402.97900390625], dtype: float\n",
      "Rows: 1\n",
      "[402.97900390625], dtype: float\n",
      "Rows: 1\n",
      "[402.97900390625], dtype: float\n",
      "Rows: 1\n",
      "[402.97900390625], dtype: float\n",
      "Rows: 1\n",
      "[402.97900390625], dtype: float\n",
      "Rows: 1\n",
      "[402.97900390625], dtype: float\n",
      "Rows: 1\n",
      "[402.97900390625], dtype: float\n",
      "Rows: 1\n",
      "[402.97900390625], dtype: float\n",
      "Rows: 1\n",
      "[402.97900390625], dtype: float\n",
      "Rows: 1\n",
      "[402.97900390625], dtype: float\n",
      "Rows: 1\n",
      "[402.97900390625], dtype: float\n",
      "Rows: 1\n",
      "[402.97900390625], dtype: float\n",
      "Rows: 1\n",
      "[402.97900390625], dtype: float\n",
      "Rows: 1\n",
      "[402.97900390625], dtype: float\n",
      "Rows: 1\n",
      "[402.3993835449219], dtype: float\n",
      "Rows: 1\n",
      "[402.3993835449219], dtype: float\n",
      "Rows: 1\n",
      "[402.3993835449219], dtype: float\n",
      "Rows: 1\n",
      "[402.3993835449219], dtype: float\n",
      "Rows: 1\n",
      "[402.3993835449219], dtype: float\n",
      "Rows: 1\n",
      "[402.3993835449219], dtype: float\n",
      "Rows: 1\n",
      "[408.5990295410156], dtype: float\n",
      "Rows: 1\n",
      "[402.3993835449219], dtype: float\n",
      "Rows: 1\n",
      "[402.3993835449219], dtype: float\n",
      "Rows: 1\n",
      "[402.97900390625], dtype: float\n",
      "Rows: 1\n",
      "[402.97900390625], dtype: float\n",
      "Rows: 1\n",
      "[402.97900390625], dtype: float\n",
      "Rows: 1\n",
      "[402.97900390625], dtype: float\n",
      "Rows: 1\n",
      "[402.97900390625], dtype: float\n",
      "Rows: 1\n",
      "[402.97900390625], dtype: float\n",
      "Rows: 1\n",
      "[402.97900390625], dtype: float\n",
      "Rows: 1\n",
      "[402.97900390625], dtype: float\n",
      "Rows: 1\n",
      "[402.97900390625], dtype: float\n",
      "Rows: 1\n",
      "[402.97900390625], dtype: float\n",
      "Rows: 1\n",
      "[402.97900390625], dtype: float\n",
      "Rows: 1\n",
      "[402.97900390625], dtype: float\n",
      "Rows: 1\n",
      "[402.97900390625], dtype: float\n",
      "Rows: 1\n",
      "[402.97900390625], dtype: float\n",
      "Rows: 1\n",
      "[402.97900390625], dtype: float\n",
      "Rows: 1\n",
      "[402.97900390625], dtype: float\n",
      "Rows: 1\n",
      "[402.97900390625], dtype: float\n",
      "Rows: 1\n",
      "[402.97900390625], dtype: float\n",
      "Rows: 1\n",
      "[402.97900390625], dtype: float\n",
      "Rows: 1\n",
      "[402.97900390625], dtype: float\n",
      "Rows: 1\n",
      "[402.97900390625], dtype: float\n",
      "Rows: 1\n",
      "[402.97900390625], dtype: float\n",
      "Rows: 1\n",
      "[400.711669921875], dtype: float\n",
      "Rows: 1\n",
      "[396.7655334472656], dtype: float\n",
      "Rows: 1\n",
      "[400.711669921875], dtype: float\n",
      "Rows: 1\n",
      "[402.97900390625], dtype: float\n",
      "Rows: 1\n",
      "[402.97900390625], dtype: float\n",
      "Rows: 1\n",
      "[402.97900390625], dtype: float\n",
      "Rows: 1\n",
      "[402.97900390625], dtype: float\n",
      "Rows: 1\n",
      "[402.97900390625], dtype: float\n",
      "Rows: 1\n",
      "[402.97900390625], dtype: float\n",
      "Rows: 1\n",
      "[402.97900390625], dtype: float\n",
      "Rows: 1\n",
      "[402.97900390625], dtype: float\n",
      "Rows: 1\n",
      "[402.97900390625], dtype: float\n",
      "Rows: 1\n",
      "[647.140380859375], dtype: float\n",
      "Rows: 1\n",
      "[647.140380859375], dtype: float\n",
      "Rows: 1\n",
      "[640.218994140625], dtype: float\n",
      "Rows: 1\n",
      "[640.218994140625], dtype: float\n",
      "Rows: 1\n",
      "[618.6909790039062], dtype: float\n",
      "Rows: 1\n",
      "[640.218994140625], dtype: float\n",
      "Rows: 1\n",
      "[640.218994140625], dtype: float\n",
      "Rows: 1\n",
      "[640.218994140625], dtype: float\n",
      "Rows: 1\n",
      "[640.218994140625], dtype: float\n",
      "Rows: 1\n",
      "[640.218994140625], dtype: float\n",
      "Rows: 1\n",
      "[618.6909790039062], dtype: float\n",
      "Rows: 1\n",
      "[640.218994140625], dtype: float\n",
      "Rows: 1\n",
      "[640.218994140625], dtype: float\n",
      "Rows: 1\n",
      "[640.218994140625], dtype: float\n",
      "Rows: 1\n",
      "[640.218994140625], dtype: float\n",
      "Rows: 1\n",
      "[640.218994140625], dtype: float\n",
      "Rows: 1\n",
      "[640.218994140625], dtype: float\n",
      "Rows: 1\n",
      "[640.218994140625], dtype: float\n",
      "Rows: 1\n",
      "[640.218994140625], dtype: float\n",
      "Rows: 1\n",
      "[640.218994140625], dtype: float\n",
      "Rows: 1\n",
      "[640.218994140625], dtype: float\n",
      "Rows: 1\n",
      "[640.218994140625], dtype: float\n",
      "Rows: 1\n",
      "[640.218994140625], dtype: float\n",
      "Rows: 1\n",
      "[640.218994140625], dtype: float\n",
      "Rows: 1\n",
      "[640.218994140625], dtype: float\n",
      "Rows: 1\n",
      "[640.218994140625], dtype: float\n",
      "Rows: 1\n",
      "[640.218994140625], dtype: float\n",
      "Rows: 1\n",
      "[640.218994140625], dtype: float\n",
      "Rows: 1\n",
      "[640.218994140625], dtype: float\n",
      "Rows: 1\n",
      "[625.6123657226562], dtype: float\n",
      "Rows: 1\n",
      "[625.6123657226562], dtype: float\n",
      "Rows: 1\n",
      "[625.6123657226562], dtype: float\n",
      "Rows: 1\n",
      "[647.140380859375], dtype: float\n",
      "Rows: 1\n",
      "[647.140380859375], dtype: float\n",
      "Rows: 1\n",
      "[647.140380859375], dtype: float\n",
      "Rows: 1\n",
      "[647.140380859375], dtype: float\n",
      "Rows: 1\n",
      "[643.3087158203125], dtype: float\n",
      "Rows: 1\n",
      "[647.140380859375], dtype: float\n",
      "Rows: 1\n",
      "[643.3087158203125], dtype: float\n",
      "Rows: 1\n",
      "[647.140380859375], dtype: float\n",
      "Rows: 1\n",
      "[647.140380859375], dtype: float\n",
      "Rows: 1\n",
      "[647.140380859375], dtype: float\n",
      "Rows: 1\n",
      "[647.140380859375], dtype: float\n",
      "Rows: 1\n",
      "[647.140380859375], dtype: float\n",
      "Rows: 1\n",
      "[647.140380859375], dtype: float\n",
      "Rows: 1\n",
      "[647.140380859375], dtype: float\n",
      "Rows: 1\n",
      "[647.140380859375], dtype: float\n",
      "Rows: 1\n",
      "[647.140380859375], dtype: float\n",
      "Rows: 1\n",
      "[647.140380859375], dtype: float\n",
      "Rows: 1\n",
      "[647.140380859375], dtype: float\n",
      "Rows: 1\n",
      "[647.140380859375], dtype: float\n",
      "Rows: 1\n",
      "[647.140380859375], dtype: float\n",
      "Rows: 1\n",
      "[643.3087158203125], dtype: float\n",
      "Rows: 1\n",
      "[647.140380859375], dtype: float\n",
      "Rows: 1\n",
      "[647.140380859375], dtype: float\n",
      "Rows: 1\n",
      "[647.140380859375], dtype: float\n",
      "Rows: 1\n",
      "[647.140380859375], dtype: float\n",
      "Rows: 1\n",
      "[647.140380859375], dtype: float\n",
      "Rows: 1\n",
      "[647.140380859375], dtype: float\n",
      "Rows: 1\n",
      "[643.3087158203125], dtype: float\n",
      "Rows: 1\n",
      "[647.140380859375], dtype: float\n",
      "Rows: 1\n",
      "[647.140380859375], dtype: float\n",
      "Rows: 1\n",
      "[647.140380859375], dtype: float\n",
      "Rows: 1\n",
      "[647.140380859375], dtype: float\n",
      "Rows: 1\n",
      "[647.140380859375], dtype: float\n",
      "Rows: 1\n",
      "[647.140380859375], dtype: float\n",
      "Rows: 1\n",
      "[647.140380859375], dtype: float\n",
      "Rows: 1\n",
      "[647.140380859375], dtype: float\n",
      "Rows: 1\n",
      "[647.140380859375], dtype: float\n",
      "Rows: 1\n",
      "[643.3087158203125], dtype: float\n",
      "Rows: 1\n",
      "[647.140380859375], dtype: float\n",
      "Rows: 1\n",
      "[647.140380859375], dtype: float\n",
      "Rows: 1\n",
      "[643.3087158203125], dtype: float\n",
      "Rows: 1\n",
      "[647.140380859375], dtype: float\n",
      "Rows: 1\n",
      "[643.3087158203125], dtype: float\n",
      "Rows: 1\n",
      "[643.3087158203125], dtype: float\n",
      "Rows: 1\n",
      "[643.3087158203125], dtype: float\n",
      "Rows: 1\n",
      "[643.3087158203125], dtype: float\n",
      "Rows: 1\n",
      "[647.140380859375], dtype: float\n",
      "Rows: 1\n",
      "[647.140380859375], dtype: float\n",
      "Rows: 1\n",
      "[647.140380859375], dtype: float\n",
      "Rows: 1\n",
      "[647.140380859375], dtype: float\n",
      "Rows: 1\n",
      "[647.140380859375], dtype: float\n",
      "Rows: 1\n",
      "[647.140380859375], dtype: float\n",
      "Rows: 1\n",
      "[647.140380859375], dtype: float\n",
      "Rows: 1\n",
      "[647.140380859375], dtype: float\n",
      "Rows: 1\n",
      "[647.140380859375], dtype: float\n",
      "Rows: 1\n",
      "[643.3087158203125], dtype: float\n",
      "Rows: 1\n",
      "[643.3087158203125], dtype: float\n",
      "Rows: 1\n",
      "[647.140380859375], dtype: float\n",
      "Rows: 1\n",
      "[647.140380859375], dtype: float\n",
      "Rows: 1\n",
      "[647.140380859375], dtype: float\n",
      "Rows: 1\n",
      "[647.140380859375], dtype: float\n",
      "Rows: 1\n",
      "[647.140380859375], dtype: float\n",
      "Rows: 1\n",
      "[647.140380859375], dtype: float\n",
      "Rows: 1\n",
      "[643.3087158203125], dtype: float\n",
      "Rows: 1\n",
      "[647.140380859375], dtype: float\n",
      "Rows: 1\n",
      "[647.140380859375], dtype: float\n",
      "Rows: 1\n",
      "[647.140380859375], dtype: float\n",
      "Rows: 1\n",
      "[647.140380859375], dtype: float\n",
      "Rows: 1\n",
      "[647.140380859375], dtype: float\n",
      "Rows: 1\n",
      "[647.140380859375], dtype: float\n",
      "Rows: 1\n",
      "[643.3087158203125], dtype: float\n",
      "Rows: 1\n",
      "[643.3087158203125], dtype: float\n",
      "Rows: 1\n",
      "[643.3087158203125], dtype: float\n",
      "Rows: 1\n",
      "[643.3087158203125], dtype: float\n",
      "Rows: 1\n",
      "[647.140380859375], dtype: float\n",
      "Rows: 1\n",
      "[647.140380859375], dtype: float\n",
      "Rows: 1\n",
      "[647.140380859375], dtype: float\n",
      "Rows: 1\n",
      "[647.140380859375], dtype: float\n",
      "Rows: 1\n",
      "[647.140380859375], dtype: float\n",
      "Rows: 1\n",
      "[647.140380859375], dtype: float\n",
      "Rows: 1\n",
      "[643.3087158203125], dtype: float\n",
      "Rows: 1\n",
      "[643.3087158203125], dtype: float\n",
      "Rows: 1\n",
      "[647.140380859375], dtype: float\n",
      "Rows: 1\n",
      "[647.140380859375], dtype: float\n",
      "Rows: 1\n",
      "[618.6909790039062], dtype: float\n",
      "Rows: 1\n",
      "[640.218994140625], dtype: float\n",
      "Rows: 1\n",
      "[661.7341918945312], dtype: float\n",
      "Rows: 1\n",
      "[669.0177001953125], dtype: float\n",
      "Rows: 1\n",
      "[669.0177001953125], dtype: float\n",
      "Rows: 1\n",
      "[669.0177001953125], dtype: float\n",
      "Rows: 1\n",
      "[654.412353515625], dtype: float\n",
      "Rows: 1\n",
      "[654.412353515625], dtype: float\n",
      "Rows: 1\n",
      "[654.412353515625], dtype: float\n",
      "Rows: 1\n",
      "[654.412353515625], dtype: float\n",
      "Rows: 1\n",
      "[654.412353515625], dtype: float\n",
      "Rows: 1\n",
      "[654.412353515625], dtype: float\n",
      "Rows: 1\n",
      "[654.412353515625], dtype: float\n",
      "Rows: 1\n",
      "[654.412353515625], dtype: float\n",
      "Rows: 1\n",
      "[654.412353515625], dtype: float\n",
      "Rows: 1\n",
      "[654.412353515625], dtype: float\n",
      "Rows: 1\n",
      "[654.412353515625], dtype: float\n",
      "Rows: 1\n",
      "[654.412353515625], dtype: float\n",
      "Rows: 1\n",
      "[654.412353515625], dtype: float\n",
      "Rows: 1\n",
      "[654.412353515625], dtype: float\n",
      "Rows: 1\n",
      "[654.412353515625], dtype: float\n",
      "Rows: 1\n",
      "[654.412353515625], dtype: float\n",
      "Rows: 1\n",
      "[654.412353515625], dtype: float\n",
      "Rows: 1\n",
      "[654.412353515625], dtype: float\n",
      "Rows: 1\n",
      "[654.412353515625], dtype: float\n",
      "Rows: 1\n",
      "[654.412353515625], dtype: float\n",
      "Rows: 1\n",
      "[654.412353515625], dtype: float\n",
      "Rows: 1\n",
      "[654.412353515625], dtype: float\n",
      "Rows: 1\n",
      "[654.412353515625], dtype: float\n",
      "Rows: 1\n",
      "[654.412353515625], dtype: float\n",
      "Rows: 1\n",
      "[654.412353515625], dtype: float\n",
      "Rows: 1\n",
      "[654.412353515625], dtype: float\n",
      "Rows: 1\n",
      "[654.412353515625], dtype: float\n",
      "Rows: 1\n",
      "[654.412353515625], dtype: float\n",
      "Rows: 1\n",
      "[654.412353515625], dtype: float\n",
      "Rows: 1\n",
      "[654.412353515625], dtype: float\n",
      "Rows: 1\n",
      "[654.412353515625], dtype: float\n",
      "Rows: 1\n",
      "[654.412353515625], dtype: float\n",
      "Rows: 1\n",
      "[654.412353515625], dtype: float\n",
      "Rows: 1\n",
      "[654.412353515625], dtype: float\n",
      "Rows: 1\n",
      "[654.412353515625], dtype: float\n",
      "Rows: 1\n",
      "[654.412353515625], dtype: float\n",
      "Rows: 1\n",
      "[654.412353515625], dtype: float\n",
      "Rows: 1\n",
      "[654.412353515625], dtype: float\n",
      "Rows: 1\n",
      "[654.412353515625], dtype: float\n",
      "Rows: 1\n",
      "[654.412353515625], dtype: float\n",
      "Rows: 1\n",
      "[654.412353515625], dtype: float\n",
      "Rows: 1\n",
      "[654.412353515625], dtype: float\n",
      "Rows: 1\n",
      "[654.412353515625], dtype: float\n",
      "Rows: 1\n",
      "[654.412353515625], dtype: float\n",
      "Rows: 1\n",
      "[654.412353515625], dtype: float\n",
      "Rows: 1\n",
      "[654.412353515625], dtype: float\n",
      "Rows: 1\n",
      "[654.412353515625], dtype: float\n",
      "Rows: 1\n",
      "[654.412353515625], dtype: float\n",
      "Rows: 1\n",
      "[654.412353515625], dtype: float\n",
      "Rows: 1\n",
      "[654.412353515625], dtype: float\n",
      "Rows: 1\n",
      "[654.412353515625], dtype: float\n",
      "Rows: 1\n",
      "[654.412353515625], dtype: float\n",
      "Rows: 1\n",
      "[654.412353515625], dtype: float\n",
      "Rows: 1\n",
      "[654.412353515625], dtype: float\n",
      "Rows: 1\n",
      "[654.412353515625], dtype: float\n",
      "Rows: 1\n",
      "[654.412353515625], dtype: float\n",
      "Rows: 1\n",
      "[654.412353515625], dtype: float\n",
      "Rows: 1\n",
      "[654.412353515625], dtype: float\n",
      "Rows: 1\n",
      "[654.412353515625], dtype: float\n",
      "Rows: 1\n",
      "[654.412353515625], dtype: float\n",
      "Rows: 1\n",
      "[654.412353515625], dtype: float\n",
      "Rows: 1\n",
      "[654.412353515625], dtype: float\n",
      "Rows: 1\n",
      "[654.412353515625], dtype: float\n",
      "Rows: 1\n",
      "[654.412353515625], dtype: float\n",
      "Rows: 1\n",
      "[654.412353515625], dtype: float\n",
      "Rows: 1\n",
      "[654.412353515625], dtype: float\n",
      "Rows: 1\n",
      "[654.412353515625], dtype: float\n",
      "Rows: 1\n",
      "[654.412353515625], dtype: float\n",
      "Rows: 1\n",
      "[654.412353515625], dtype: float\n",
      "Rows: 1\n",
      "[654.412353515625], dtype: float\n",
      "Rows: 1\n",
      "[654.412353515625], dtype: float\n",
      "Rows: 1\n",
      "[654.412353515625], dtype: float\n",
      "Rows: 1\n",
      "[654.412353515625], dtype: float\n",
      "Rows: 1\n",
      "[654.412353515625], dtype: float\n",
      "Rows: 1\n",
      "[654.412353515625], dtype: float\n",
      "Rows: 1\n",
      "[654.412353515625], dtype: float\n",
      "Rows: 1\n",
      "[654.412353515625], dtype: float\n",
      "Rows: 1\n",
      "[654.412353515625], dtype: float\n",
      "Rows: 1\n",
      "[654.412353515625], dtype: float\n",
      "Rows: 1\n",
      "[654.412353515625], dtype: float\n",
      "Rows: 1\n",
      "[654.412353515625], dtype: float\n",
      "Rows: 1\n",
      "[654.412353515625], dtype: float\n",
      "Rows: 1\n",
      "[654.412353515625], dtype: float\n",
      "Rows: 1\n",
      "[654.412353515625], dtype: float\n",
      "Rows: 1\n",
      "[654.412353515625], dtype: float\n",
      "Rows: 1\n",
      "[654.412353515625], dtype: float\n",
      "Rows: 1\n",
      "[654.412353515625], dtype: float\n",
      "Rows: 1\n",
      "[654.412353515625], dtype: float\n",
      "Rows: 1\n",
      "[654.412353515625], dtype: float\n",
      "Rows: 1\n",
      "[654.412353515625], dtype: float\n",
      "Rows: 1\n",
      "[654.412353515625], dtype: float\n",
      "Rows: 1\n",
      "[654.412353515625], dtype: float\n",
      "Rows: 1\n",
      "[654.412353515625], dtype: float\n",
      "Rows: 1\n",
      "[654.412353515625], dtype: float\n",
      "Rows: 1\n",
      "[654.412353515625], dtype: float\n",
      "Rows: 1\n",
      "[654.412353515625], dtype: float\n",
      "Rows: 1\n",
      "[654.412353515625], dtype: float\n",
      "Rows: 1\n",
      "[654.412353515625], dtype: float\n",
      "Rows: 1\n",
      "[654.412353515625], dtype: float\n",
      "Rows: 1\n",
      "[654.412353515625], dtype: float\n",
      "Rows: 1\n",
      "[654.412353515625], dtype: float\n",
      "Rows: 1\n",
      "[654.412353515625], dtype: float\n",
      "Rows: 1\n",
      "[654.412353515625], dtype: float\n",
      "Rows: 1\n",
      "[654.412353515625], dtype: float\n",
      "Rows: 1\n",
      "[654.412353515625], dtype: float\n",
      "Rows: 1\n",
      "[654.412353515625], dtype: float\n",
      "Rows: 1\n",
      "[654.412353515625], dtype: float\n",
      "Rows: 1\n",
      "[654.412353515625], dtype: float\n",
      "Rows: 1\n",
      "[654.412353515625], dtype: float\n",
      "Rows: 1\n",
      "[654.412353515625], dtype: float\n",
      "Rows: 1\n",
      "[654.412353515625], dtype: float\n",
      "Rows: 1\n",
      "[654.412353515625], dtype: float\n",
      "Rows: 1\n",
      "[654.412353515625], dtype: float\n",
      "Rows: 1\n",
      "[654.412353515625], dtype: float\n",
      "Rows: 1\n",
      "[654.412353515625], dtype: float\n",
      "Rows: 1\n",
      "[654.412353515625], dtype: float\n",
      "Rows: 1\n",
      "[654.412353515625], dtype: float\n",
      "Rows: 1\n",
      "[654.412353515625], dtype: float\n",
      "Rows: 1\n",
      "[654.412353515625], dtype: float\n",
      "Rows: 1\n",
      "[654.412353515625], dtype: float\n",
      "Rows: 1\n",
      "[654.412353515625], dtype: float\n",
      "Rows: 1\n",
      "[654.412353515625], dtype: float\n",
      "Rows: 1\n",
      "[654.412353515625], dtype: float\n",
      "Rows: 1\n",
      "[654.412353515625], dtype: float\n",
      "Rows: 1\n",
      "[654.412353515625], dtype: float\n",
      "Rows: 1\n",
      "[654.412353515625], dtype: float\n",
      "Rows: 1\n",
      "[654.412353515625], dtype: float\n",
      "Rows: 1\n",
      "[654.412353515625], dtype: float\n",
      "Rows: 1\n",
      "[654.412353515625], dtype: float\n",
      "Rows: 1\n",
      "[654.412353515625], dtype: float\n",
      "Rows: 1\n",
      "[654.412353515625], dtype: float\n",
      "Rows: 1\n",
      "[654.412353515625], dtype: float\n",
      "Rows: 1\n",
      "[654.412353515625], dtype: float\n",
      "Rows: 1\n",
      "[654.412353515625], dtype: float\n",
      "Rows: 1\n",
      "[654.412353515625], dtype: float\n",
      "Rows: 1\n",
      "[654.412353515625], dtype: float\n",
      "Rows: 1\n",
      "[654.412353515625], dtype: float\n",
      "Rows: 1\n",
      "[654.412353515625], dtype: float\n",
      "Rows: 1\n",
      "[654.412353515625], dtype: float\n",
      "Rows: 1\n",
      "[654.412353515625], dtype: float\n",
      "Rows: 1\n",
      "[654.412353515625], dtype: float\n",
      "Rows: 1\n",
      "[654.412353515625], dtype: float\n",
      "Rows: 1\n",
      "[654.412353515625], dtype: float\n",
      "Rows: 1\n",
      "[654.412353515625], dtype: float\n",
      "Rows: 1\n",
      "[654.412353515625], dtype: float\n",
      "Rows: 1\n",
      "[654.412353515625], dtype: float\n",
      "Rows: 1\n",
      "[654.412353515625], dtype: float\n",
      "Rows: 1\n",
      "[654.412353515625], dtype: float\n",
      "Rows: 1\n",
      "[654.412353515625], dtype: float\n",
      "Rows: 1\n",
      "[654.412353515625], dtype: float\n",
      "Rows: 1\n",
      "[654.412353515625], dtype: float\n",
      "Rows: 1\n",
      "[654.412353515625], dtype: float\n",
      "Rows: 1\n",
      "[654.412353515625], dtype: float\n",
      "Rows: 1\n",
      "[654.412353515625], dtype: float\n",
      "Rows: 1\n",
      "[654.412353515625], dtype: float\n",
      "Rows: 1\n",
      "[654.412353515625], dtype: float\n",
      "Rows: 1\n",
      "[654.412353515625], dtype: float\n",
      "Rows: 1\n",
      "[654.412353515625], dtype: float\n",
      "Rows: 1\n",
      "[654.412353515625], dtype: float\n",
      "Rows: 1\n",
      "[654.412353515625], dtype: float\n",
      "Rows: 1\n",
      "[654.412353515625], dtype: float\n",
      "Rows: 1\n",
      "[654.412353515625], dtype: float\n",
      "Rows: 1\n",
      "[654.412353515625], dtype: float\n",
      "Rows: 1\n",
      "[654.412353515625], dtype: float\n",
      "Rows: 1\n",
      "[654.412353515625], dtype: float\n",
      "Rows: 1\n",
      "[654.412353515625], dtype: float\n",
      "Rows: 1\n",
      "[654.412353515625], dtype: float\n",
      "Rows: 1\n",
      "[654.412353515625], dtype: float\n",
      "Rows: 1\n",
      "[654.412353515625], dtype: float\n",
      "Rows: 1\n",
      "[654.412353515625], dtype: float\n",
      "Rows: 1\n",
      "[654.412353515625], dtype: float\n",
      "Rows: 1\n",
      "[654.412353515625], dtype: float\n",
      "Rows: 1\n",
      "[654.412353515625], dtype: float\n",
      "Rows: 1\n",
      "[654.412353515625], dtype: float\n",
      "Rows: 1\n",
      "[654.412353515625], dtype: float\n",
      "Rows: 1\n",
      "[654.412353515625], dtype: float\n",
      "Rows: 1\n",
      "[654.412353515625], dtype: float\n",
      "Rows: 1\n",
      "[654.412353515625], dtype: float\n",
      "Rows: 1\n",
      "[654.412353515625], dtype: float\n",
      "Rows: 1\n",
      "[654.412353515625], dtype: float\n",
      "Rows: 1\n",
      "[654.412353515625], dtype: float\n",
      "Rows: 1\n",
      "[654.412353515625], dtype: float\n",
      "Rows: 1\n",
      "[654.412353515625], dtype: float\n",
      "Rows: 1\n",
      "[654.412353515625], dtype: float\n",
      "Rows: 1\n",
      "[654.412353515625], dtype: float\n",
      "Rows: 1\n",
      "[654.412353515625], dtype: float\n",
      "Rows: 1\n",
      "[654.412353515625], dtype: float\n",
      "Rows: 1\n",
      "[654.412353515625], dtype: float\n",
      "Rows: 1\n",
      "[654.412353515625], dtype: float\n",
      "Rows: 1\n",
      "[654.412353515625], dtype: float\n",
      "Rows: 1\n",
      "[654.412353515625], dtype: float\n",
      "Rows: 1\n",
      "[654.412353515625], dtype: float\n",
      "Rows: 1\n",
      "[654.412353515625], dtype: float\n",
      "Rows: 1\n",
      "[654.412353515625], dtype: float\n",
      "Rows: 1\n",
      "[654.412353515625], dtype: float\n",
      "Rows: 1\n",
      "[654.412353515625], dtype: float\n",
      "Rows: 1\n",
      "[654.412353515625], dtype: float\n",
      "Rows: 1\n",
      "[654.412353515625], dtype: float\n",
      "Rows: 1\n",
      "[654.412353515625], dtype: float\n",
      "Rows: 1\n",
      "[654.412353515625], dtype: float\n",
      "Rows: 1\n",
      "[654.412353515625], dtype: float\n",
      "Rows: 1\n",
      "[654.412353515625], dtype: float\n",
      "Rows: 1\n",
      "[654.412353515625], dtype: float\n",
      "Rows: 1\n",
      "[654.412353515625], dtype: float\n",
      "Rows: 1\n",
      "[654.412353515625], dtype: float\n",
      "Rows: 1\n",
      "[654.412353515625], dtype: float\n",
      "Rows: 1\n",
      "[654.412353515625], dtype: float\n",
      "Rows: 1\n",
      "[654.412353515625], dtype: float\n",
      "Rows: 1\n",
      "[654.412353515625], dtype: float\n",
      "Rows: 1\n",
      "[654.412353515625], dtype: float\n",
      "Rows: 1\n",
      "[654.412353515625], dtype: float\n",
      "Rows: 1\n",
      "[654.412353515625], dtype: float\n",
      "Rows: 1\n",
      "[654.412353515625], dtype: float\n",
      "Rows: 1\n",
      "[654.412353515625], dtype: float\n",
      "Rows: 1\n",
      "[654.412353515625], dtype: float\n",
      "Rows: 1\n",
      "[654.412353515625], dtype: float\n",
      "Rows: 1\n",
      "[654.412353515625], dtype: float\n",
      "Rows: 1\n",
      "[654.412353515625], dtype: float\n",
      "Rows: 1\n",
      "[654.412353515625], dtype: float\n",
      "Rows: 1\n",
      "[654.412353515625], dtype: float\n",
      "Rows: 1\n",
      "[654.412353515625], dtype: float\n",
      "Rows: 1\n",
      "[654.412353515625], dtype: float\n",
      "Rows: 1\n",
      "[654.412353515625], dtype: float\n",
      "Rows: 1\n",
      "[654.412353515625], dtype: float\n",
      "Rows: 1\n",
      "[654.412353515625], dtype: float\n",
      "Rows: 1\n",
      "[654.412353515625], dtype: float\n",
      "Rows: 1\n",
      "[654.412353515625], dtype: float\n",
      "Rows: 1\n",
      "[654.412353515625], dtype: float\n",
      "Rows: 1\n",
      "[654.412353515625], dtype: float\n",
      "Rows: 1\n",
      "[654.412353515625], dtype: float\n",
      "Rows: 1\n",
      "[654.412353515625], dtype: float\n",
      "Rows: 1\n",
      "[654.412353515625], dtype: float\n",
      "Rows: 1\n",
      "[654.412353515625], dtype: float\n",
      "Rows: 1\n",
      "[654.412353515625], dtype: float\n",
      "Rows: 1\n",
      "[654.412353515625], dtype: float\n",
      "Rows: 1\n",
      "[654.412353515625], dtype: float\n",
      "Rows: 1\n",
      "[654.412353515625], dtype: float\n",
      "Rows: 1\n",
      "[654.412353515625], dtype: float\n",
      "Rows: 1\n",
      "[654.412353515625], dtype: float\n",
      "Rows: 1\n",
      "[654.412353515625], dtype: float\n",
      "Rows: 1\n",
      "[654.412353515625], dtype: float\n",
      "Rows: 1\n",
      "[654.412353515625], dtype: float\n",
      "Rows: 1\n",
      "[654.412353515625], dtype: float\n",
      "Rows: 1\n",
      "[654.412353515625], dtype: float\n",
      "Rows: 1\n",
      "[654.412353515625], dtype: float\n",
      "Rows: 1\n",
      "[654.412353515625], dtype: float\n",
      "Rows: 1\n",
      "[654.412353515625], dtype: float\n",
      "Rows: 1\n",
      "[654.412353515625], dtype: float\n",
      "Rows: 1\n",
      "[654.412353515625], dtype: float\n",
      "Rows: 1\n",
      "[654.412353515625], dtype: float\n",
      "Rows: 1\n",
      "[654.412353515625], dtype: float\n",
      "Rows: 1\n",
      "[654.412353515625], dtype: float\n",
      "Rows: 1\n",
      "[2436.36572265625], dtype: float\n",
      "Rows: 1\n",
      "[2436.36572265625], dtype: float\n",
      "Rows: 1\n",
      "[2436.36572265625], dtype: float\n",
      "Rows: 1\n",
      "[2436.36572265625], dtype: float\n",
      "Rows: 1\n",
      "[2365.08251953125], dtype: float\n",
      "Rows: 1\n",
      "[2365.08251953125], dtype: float\n",
      "Rows: 1\n",
      "[2365.08251953125], dtype: float\n",
      "Rows: 1\n",
      "[2365.08251953125], dtype: float\n",
      "Rows: 1\n",
      "[2436.36572265625], dtype: float\n",
      "Rows: 1\n",
      "[2436.36572265625], dtype: float\n",
      "Rows: 1\n",
      "[2417.024169921875], dtype: float\n",
      "Rows: 1\n",
      "[2507.089111328125], dtype: float\n",
      "Rows: 1\n",
      "[2507.089111328125], dtype: float\n",
      "Rows: 1\n",
      "[2507.089111328125], dtype: float\n",
      "Rows: 1\n",
      "[2507.089111328125], dtype: float\n",
      "Rows: 1\n",
      "[2377.06689453125], dtype: float\n",
      "Rows: 1\n",
      "[2369.027587890625], dtype: float\n",
      "Rows: 1\n",
      "[2447.212890625], dtype: float\n",
      "Rows: 1\n",
      "[2507.089111328125], dtype: float\n",
      "Rows: 1\n",
      "[2507.089111328125], dtype: float\n",
      "Rows: 1\n",
      "[2507.089111328125], dtype: float\n",
      "Rows: 1\n",
      "[2507.089111328125], dtype: float\n",
      "Rows: 1\n",
      "[2507.089111328125], dtype: float\n",
      "Rows: 1\n",
      "[2507.089111328125], dtype: float\n",
      "Rows: 1\n",
      "[2507.089111328125], dtype: float\n",
      "Rows: 1\n",
      "[2507.089111328125], dtype: float\n",
      "Rows: 1\n",
      "[2416.49609375], dtype: float\n",
      "Rows: 1\n",
      "[2416.49609375], dtype: float\n",
      "Rows: 1\n",
      "[2416.49609375], dtype: float\n",
      "Rows: 1\n",
      "[2416.49609375], dtype: float\n",
      "Rows: 1\n",
      "[2416.49609375], dtype: float\n",
      "Rows: 1\n",
      "[2416.49609375], dtype: float\n",
      "Rows: 1\n",
      "[2416.49609375], dtype: float\n",
      "Rows: 1\n",
      "[2416.49609375], dtype: float\n",
      "Rows: 1\n",
      "[2416.49609375], dtype: float\n",
      "Rows: 1\n",
      "[2416.49609375], dtype: float\n",
      "Rows: 1\n",
      "[2416.49609375], dtype: float\n",
      "Rows: 1\n",
      "[2403.307373046875], dtype: float\n",
      "Rows: 1\n",
      "[2403.307373046875], dtype: float\n",
      "Rows: 1\n",
      "[2403.307373046875], dtype: float\n",
      "Rows: 1\n",
      "[2416.49609375], dtype: float\n",
      "Rows: 1\n",
      "[2416.49609375], dtype: float\n",
      "Rows: 1\n",
      "[2416.49609375], dtype: float\n",
      "Rows: 1\n",
      "[2416.49609375], dtype: float\n",
      "Rows: 1\n",
      "[2416.49609375], dtype: float\n",
      "Rows: 1\n",
      "[2416.49609375], dtype: float\n",
      "Rows: 1\n",
      "[2416.49609375], dtype: float\n",
      "Rows: 1\n",
      "[2397.209228515625], dtype: float\n",
      "Rows: 1\n",
      "[2397.209228515625], dtype: float\n",
      "Rows: 1\n",
      "[2397.209228515625], dtype: float\n",
      "Rows: 1\n",
      "[2397.209228515625], dtype: float\n",
      "Rows: 1\n",
      "[2397.209228515625], dtype: float\n",
      "Rows: 1\n",
      "[2397.209228515625], dtype: float\n",
      "Rows: 1\n",
      "[2397.209228515625], dtype: float\n",
      "Rows: 1\n",
      "[2397.209228515625], dtype: float\n",
      "Rows: 1\n",
      "[2397.209228515625], dtype: float\n",
      "Rows: 1\n",
      "[2397.209228515625], dtype: float\n",
      "Rows: 1\n",
      "[2397.209228515625], dtype: float\n",
      "Rows: 1\n",
      "[2397.209228515625], dtype: float\n",
      "Rows: 1\n",
      "[2397.209228515625], dtype: float\n",
      "Rows: 1\n",
      "[2397.209228515625], dtype: float\n",
      "Rows: 1\n",
      "[2397.209228515625], dtype: float\n",
      "Rows: 1\n",
      "[2397.209228515625], dtype: float\n",
      "Rows: 1\n",
      "[2397.209228515625], dtype: float\n",
      "Rows: 1\n",
      "[2397.209228515625], dtype: float\n",
      "Rows: 1\n",
      "[2396.624267578125], dtype: float\n",
      "Rows: 1\n",
      "[2396.624267578125], dtype: float\n",
      "Rows: 1\n",
      "[2396.624267578125], dtype: float\n",
      "Rows: 1\n",
      "[2396.624267578125], dtype: float\n",
      "Rows: 1\n",
      "[2396.624267578125], dtype: float\n",
      "Rows: 1\n",
      "[2396.624267578125], dtype: float\n",
      "Rows: 1\n",
      "[2396.624267578125], dtype: float\n",
      "Rows: 1\n",
      "[2396.624267578125], dtype: float\n",
      "Rows: 1\n",
      "[2396.624267578125], dtype: float\n",
      "Rows: 1\n",
      "[2396.624267578125], dtype: float\n",
      "Rows: 1\n",
      "[2396.624267578125], dtype: float\n",
      "Rows: 1\n",
      "[2397.209228515625], dtype: float\n",
      "Rows: 1\n",
      "[2397.209228515625], dtype: float\n",
      "Rows: 1\n",
      "[2397.209228515625], dtype: float\n",
      "Rows: 1\n",
      "[2397.209228515625], dtype: float\n",
      "Rows: 1\n",
      "[2397.209228515625], dtype: float\n",
      "Rows: 1\n",
      "[2397.209228515625], dtype: float\n",
      "Rows: 1\n",
      "[2397.209228515625], dtype: float\n",
      "Rows: 1\n",
      "[2397.209228515625], dtype: float\n",
      "Rows: 1\n",
      "[2397.209228515625], dtype: float\n",
      "Rows: 1\n",
      "[2397.209228515625], dtype: float\n",
      "Rows: 1\n",
      "[2397.209228515625], dtype: float\n",
      "Rows: 1\n",
      "[2397.209228515625], dtype: float\n",
      "Rows: 1\n",
      "[2397.209228515625], dtype: float\n",
      "Rows: 1\n",
      "[2397.209228515625], dtype: float\n",
      "Rows: 1\n",
      "[2397.209228515625], dtype: float\n",
      "Rows: 1\n",
      "[2397.209228515625], dtype: float\n",
      "Rows: 1\n",
      "[2397.209228515625], dtype: float\n",
      "Rows: 1\n",
      "[2397.209228515625], dtype: float\n",
      "Rows: 1\n",
      "[2397.209228515625], dtype: float\n",
      "Rows: 1\n",
      "[2397.209228515625], dtype: float\n",
      "Rows: 1\n",
      "[2397.209228515625], dtype: float\n",
      "Rows: 1\n",
      "[2397.209228515625], dtype: float\n",
      "Rows: 1\n",
      "[2397.209228515625], dtype: float\n",
      "Rows: 1\n",
      "[2397.209228515625], dtype: float\n",
      "Rows: 1\n",
      "[2397.209228515625], dtype: float\n",
      "Rows: 1\n",
      "[2397.209228515625], dtype: float\n",
      "Rows: 1\n",
      "[2397.209228515625], dtype: float\n",
      "Rows: 1\n",
      "[2397.209228515625], dtype: float\n",
      "Rows: 1\n",
      "[2397.209228515625], dtype: float\n",
      "Rows: 1\n",
      "[2397.209228515625], dtype: float\n",
      "Rows: 1\n",
      "[2397.209228515625], dtype: float\n",
      "Rows: 1\n",
      "[2397.209228515625], dtype: float\n",
      "Rows: 1\n",
      "[2397.209228515625], dtype: float\n",
      "Rows: 1\n",
      "[2397.209228515625], dtype: float\n",
      "Rows: 1\n",
      "[2397.209228515625], dtype: float\n",
      "Rows: 1\n",
      "[2397.209228515625], dtype: float\n",
      "Rows: 1\n",
      "[2397.209228515625], dtype: float\n",
      "Rows: 1\n",
      "[2397.209228515625], dtype: float\n",
      "Rows: 1\n",
      "[2397.209228515625], dtype: float\n",
      "Rows: 1\n",
      "[2397.209228515625], dtype: float\n",
      "Rows: 1\n",
      "[2397.209228515625], dtype: float\n",
      "Rows: 1\n",
      "[2397.209228515625], dtype: float\n",
      "Rows: 1\n",
      "[2397.209228515625], dtype: float\n",
      "Rows: 1\n",
      "[2397.209228515625], dtype: float\n",
      "Rows: 1\n",
      "[2397.209228515625], dtype: float\n",
      "Rows: 1\n",
      "[2397.209228515625], dtype: float\n",
      "Rows: 1\n",
      "[2397.209228515625], dtype: float\n",
      "Rows: 1\n",
      "[2397.209228515625], dtype: float\n",
      "Rows: 1\n",
      "[2397.209228515625], dtype: float\n",
      "Rows: 1\n",
      "[2397.209228515625], dtype: float\n",
      "Rows: 1\n",
      "[2397.209228515625], dtype: float\n",
      "Rows: 1\n",
      "[2397.209228515625], dtype: float\n",
      "Rows: 1\n",
      "[2397.209228515625], dtype: float\n",
      "Rows: 1\n",
      "[2397.209228515625], dtype: float\n",
      "Rows: 1\n",
      "[2397.209228515625], dtype: float\n",
      "Rows: 1\n",
      "[2397.209228515625], dtype: float\n",
      "Rows: 1\n",
      "[2397.209228515625], dtype: float\n",
      "Rows: 1\n",
      "[2397.209228515625], dtype: float\n",
      "Rows: 1\n",
      "[2397.209228515625], dtype: float\n",
      "Rows: 1\n",
      "[2397.209228515625], dtype: float\n",
      "Rows: 1\n",
      "[2397.209228515625], dtype: float\n",
      "Rows: 1\n",
      "[2397.209228515625], dtype: float\n",
      "Rows: 1\n",
      "[2397.209228515625], dtype: float\n",
      "Rows: 1\n",
      "[2397.209228515625], dtype: float\n",
      "Rows: 1\n",
      "[2397.209228515625], dtype: float\n",
      "Rows: 1\n",
      "[2397.209228515625], dtype: float\n",
      "Rows: 1\n",
      "[2397.209228515625], dtype: float\n",
      "Rows: 1\n",
      "[2397.209228515625], dtype: float\n",
      "Rows: 1\n",
      "[2397.209228515625], dtype: float\n",
      "Rows: 1\n",
      "[2397.209228515625], dtype: float\n",
      "Rows: 1\n",
      "[2397.209228515625], dtype: float\n",
      "Rows: 1\n",
      "[2397.209228515625], dtype: float\n",
      "Rows: 1\n",
      "[2397.209228515625], dtype: float\n",
      "Rows: 1\n",
      "[2397.209228515625], dtype: float\n",
      "Rows: 1\n",
      "[2397.209228515625], dtype: float\n",
      "Rows: 1\n",
      "[2397.209228515625], dtype: float\n",
      "Rows: 1\n",
      "[2397.209228515625], dtype: float\n",
      "Rows: 1\n",
      "[2397.209228515625], dtype: float\n",
      "Rows: 1\n",
      "[2397.209228515625], dtype: float\n",
      "Rows: 1\n",
      "[2397.209228515625]]\n"
     ]
    }
   ],
   "source": [
    "print(prediction_list)"
   ]
  },
  {
   "cell_type": "code",
   "execution_count": 133,
   "metadata": {
    "collapsed": true
   },
   "outputs": [],
   "source": [
    "evalSFrame = gl.SFrame(model_data)\n",
    "evalSFrame['predicted'] = prediction_list\n"
   ]
  },
  {
   "cell_type": "code",
   "execution_count": 138,
   "metadata": {
    "collapsed": false
   },
   "outputs": [
    {
     "ename": "RuntimeError",
     "evalue": "Runtime Exception. Cannot perform on non-numeric types!",
     "output_type": "error",
     "traceback": [
      "\u001b[1;31m---------------------------------------------------------------------------\u001b[0m",
      "\u001b[1;31mRuntimeError\u001b[0m                              Traceback (most recent call last)",
      "\u001b[1;32m<ipython-input-138-7bf31c6f83be>\u001b[0m in \u001b[0;36m<module>\u001b[1;34m()\u001b[0m\n\u001b[0;32m      1\u001b[0m \u001b[0mevalSFrame\u001b[0m\u001b[1;33m[\u001b[0m\u001b[1;34m'per_err'\u001b[0m\u001b[1;33m]\u001b[0m \u001b[1;33m=\u001b[0m \u001b[0mevalSFrame\u001b[0m\u001b[1;33m[\u001b[0m\u001b[1;34m'price'\u001b[0m\u001b[1;33m]\u001b[0m\u001b[1;33m/\u001b[0m\u001b[1;33m(\u001b[0m\u001b[0mevalSFrame\u001b[0m\u001b[1;33m[\u001b[0m\u001b[1;34m'predicted'\u001b[0m\u001b[1;33m]\u001b[0m\u001b[1;33m)\u001b[0m\u001b[1;33m\u001b[0m\u001b[0m\n\u001b[1;32m----> 2\u001b[1;33m \u001b[0mevalSFrame\u001b[0m\u001b[1;33m[\u001b[0m\u001b[1;34m'per_err'\u001b[0m\u001b[1;33m]\u001b[0m\u001b[1;33m.\u001b[0m\u001b[0mmax\u001b[0m\u001b[1;33m(\u001b[0m\u001b[1;33m)\u001b[0m\u001b[1;33m\u001b[0m\u001b[0m\n\u001b[0m",
      "\u001b[1;32mC:\\Users\\ADMIN\\Anaconda2\\envs\\gl-env\\lib\\site-packages\\graphlab\\data_structures\\sarray.pyc\u001b[0m in \u001b[0;36mmax\u001b[1;34m(self)\u001b[0m\n\u001b[0;32m   2108\u001b[0m         \"\"\"\n\u001b[0;32m   2109\u001b[0m         \u001b[1;32mwith\u001b[0m \u001b[0mcython_context\u001b[0m\u001b[1;33m(\u001b[0m\u001b[1;33m)\u001b[0m\u001b[1;33m:\u001b[0m\u001b[1;33m\u001b[0m\u001b[0m\n\u001b[1;32m-> 2110\u001b[1;33m             \u001b[1;32mreturn\u001b[0m \u001b[0mself\u001b[0m\u001b[1;33m.\u001b[0m\u001b[0m__proxy__\u001b[0m\u001b[1;33m.\u001b[0m\u001b[0mmax\u001b[0m\u001b[1;33m(\u001b[0m\u001b[1;33m)\u001b[0m\u001b[1;33m\u001b[0m\u001b[0m\n\u001b[0m\u001b[0;32m   2111\u001b[0m \u001b[1;33m\u001b[0m\u001b[0m\n\u001b[0;32m   2112\u001b[0m \u001b[1;33m\u001b[0m\u001b[0m\n",
      "\u001b[1;32mC:\\Users\\ADMIN\\Anaconda2\\envs\\gl-env\\lib\\site-packages\\graphlab\\cython\\context.pyc\u001b[0m in \u001b[0;36m__exit__\u001b[1;34m(self, exc_type, exc_value, traceback)\u001b[0m\n\u001b[0;32m     47\u001b[0m             \u001b[1;32mif\u001b[0m \u001b[1;32mnot\u001b[0m \u001b[0mself\u001b[0m\u001b[1;33m.\u001b[0m\u001b[0mshow_cython_trace\u001b[0m\u001b[1;33m:\u001b[0m\u001b[1;33m\u001b[0m\u001b[0m\n\u001b[0;32m     48\u001b[0m                 \u001b[1;31m# To hide cython trace, we re-raise from here\u001b[0m\u001b[1;33m\u001b[0m\u001b[1;33m\u001b[0m\u001b[0m\n\u001b[1;32m---> 49\u001b[1;33m                 \u001b[1;32mraise\u001b[0m \u001b[0mexc_type\u001b[0m\u001b[1;33m(\u001b[0m\u001b[0mexc_value\u001b[0m\u001b[1;33m)\u001b[0m\u001b[1;33m\u001b[0m\u001b[0m\n\u001b[0m\u001b[0;32m     50\u001b[0m             \u001b[1;32melse\u001b[0m\u001b[1;33m:\u001b[0m\u001b[1;33m\u001b[0m\u001b[0m\n\u001b[0;32m     51\u001b[0m                 \u001b[1;31m# To show the full trace, we do nothing and let exception propagate\u001b[0m\u001b[1;33m\u001b[0m\u001b[1;33m\u001b[0m\u001b[0m\n",
      "\u001b[1;31mRuntimeError\u001b[0m: Runtime Exception. Cannot perform on non-numeric types!"
     ]
    }
   ],
   "source": [
    "evalSFrame['per_err'] = evalSFrame['price']/(evalSFrame['predicted'])\n",
    "evalSFrame['per_err'].max()"
   ]
  },
  {
   "cell_type": "markdown",
   "metadata": {
    "collapsed": false
   },
   "source": [
    " model_train, model_test = model_data.random_split(.75, seed=5)"
   ]
  },
  {
   "cell_type": "markdown",
   "metadata": {
    "collapsed": true
   },
   "source": [
    "model_date_train_mask = model_data['int_times']>model_data['int_times'].mean()\n",
    "model_date_train = model_data[model_date_train_mask]"
   ]
  },
  {
   "cell_type": "markdown",
   "metadata": {
    "collapsed": true
   },
   "source": [
    "model_date_test_mask = model_data['int_times']<model_data['int_times'].mean()\n",
    "model_date_test = model_data[model_date_test_mask]"
   ]
  },
  {
   "cell_type": "markdown",
   "metadata": {
    "collapsed": false
   },
   "source": [
    "evalSFrame = gl.SFrame()\n",
    "evaldateSFrame = gl.SFrame()\n",
    "\n",
    "model_date = gl.regression.create(model_date_train, target='price')\n",
    "model = gl.regression.create(model_train, target='price')"
   ]
  },
  {
   "cell_type": "markdown",
   "metadata": {
    "collapsed": false
   },
   "source": [
    "price_prediction = model.predict(model_test)\n",
    "price_date_prediction = model_date.predict(model_date_test)"
   ]
  },
  {
   "cell_type": "markdown",
   "metadata": {
    "collapsed": false,
    "scrolled": true
   },
   "source": [
    "price_prediction.size()"
   ]
  },
  {
   "cell_type": "markdown",
   "metadata": {
    "collapsed": false
   },
   "source": [
    "evalSFrame['real'] = model_test['price']\n",
    "evalSFrame['predict'] = price_prediction\n",
    "evalSFrame['per_err'] = evalSFrame['real']/(evalSFrame['predict'])\n",
    "evalSFrame['per_err'].mean()"
   ]
  },
  {
   "cell_type": "markdown",
   "metadata": {
    "collapsed": false
   },
   "source": [
    "evaldateSFrame['real'] = model_date_test['price']\n",
    "evaldateSFrame['predict'] = price_date_prediction\n",
    "evaldateSFrame['per_err'] = evaldateSFrame['real']/(evaldateSFrame['predict'])\n",
    "evaldateSFrame['per_err'].mean()"
   ]
  },
  {
   "cell_type": "markdown",
   "metadata": {
    "collapsed": false
   },
   "source": [
    "evaldateSFrame.show(view='ScatterPlot')"
   ]
  },
  {
   "cell_type": "markdown",
   "metadata": {
    "collapsed": false
   },
   "source": [
    "evaldateSFrame.head()"
   ]
  },
  {
   "cell_type": "markdown",
   "metadata": {},
   "source": [
    "evalSFrame['error_per'] = evalSFrame['real'].divide(evalSFrame['predict'])"
   ]
  }
 ],
 "metadata": {
  "kernelspec": {
   "display_name": "Python 2",
   "language": "python",
   "name": "python2"
  },
  "language_info": {
   "codemirror_mode": {
    "name": "ipython",
    "version": 2
   },
   "file_extension": ".py",
   "mimetype": "text/x-python",
   "name": "python",
   "nbconvert_exporter": "python",
   "pygments_lexer": "ipython2",
   "version": "2.7.11"
  }
 },
 "nbformat": 4,
 "nbformat_minor": 0
}
